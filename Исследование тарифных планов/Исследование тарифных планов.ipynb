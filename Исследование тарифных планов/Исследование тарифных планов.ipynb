{
 "cells": [
  {
   "cell_type": "markdown",
   "metadata": {
    "deletable": false
   },
   "source": [
    "# Исследование тарифных планов.\n"
   ]
  },
  {
   "cell_type": "markdown",
   "metadata": {},
   "source": [
    "# Описание проекта \n",
    "Вы аналитик компании «Мегалайн» — федерального оператора сотовой связи. Клиентам предлагают два тарифных плана: «Смарт» и «Ультра». Чтобы скорректировать рекламный бюджет, коммерческий департамент хочет понять, какой тариф приносит больше денег.\n",
    "Вам предстоит сделать предварительный анализ тарифов на небольшой выборке клиентов. В вашем распоряжении данные 500 пользователей «Мегалайна»: кто они, откуда, каким тарифом пользуются, сколько звонков и сообщений каждый отправил за 2018-й год. Нужно проанализировать поведение клиентов и сделать вывод — какой тариф лучше."
   ]
  },
  {
   "cell_type": "markdown",
   "metadata": {},
   "source": [
    "# Описание данных "
   ]
  },
  {
   "cell_type": "markdown",
   "metadata": {},
   "source": [
    "Таблица **users** — информация о пользователях:\n",
    "-  user_id — уникальный идентификатор пользователя\n",
    "-  first_name — имя пользователя\n",
    "-  last_name — фамилия пользователя\n",
    "-  age — возраст пользователя (годы)\n",
    "-  reg_date — дата подключения тарифа (день, месяц, год)\n",
    "-  churn_date — дата прекращения пользования тарифом (если значение пропущено, значит, тариф ещё действовал на момент выгрузки данных)\n",
    "-  city — город проживания пользователя\n",
    "-  tarif — название тарифного плана\n",
    "\n",
    "Таблица **calls** — информация о звонках:\n",
    "-  id — уникальный номер звонка\n",
    "-  call_date — дата звонка\n",
    "-  duration — длительность звонка в минутах\n",
    "-  user_id — идентификатор пользователя, сделавшего звонок\n",
    "\n",
    "Таблица **messages** — информация о сообщениях:\n",
    "-  id — уникальный номер звонка\n",
    "-  message_date — дата сообщения\n",
    "-  user_id — идентификатор пользователя, отправившего сообщение\n",
    "\n",
    "Таблица **internet** — информация об интернет-сессиях:\n",
    "-  id — уникальный номер сессии\n",
    "-  mb_used — объём потраченного за сессию интернет-трафика (в мегабайтах)\n",
    "-  session_date — дата интернет-сессии\n",
    "-  user_id — идентификатор пользователя\n",
    "\n",
    "Таблица **tariffs** — информация о тарифах:\n",
    "-  tariff_name — название тарифа\n",
    "-  rub_monthly_fee — ежемесячная абонентская плата в рублях\n",
    "-  minutes_included — количество минут разговора в месяц, включённых в абонентскую плату\n",
    "-  messages_included — количество сообщений в месяц, включённых в абонентскую плату\n",
    "-  mb_per_month_included — объём интернет-трафика, включённого в абонентскую плату (в мегабайтах)\n",
    "-  rub_per_minute — стоимость минуты разговора сверх тарифного пакета (например, если в тарифе 100 минут разговора в месяц, то со 101 минуты будет взиматься плата)\n",
    "-  rub_per_message — стоимость отправки сообщения сверх тарифного пакета\n",
    "-  rub_per_gb — стоимость дополнительного гигабайта интернет-трафика сверх тарифного пакета (1 гигабайт = 1024 мегабайта)"
   ]
  },
  {
   "cell_type": "markdown",
   "metadata": {},
   "source": [
    "# Описание тарифных планов\n",
    "**Тариф «Смарт»**\n",
    "1. Ежемесячная плата: 550 рублей\n",
    "2. Включено 500 минут разговора, 50 сообщений и 15 Гб интернет-трафика\n",
    "3. Стоимость услуг сверх тарифного пакета:\n",
    "-  Минута разговора — 3 рубля. Количество использованных минут и мегабайтов «Мегалайн» всегда округляет вверх. Если пользователь проговорил всего 1 секунду, в тарифе засчитывается целая минута.\n",
    "-  Сообщение — 3 рубля.\n",
    "-  1 Гб интернет-трафика — 200 рублей.\n",
    "\n",
    "**Тариф «Ультра»**\n",
    "1. Ежемесячная плата: 1950 рублей\n",
    "2. Включено 3000 минут разговора, 1000 сообщений и 30 Гб интернет-трафика\n",
    "3. Стоимость услуг сверх тарифного пакета:\n",
    "-  Минута разговора — 1 рубль;\n",
    "-  Сообщение — 1 рубль;\n",
    "-  1 Гб интернет-трафика: 150 рублей."
   ]
  },
  {
   "cell_type": "code",
   "execution_count": null,
   "metadata": {},
   "outputs": [],
   "source": [
    "import pandas as pd"
   ]
  },
  {
   "cell_type": "markdown",
   "metadata": {
    "deletable": false,
    "editable": false
   },
   "source": [
    "### Откройте файл с данными и изучите общую информацию"
   ]
  },
  {
   "cell_type": "markdown",
   "metadata": {
    "deletable": false,
    "editable": false,
    "tags": [
     "start_task"
    ]
   },
   "source": [
    "**Задание 1.** Откройте файл `/datasets/calls.csv`, сохраните датафрейм в переменную `calls`."
   ]
  },
  {
   "cell_type": "code",
   "execution_count": 6,
   "metadata": {
    "deletable": false
   },
   "outputs": [],
   "source": [
    "calls=pd.read_csv('/datasets/calls.csv')"
   ]
  },
  {
   "cell_type": "markdown",
   "metadata": {
    "deletable": false,
    "editable": false,
    "tags": [
     "start_task"
    ]
   },
   "source": [
    "**Задание 2.** Выведите первые 5 строк датафрейма `calls`."
   ]
  },
  {
   "cell_type": "code",
   "execution_count": 7,
   "metadata": {
    "deletable": false
   },
   "outputs": [
    {
     "data": {
      "text/html": [
       "<div>\n",
       "<style scoped>\n",
       "    .dataframe tbody tr th:only-of-type {\n",
       "        vertical-align: middle;\n",
       "    }\n",
       "\n",
       "    .dataframe tbody tr th {\n",
       "        vertical-align: top;\n",
       "    }\n",
       "\n",
       "    .dataframe thead th {\n",
       "        text-align: right;\n",
       "    }\n",
       "</style>\n",
       "<table border=\"1\" class=\"dataframe\">\n",
       "  <thead>\n",
       "    <tr style=\"text-align: right;\">\n",
       "      <th></th>\n",
       "      <th>id</th>\n",
       "      <th>call_date</th>\n",
       "      <th>duration</th>\n",
       "      <th>user_id</th>\n",
       "    </tr>\n",
       "  </thead>\n",
       "  <tbody>\n",
       "    <tr>\n",
       "      <th>0</th>\n",
       "      <td>1000_0</td>\n",
       "      <td>2018-07-25</td>\n",
       "      <td>0.00</td>\n",
       "      <td>1000</td>\n",
       "    </tr>\n",
       "    <tr>\n",
       "      <th>1</th>\n",
       "      <td>1000_1</td>\n",
       "      <td>2018-08-17</td>\n",
       "      <td>0.00</td>\n",
       "      <td>1000</td>\n",
       "    </tr>\n",
       "    <tr>\n",
       "      <th>2</th>\n",
       "      <td>1000_2</td>\n",
       "      <td>2018-06-11</td>\n",
       "      <td>2.85</td>\n",
       "      <td>1000</td>\n",
       "    </tr>\n",
       "    <tr>\n",
       "      <th>3</th>\n",
       "      <td>1000_3</td>\n",
       "      <td>2018-09-21</td>\n",
       "      <td>13.80</td>\n",
       "      <td>1000</td>\n",
       "    </tr>\n",
       "    <tr>\n",
       "      <th>4</th>\n",
       "      <td>1000_4</td>\n",
       "      <td>2018-12-15</td>\n",
       "      <td>5.18</td>\n",
       "      <td>1000</td>\n",
       "    </tr>\n",
       "  </tbody>\n",
       "</table>\n",
       "</div>"
      ],
      "text/plain": [
       "       id   call_date  duration  user_id\n",
       "0  1000_0  2018-07-25      0.00     1000\n",
       "1  1000_1  2018-08-17      0.00     1000\n",
       "2  1000_2  2018-06-11      2.85     1000\n",
       "3  1000_3  2018-09-21     13.80     1000\n",
       "4  1000_4  2018-12-15      5.18     1000"
      ]
     },
     "execution_count": 7,
     "metadata": {},
     "output_type": "execute_result"
    }
   ],
   "source": [
    "calls.head()"
   ]
  },
  {
   "cell_type": "markdown",
   "metadata": {
    "deletable": false,
    "editable": false,
    "tags": [
     "start_task"
    ]
   },
   "source": [
    "**Задание 3.** Выведите основную информацию для датафрейма `calls` с помощью метода `info()`."
   ]
  },
  {
   "cell_type": "code",
   "execution_count": 8,
   "metadata": {
    "deletable": false
   },
   "outputs": [
    {
     "name": "stdout",
     "output_type": "stream",
     "text": [
      "<class 'pandas.core.frame.DataFrame'>\n",
      "RangeIndex: 202607 entries, 0 to 202606\n",
      "Data columns (total 4 columns):\n",
      " #   Column     Non-Null Count   Dtype  \n",
      "---  ------     --------------   -----  \n",
      " 0   id         202607 non-null  object \n",
      " 1   call_date  202607 non-null  object \n",
      " 2   duration   202607 non-null  float64\n",
      " 3   user_id    202607 non-null  int64  \n",
      "dtypes: float64(1), int64(1), object(2)\n",
      "memory usage: 6.2+ MB\n"
     ]
    }
   ],
   "source": [
    "calls.info()"
   ]
  },
  {
   "cell_type": "markdown",
   "metadata": {
    "deletable": false,
    "editable": false,
    "tags": [
     "start_task"
    ]
   },
   "source": [
    "**Задание 4.** С помощью метода `hist()` выведите гистограмму для столбца с продолжительностью звонков. Подумайте о том, как распределены данные."
   ]
  },
  {
   "cell_type": "code",
   "execution_count": 9,
   "metadata": {
    "deletable": false
   },
   "outputs": [
    {
     "data": {
      "text/plain": [
       "<AxesSubplot:>"
      ]
     },
     "execution_count": 9,
     "metadata": {},
     "output_type": "execute_result"
    },
    {
     "data": {
      "image/png": "[encoded data removed]",
      "text/plain": [
       "<Figure size 432x288 with 1 Axes>"
      ]
     },
     "metadata": {
      "needs_background": "light"
     },
     "output_type": "display_data"
    }
   ],
   "source": [
    "calls['duration'].hist()"
   ]
  },
  {
   "cell_type": "markdown",
   "metadata": {
    "deletable": false,
    "editable": false,
    "tags": [
     "start_task"
    ]
   },
   "source": [
    "**Задание 5.** Откройте файл `/datasets/internet.csv`, сохраните датафрейм в переменную `sessions`."
   ]
  },
  {
   "cell_type": "code",
   "execution_count": 10,
   "metadata": {
    "deletable": false
   },
   "outputs": [],
   "source": [
    "sessions=pd.read_csv('/datasets/internet.csv')"
   ]
  },
  {
   "cell_type": "markdown",
   "metadata": {
    "deletable": false,
    "editable": false,
    "tags": [
     "start_task"
    ]
   },
   "source": [
    "**Задание 6.** Выведите первые 5 строк датафрейма `sessions`."
   ]
  },
  {
   "cell_type": "code",
   "execution_count": 11,
   "metadata": {
    "deletable": false
   },
   "outputs": [
    {
     "data": {
      "text/html": [
       "<div>\n",
       "<style scoped>\n",
       "    .dataframe tbody tr th:only-of-type {\n",
       "        vertical-align: middle;\n",
       "    }\n",
       "\n",
       "    .dataframe tbody tr th {\n",
       "        vertical-align: top;\n",
       "    }\n",
       "\n",
       "    .dataframe thead th {\n",
       "        text-align: right;\n",
       "    }\n",
       "</style>\n",
       "<table border=\"1\" class=\"dataframe\">\n",
       "  <thead>\n",
       "    <tr style=\"text-align: right;\">\n",
       "      <th></th>\n",
       "      <th>Unnamed: 0</th>\n",
       "      <th>id</th>\n",
       "      <th>mb_used</th>\n",
       "      <th>session_date</th>\n",
       "      <th>user_id</th>\n",
       "    </tr>\n",
       "  </thead>\n",
       "  <tbody>\n",
       "    <tr>\n",
       "      <th>0</th>\n",
       "      <td>0</td>\n",
       "      <td>1000_0</td>\n",
       "      <td>112.95</td>\n",
       "      <td>2018-11-25</td>\n",
       "      <td>1000</td>\n",
       "    </tr>\n",
       "    <tr>\n",
       "      <th>1</th>\n",
       "      <td>1</td>\n",
       "      <td>1000_1</td>\n",
       "      <td>1052.81</td>\n",
       "      <td>2018-09-07</td>\n",
       "      <td>1000</td>\n",
       "    </tr>\n",
       "    <tr>\n",
       "      <th>2</th>\n",
       "      <td>2</td>\n",
       "      <td>1000_2</td>\n",
       "      <td>1197.26</td>\n",
       "      <td>2018-06-25</td>\n",
       "      <td>1000</td>\n",
       "    </tr>\n",
       "    <tr>\n",
       "      <th>3</th>\n",
       "      <td>3</td>\n",
       "      <td>1000_3</td>\n",
       "      <td>550.27</td>\n",
       "      <td>2018-08-22</td>\n",
       "      <td>1000</td>\n",
       "    </tr>\n",
       "    <tr>\n",
       "      <th>4</th>\n",
       "      <td>4</td>\n",
       "      <td>1000_4</td>\n",
       "      <td>302.56</td>\n",
       "      <td>2018-09-24</td>\n",
       "      <td>1000</td>\n",
       "    </tr>\n",
       "  </tbody>\n",
       "</table>\n",
       "</div>"
      ],
      "text/plain": [
       "   Unnamed: 0      id  mb_used session_date  user_id\n",
       "0           0  1000_0   112.95   2018-11-25     1000\n",
       "1           1  1000_1  1052.81   2018-09-07     1000\n",
       "2           2  1000_2  1197.26   2018-06-25     1000\n",
       "3           3  1000_3   550.27   2018-08-22     1000\n",
       "4           4  1000_4   302.56   2018-09-24     1000"
      ]
     },
     "execution_count": 11,
     "metadata": {},
     "output_type": "execute_result"
    }
   ],
   "source": [
    "sessions.head()"
   ]
  },
  {
   "cell_type": "markdown",
   "metadata": {
    "deletable": false,
    "editable": false,
    "tags": [
     "start_task"
    ]
   },
   "source": [
    "**Задание 7.** Выведите основную информацию для датафрейма sessions с помощью метода `info()`. "
   ]
  },
  {
   "cell_type": "code",
   "execution_count": 12,
   "metadata": {
    "deletable": false
   },
   "outputs": [
    {
     "name": "stdout",
     "output_type": "stream",
     "text": [
      "<class 'pandas.core.frame.DataFrame'>\n",
      "RangeIndex: 149396 entries, 0 to 149395\n",
      "Data columns (total 5 columns):\n",
      " #   Column        Non-Null Count   Dtype  \n",
      "---  ------        --------------   -----  \n",
      " 0   Unnamed: 0    149396 non-null  int64  \n",
      " 1   id            149396 non-null  object \n",
      " 2   mb_used       149396 non-null  float64\n",
      " 3   session_date  149396 non-null  object \n",
      " 4   user_id       149396 non-null  int64  \n",
      "dtypes: float64(1), int64(2), object(2)\n",
      "memory usage: 5.7+ MB\n"
     ]
    }
   ],
   "source": [
    "sessions.info()"
   ]
  },
  {
   "cell_type": "markdown",
   "metadata": {
    "deletable": false,
    "editable": false,
    "tags": [
     "start_task"
    ]
   },
   "source": [
    "**Задание 8.** С помощью метода `hist()` выведите гистограмму для столбца с количеством потраченных мегабайт."
   ]
  },
  {
   "cell_type": "code",
   "execution_count": 13,
   "metadata": {
    "deletable": false
   },
   "outputs": [
    {
     "data": {
      "text/plain": [
       "<AxesSubplot:>"
      ]
     },
     "execution_count": 13,
     "metadata": {},
     "output_type": "execute_result"
    },
    {
     "data": {
      "image/png": "[encoded data removed]",
      "text/plain": [
       "<Figure size 432x288 with 1 Axes>"
      ]
     },
     "metadata": {
      "needs_background": "light"
     },
     "output_type": "display_data"
    }
   ],
   "source": [
    "sessions['mb_used'].hist()"
   ]
  },
  {
   "cell_type": "markdown",
   "metadata": {
    "deletable": false,
    "editable": false,
    "tags": [
     "start_task"
    ]
   },
   "source": [
    "**Задание 9.** Откройте файл `/datasets/messages.csv`, сохраните датафрейм в переменную `messages`."
   ]
  },
  {
   "cell_type": "code",
   "execution_count": 14,
   "metadata": {
    "deletable": false
   },
   "outputs": [],
   "source": [
    "messages=pd.read_csv('/datasets/messages.csv')"
   ]
  },
  {
   "cell_type": "markdown",
   "metadata": {
    "deletable": false,
    "editable": false,
    "tags": [
     "start_task"
    ]
   },
   "source": [
    "**Задание 10.** Выведите первые 5 строк датафрейма `messages`."
   ]
  },
  {
   "cell_type": "code",
   "execution_count": 15,
   "metadata": {
    "deletable": false
   },
   "outputs": [
    {
     "data": {
      "text/html": [
       "<div>\n",
       "<style scoped>\n",
       "    .dataframe tbody tr th:only-of-type {\n",
       "        vertical-align: middle;\n",
       "    }\n",
       "\n",
       "    .dataframe tbody tr th {\n",
       "        vertical-align: top;\n",
       "    }\n",
       "\n",
       "    .dataframe thead th {\n",
       "        text-align: right;\n",
       "    }\n",
       "</style>\n",
       "<table border=\"1\" class=\"dataframe\">\n",
       "  <thead>\n",
       "    <tr style=\"text-align: right;\">\n",
       "      <th></th>\n",
       "      <th>id</th>\n",
       "      <th>message_date</th>\n",
       "      <th>user_id</th>\n",
       "    </tr>\n",
       "  </thead>\n",
       "  <tbody>\n",
       "    <tr>\n",
       "      <th>0</th>\n",
       "      <td>1000_0</td>\n",
       "      <td>2018-06-27</td>\n",
       "      <td>1000</td>\n",
       "    </tr>\n",
       "    <tr>\n",
       "      <th>1</th>\n",
       "      <td>1000_1</td>\n",
       "      <td>2018-10-08</td>\n",
       "      <td>1000</td>\n",
       "    </tr>\n",
       "    <tr>\n",
       "      <th>2</th>\n",
       "      <td>1000_2</td>\n",
       "      <td>2018-08-04</td>\n",
       "      <td>1000</td>\n",
       "    </tr>\n",
       "    <tr>\n",
       "      <th>3</th>\n",
       "      <td>1000_3</td>\n",
       "      <td>2018-06-16</td>\n",
       "      <td>1000</td>\n",
       "    </tr>\n",
       "    <tr>\n",
       "      <th>4</th>\n",
       "      <td>1000_4</td>\n",
       "      <td>2018-12-05</td>\n",
       "      <td>1000</td>\n",
       "    </tr>\n",
       "  </tbody>\n",
       "</table>\n",
       "</div>"
      ],
      "text/plain": [
       "       id message_date  user_id\n",
       "0  1000_0   2018-06-27     1000\n",
       "1  1000_1   2018-10-08     1000\n",
       "2  1000_2   2018-08-04     1000\n",
       "3  1000_3   2018-06-16     1000\n",
       "4  1000_4   2018-12-05     1000"
      ]
     },
     "execution_count": 15,
     "metadata": {},
     "output_type": "execute_result"
    }
   ],
   "source": [
    "messages.head()\n",
    "                                                                                                                                                                                                                                                                                                                                                                                                                                                                                                                                                                                                                                                                                                                                                                      "
   ]
  },
  {
   "cell_type": "markdown",
   "metadata": {
    "deletable": false,
    "editable": false,
    "tags": [
     "start_task"
    ]
   },
   "source": [
    "**Задание 11.** Выведите основную информацию для датафрейма `messages` с помощью метода `info()`. "
   ]
  },
  {
   "cell_type": "code",
   "execution_count": 16,
   "metadata": {
    "deletable": false
   },
   "outputs": [
    {
     "name": "stdout",
     "output_type": "stream",
     "text": [
      "<class 'pandas.core.frame.DataFrame'>\n",
      "RangeIndex: 123036 entries, 0 to 123035\n",
      "Data columns (total 3 columns):\n",
      " #   Column        Non-Null Count   Dtype \n",
      "---  ------        --------------   ----- \n",
      " 0   id            123036 non-null  object\n",
      " 1   message_date  123036 non-null  object\n",
      " 2   user_id       123036 non-null  int64 \n",
      "dtypes: int64(1), object(2)\n",
      "memory usage: 2.8+ MB\n"
     ]
    }
   ],
   "source": [
    "messages.info()"
   ]
  },
  {
   "cell_type": "markdown",
   "metadata": {
    "deletable": false,
    "editable": false,
    "tags": [
     "start_task"
    ]
   },
   "source": [
    "**Задание 12.** Откройте файл `/datasets/tariffs.csv`, сохраните датафрейм в переменную `tariffs`."
   ]
  },
  {
   "cell_type": "code",
   "execution_count": 17,
   "metadata": {
    "deletable": false
   },
   "outputs": [],
   "source": [
    "tariffs=pd.read_csv('/datasets/tariffs.csv')"
   ]
  },
  {
   "cell_type": "markdown",
   "metadata": {
    "deletable": false,
    "editable": false,
    "tags": [
     "start_task"
    ]
   },
   "source": [
    "**Задание 13.** Выведите весь датафрейм `tariffs`."
   ]
  },
  {
   "cell_type": "code",
   "execution_count": 18,
   "metadata": {
    "deletable": false
   },
   "outputs": [
    {
     "data": {
      "text/html": [
       "<div>\n",
       "<style scoped>\n",
       "    .dataframe tbody tr th:only-of-type {\n",
       "        vertical-align: middle;\n",
       "    }\n",
       "\n",
       "    .dataframe tbody tr th {\n",
       "        vertical-align: top;\n",
       "    }\n",
       "\n",
       "    .dataframe thead th {\n",
       "        text-align: right;\n",
       "    }\n",
       "</style>\n",
       "<table border=\"1\" class=\"dataframe\">\n",
       "  <thead>\n",
       "    <tr style=\"text-align: right;\">\n",
       "      <th></th>\n",
       "      <th>messages_included</th>\n",
       "      <th>mb_per_month_included</th>\n",
       "      <th>minutes_included</th>\n",
       "      <th>rub_monthly_fee</th>\n",
       "      <th>rub_per_gb</th>\n",
       "      <th>rub_per_message</th>\n",
       "      <th>rub_per_minute</th>\n",
       "      <th>tariff_name</th>\n",
       "    </tr>\n",
       "  </thead>\n",
       "  <tbody>\n",
       "    <tr>\n",
       "      <th>0</th>\n",
       "      <td>50</td>\n",
       "      <td>15360</td>\n",
       "      <td>500</td>\n",
       "      <td>550</td>\n",
       "      <td>200</td>\n",
       "      <td>3</td>\n",
       "      <td>3</td>\n",
       "      <td>smart</td>\n",
       "    </tr>\n",
       "    <tr>\n",
       "      <th>1</th>\n",
       "      <td>1000</td>\n",
       "      <td>30720</td>\n",
       "      <td>3000</td>\n",
       "      <td>1950</td>\n",
       "      <td>150</td>\n",
       "      <td>1</td>\n",
       "      <td>1</td>\n",
       "      <td>ultra</td>\n",
       "    </tr>\n",
       "  </tbody>\n",
       "</table>\n",
       "</div>"
      ],
      "text/plain": [
       "   messages_included  mb_per_month_included  minutes_included  \\\n",
       "0                 50                  15360               500   \n",
       "1               1000                  30720              3000   \n",
       "\n",
       "   rub_monthly_fee  rub_per_gb  rub_per_message  rub_per_minute tariff_name  \n",
       "0              550         200                3               3       smart  \n",
       "1             1950         150                1               1       ultra  "
      ]
     },
     "execution_count": 18,
     "metadata": {},
     "output_type": "execute_result"
    }
   ],
   "source": [
    "tariffs"
   ]
  },
  {
   "cell_type": "markdown",
   "metadata": {
    "deletable": false,
    "editable": false,
    "tags": [
     "start_task"
    ]
   },
   "source": [
    "**Задание 14.** Выведите основную информацию для датафрейма `tariffs` с помощью метода `info()`."
   ]
  },
  {
   "cell_type": "code",
   "execution_count": 19,
   "metadata": {
    "deletable": false
   },
   "outputs": [
    {
     "name": "stdout",
     "output_type": "stream",
     "text": [
      "<class 'pandas.core.frame.DataFrame'>\n",
      "RangeIndex: 2 entries, 0 to 1\n",
      "Data columns (total 8 columns):\n",
      " #   Column                 Non-Null Count  Dtype \n",
      "---  ------                 --------------  ----- \n",
      " 0   messages_included      2 non-null      int64 \n",
      " 1   mb_per_month_included  2 non-null      int64 \n",
      " 2   minutes_included       2 non-null      int64 \n",
      " 3   rub_monthly_fee        2 non-null      int64 \n",
      " 4   rub_per_gb             2 non-null      int64 \n",
      " 5   rub_per_message        2 non-null      int64 \n",
      " 6   rub_per_minute         2 non-null      int64 \n",
      " 7   tariff_name            2 non-null      object\n",
      "dtypes: int64(7), object(1)\n",
      "memory usage: 256.0+ bytes\n"
     ]
    }
   ],
   "source": [
    "tariffs.info()"
   ]
  },
  {
   "cell_type": "markdown",
   "metadata": {
    "deletable": false,
    "editable": false,
    "tags": [
     "start_task"
    ]
   },
   "source": [
    "**Задание 15.** Откройте файл `/datasets/users.csv`, сохраните датафрейм в переменную `users`."
   ]
  },
  {
   "cell_type": "code",
   "execution_count": 20,
   "metadata": {
    "deletable": false
   },
   "outputs": [],
   "source": [
    "users=pd.read_csv('/datasets/users.csv')"
   ]
  },
  {
   "cell_type": "markdown",
   "metadata": {
    "deletable": false,
    "editable": false,
    "tags": [
     "start_task"
    ]
   },
   "source": [
    "**Задание 16.** Выведите первые 5 строк датафрейма `users`."
   ]
  },
  {
   "cell_type": "code",
   "execution_count": 21,
   "metadata": {
    "deletable": false
   },
   "outputs": [
    {
     "data": {
      "text/html": [
       "<div>\n",
       "<style scoped>\n",
       "    .dataframe tbody tr th:only-of-type {\n",
       "        vertical-align: middle;\n",
       "    }\n",
       "\n",
       "    .dataframe tbody tr th {\n",
       "        vertical-align: top;\n",
       "    }\n",
       "\n",
       "    .dataframe thead th {\n",
       "        text-align: right;\n",
       "    }\n",
       "</style>\n",
       "<table border=\"1\" class=\"dataframe\">\n",
       "  <thead>\n",
       "    <tr style=\"text-align: right;\">\n",
       "      <th></th>\n",
       "      <th>user_id</th>\n",
       "      <th>age</th>\n",
       "      <th>churn_date</th>\n",
       "      <th>city</th>\n",
       "      <th>first_name</th>\n",
       "      <th>last_name</th>\n",
       "      <th>reg_date</th>\n",
       "      <th>tariff</th>\n",
       "    </tr>\n",
       "  </thead>\n",
       "  <tbody>\n",
       "    <tr>\n",
       "      <th>0</th>\n",
       "      <td>1000</td>\n",
       "      <td>52</td>\n",
       "      <td>NaN</td>\n",
       "      <td>Краснодар</td>\n",
       "      <td>Рафаил</td>\n",
       "      <td>Верещагин</td>\n",
       "      <td>2018-05-25</td>\n",
       "      <td>ultra</td>\n",
       "    </tr>\n",
       "    <tr>\n",
       "      <th>1</th>\n",
       "      <td>1001</td>\n",
       "      <td>41</td>\n",
       "      <td>NaN</td>\n",
       "      <td>Москва</td>\n",
       "      <td>Иван</td>\n",
       "      <td>Ежов</td>\n",
       "      <td>2018-11-01</td>\n",
       "      <td>smart</td>\n",
       "    </tr>\n",
       "    <tr>\n",
       "      <th>2</th>\n",
       "      <td>1002</td>\n",
       "      <td>59</td>\n",
       "      <td>NaN</td>\n",
       "      <td>Стерлитамак</td>\n",
       "      <td>Евгений</td>\n",
       "      <td>Абрамович</td>\n",
       "      <td>2018-06-17</td>\n",
       "      <td>smart</td>\n",
       "    </tr>\n",
       "    <tr>\n",
       "      <th>3</th>\n",
       "      <td>1003</td>\n",
       "      <td>23</td>\n",
       "      <td>NaN</td>\n",
       "      <td>Москва</td>\n",
       "      <td>Белла</td>\n",
       "      <td>Белякова</td>\n",
       "      <td>2018-08-17</td>\n",
       "      <td>ultra</td>\n",
       "    </tr>\n",
       "    <tr>\n",
       "      <th>4</th>\n",
       "      <td>1004</td>\n",
       "      <td>68</td>\n",
       "      <td>NaN</td>\n",
       "      <td>Новокузнецк</td>\n",
       "      <td>Татьяна</td>\n",
       "      <td>Авдеенко</td>\n",
       "      <td>2018-05-14</td>\n",
       "      <td>ultra</td>\n",
       "    </tr>\n",
       "  </tbody>\n",
       "</table>\n",
       "</div>"
      ],
      "text/plain": [
       "   user_id  age churn_date         city first_name  last_name    reg_date  \\\n",
       "0     1000   52        NaN    Краснодар     Рафаил  Верещагин  2018-05-25   \n",
       "1     1001   41        NaN       Москва       Иван       Ежов  2018-11-01   \n",
       "2     1002   59        NaN  Стерлитамак    Евгений  Абрамович  2018-06-17   \n",
       "3     1003   23        NaN       Москва      Белла   Белякова  2018-08-17   \n",
       "4     1004   68        NaN  Новокузнецк    Татьяна   Авдеенко  2018-05-14   \n",
       "\n",
       "  tariff  \n",
       "0  ultra  \n",
       "1  smart  \n",
       "2  smart  \n",
       "3  ultra  \n",
       "4  ultra  "
      ]
     },
     "execution_count": 21,
     "metadata": {},
     "output_type": "execute_result"
    }
   ],
   "source": [
    "users.head()"
   ]
  },
  {
   "cell_type": "markdown",
   "metadata": {
    "deletable": false,
    "editable": false,
    "tags": [
     "start_task"
    ]
   },
   "source": [
    "**Задание 17.** Выведите основную информацию для датафрейма `users` с помощью метода `info()`."
   ]
  },
  {
   "cell_type": "code",
   "execution_count": 22,
   "metadata": {
    "deletable": false
   },
   "outputs": [
    {
     "name": "stdout",
     "output_type": "stream",
     "text": [
      "<class 'pandas.core.frame.DataFrame'>\n",
      "RangeIndex: 500 entries, 0 to 499\n",
      "Data columns (total 8 columns):\n",
      " #   Column      Non-Null Count  Dtype \n",
      "---  ------      --------------  ----- \n",
      " 0   user_id     500 non-null    int64 \n",
      " 1   age         500 non-null    int64 \n",
      " 2   churn_date  38 non-null     object\n",
      " 3   city        500 non-null    object\n",
      " 4   first_name  500 non-null    object\n",
      " 5   last_name   500 non-null    object\n",
      " 6   reg_date    500 non-null    object\n",
      " 7   tariff      500 non-null    object\n",
      "dtypes: int64(2), object(6)\n",
      "memory usage: 31.4+ KB\n"
     ]
    }
   ],
   "source": [
    "users.info()"
   ]
  },
  {
   "cell_type": "markdown",
   "metadata": {
    "deletable": false,
    "editable": false
   },
   "source": [
    "### Подготовьте данные"
   ]
  },
  {
   "cell_type": "markdown",
   "metadata": {
    "deletable": false,
    "editable": false,
    "tags": [
     "start_task"
    ]
   },
   "source": [
    "**Задание 18.**  Приведите столбцы\n",
    "\n",
    "- `reg_date` из таблицы `users`\n",
    "- `churn_date` из таблицы `users`\n",
    "- `call_date` из таблицы `calls`\n",
    "- `message_date` из таблицы `messages`\n",
    "- `session_date` из таблицы `sessions`\n",
    "\n",
    "к новому типу с помощью метода `to_datetime()`."
   ]
  },
  {
   "cell_type": "code",
   "execution_count": 23,
   "metadata": {
    "deletable": false
   },
   "outputs": [],
   "source": [
    "users['reg_date']=pd.to_datetime(users['reg_date'], format='%Y-%m-%d')# обработка столбца reg_date\n",
    "# обработка столбца churn_date\n",
    "users['churn_date']=pd.to_datetime(users['churn_date'], format='%Y-%m-%d')\n",
    "# обработка столбца call_date\n",
    "messages['message_date']=pd.to_datetime(messages['message_date'], format='%Y-%m-%d')\n",
    "# обработка столбца message_date\n",
    "sessions['session_date']=pd.to_datetime(sessions['session_date'], format='%Y-%m-%d')\n",
    "# обработка столбца session_date\n",
    "calls['call_date']=pd.to_datetime(calls['call_date'], format='%Y-%m-%d')"
   ]
  },
  {
   "cell_type": "markdown",
   "metadata": {
    "deletable": false,
    "editable": false,
    "tags": [
     "start_task"
    ]
   },
   "source": [
    "**Задание 19.** В данных вы найдёте звонки с нулевой продолжительностью. Это не ошибка: нулями обозначены пропущенные звонки, поэтому их не нужно удалять.\n",
    "\n",
    "Однако в столбце `duration` датафрейма `calls` значения дробные. Округлите значения столбца `duration` вверх с помощью метода `numpy.ceil()` и приведите столбец `duration` к типу `int`."
   ]
  },
  {
   "cell_type": "code",
   "execution_count": 24,
   "metadata": {
    "deletable": false
   },
   "outputs": [],
   "source": [
    "import numpy as np\n",
    "calls['duration']=np.ceil(calls['duration'])\n",
    "calls['duration']=calls['duration'].astype(int)\n",
    "# округление значений столбца duration с помощью np.ceil() и приведение типа к int"
   ]
  },
  {
   "cell_type": "markdown",
   "metadata": {
    "deletable": false,
    "editable": false,
    "tags": [
     "start_task"
    ]
   },
   "source": [
    "**Задание 20.** Удалите столбец `Unnamed: 0` из датафрейма `sessions`. Столбец с таким названием возникает, когда данные сохраняют с указанием индекса (`df.to_csv(..., index=column)`). Он сейчас не понадобится."
   ]
  },
  {
   "cell_type": "code",
   "execution_count": 25,
   "metadata": {
    "deletable": false
   },
   "outputs": [],
   "source": [
    "sessions.drop('Unnamed: 0', inplace=True, axis=1)"
   ]
  },
  {
   "cell_type": "markdown",
   "metadata": {
    "deletable": false,
    "editable": false,
    "tags": [
     "start_task"
    ]
   },
   "source": [
    "**Задание 21.** Создайте столбец `month` в датафрейме `calls` с номером месяца из столбца `call_date`."
   ]
  },
  {
   "cell_type": "code",
   "execution_count": 26,
   "metadata": {
    "deletable": false
   },
   "outputs": [],
   "source": [
    "calls['month'] = pd.to_datetime(calls['call_date']).dt.month"
   ]
  },
  {
   "cell_type": "markdown",
   "metadata": {
    "deletable": false,
    "editable": false,
    "tags": [
     "start_task"
    ]
   },
   "source": [
    "**Задание 22.** Создайте столбец `month` в датафрейме `messages` с номером месяца из столбца `message_date`."
   ]
  },
  {
   "cell_type": "code",
   "execution_count": 27,
   "metadata": {
    "deletable": false
   },
   "outputs": [],
   "source": [
    "messages['month']=pd.to_datetime(messages['message_date']).dt.month"
   ]
  },
  {
   "cell_type": "markdown",
   "metadata": {
    "deletable": false,
    "editable": false,
    "tags": [
     "start_task"
    ]
   },
   "source": [
    "**Задание 23.** Создайте столбец `month` в датафрейме `sessions` с номером месяца из столбца `session_date`."
   ]
  },
  {
   "cell_type": "code",
   "execution_count": 28,
   "metadata": {
    "deletable": false
   },
   "outputs": [],
   "source": [
    "sessions['month']=pd.to_datetime(sessions['session_date']).dt.month"
   ]
  },
  {
   "cell_type": "markdown",
   "metadata": {
    "deletable": false,
    "editable": false,
    "tags": [
     "start_task"
    ]
   },
   "source": [
    "**Задание 24.** Посчитайте количество сделанных звонков разговора для каждого пользователя по месяцам."
   ]
  },
  {
   "cell_type": "code",
   "execution_count": 29,
   "metadata": {
    "deletable": false
   },
   "outputs": [],
   "source": [
    "calls_per_month=calls.groupby(['user_id','month']).agg(calls=('duration', 'count'))"
   ]
  },
  {
   "cell_type": "code",
   "execution_count": 2,
   "metadata": {
    "deletable": false
   },
   "outputs": [],
   "source": [
    "calls_per_month.head(30)# вывод 30 первых строк на экран"
   ]
  },
  {
   "cell_type": "markdown",
   "metadata": {
    "deletable": false,
    "editable": false,
    "tags": [
     "start_task"
    ]
   },
   "source": [
    "**Задание 25.** Посчитайте количество израсходованных минут разговора для каждого пользователя по месяцам и сохраните в переменную `minutes_per_month`. Вам понадобится\n",
    "\n",
    "- сгруппировать датафрейм с информацией о звонках по двум столбцам — с идентификаторами пользователей и номерами месяцев;\n",
    "- после группировки выбрать столбец `duration`\n",
    "- затем применить метод для подсчёта суммы.\n",
    "\n",
    "Выведите первые 30 строчек `minutes_per_month`."
   ]
  },
  {
   "cell_type": "code",
   "execution_count": 3,
   "metadata": {
    "deletable": false
   },
   "outputs": [],
   "source": [
    "minutes_per_month=calls.groupby(['user_id','month']).agg(minutes=('duration', 'sum'))"
   ]
  },
  {
   "cell_type": "code",
   "execution_count": 4,
   "metadata": {
    "deletable": false
   },
   "outputs": [],
   "source": [
    "minutes_per_month.head(30)# вывод первых 30 строк на экран"
   ]
  },
  {
   "cell_type": "markdown",
   "metadata": {
    "deletable": false,
    "editable": false,
    "tags": [
     "start_task"
    ]
   },
   "source": [
    "**Задание 26.** Посчитайте количество отправленных сообщений по месяцам для каждого пользователя и сохраните в переменную `messages_per_month`. Вам понадобится\n",
    "\n",
    "- сгруппировать датафрейм с информацией о сообщениях по двум столбцам — с идентификаторами пользователей и номерами месяцев;\n",
    "- после группировки выбрать столбец `message_date`;\n",
    "- затем применить метод для подсчёта количества.\n",
    "\n",
    "Выведите первые 30 строчек `messages_per_month`."
   ]
  },
  {
   "cell_type": "code",
   "execution_count": 5,
   "metadata": {
    "deletable": false
   },
   "outputs": [],
   "source": [
    "messages_per_month=messages.groupby(['user_id','month']).agg(messages=('message_date', 'count'))"
   ]
  },
  {
   "cell_type": "code",
   "execution_count": 6,
   "metadata": {
    "deletable": false
   },
   "outputs": [],
   "source": [
    "messages_per_month.head(30)# вывод первых 30 строк на экран"
   ]
  },
  {
   "cell_type": "markdown",
   "metadata": {
    "deletable": false,
    "editable": false,
    "tags": [
     "start_task"
    ]
   },
   "source": [
    "**Задание 27.** Посчитайте количество потраченных мегабайт по месяцам для каждого пользователя и сохраните в переменную `sessions_per_month`. Вам понадобится\n",
    "\n",
    "- сгруппировать датафрейм с информацией о сообщениях по двум столбцам — с идентификаторами пользователей и номерами месяцев;\n",
    "- затем применить метод для подсчёта суммы: `.agg({'mb_used': 'sum'})`"
   ]
  },
  {
   "cell_type": "code",
   "execution_count": 7,
   "metadata": {
    "deletable": false
   },
   "outputs": [],
   "source": [
    "sessions_per_month=sessions.groupby(['user_id','month']).agg({'mb_used': 'sum'})"
   ]
  },
  {
   "cell_type": "code",
   "execution_count": 8,
   "metadata": {
    "deletable": false
   },
   "outputs": [],
   "source": [
    "sessions_per_month.head(30)"
   ]
  },
  {
   "cell_type": "markdown",
   "metadata": {
    "deletable": false,
    "editable": false
   },
   "source": [
    "### Анализ данных и подсчёт выручки"
   ]
  },
  {
   "cell_type": "markdown",
   "metadata": {
    "deletable": false,
    "editable": false
   },
   "source": [
    "Объединяем все посчитанные выше значения в один датафрейм `user_behavior`.\n",
    "Для каждой пары \"пользователь - месяц\" будут доступны информация о тарифе, количестве звонков, сообщений и потраченных мегабайтах."
   ]
  },
  {
   "cell_type": "code",
   "execution_count": 33,
   "metadata": {
    "deletable": false
   },
   "outputs": [
    {
     "data": {
      "text/plain": [
       "7.6"
      ]
     },
     "execution_count": 33,
     "metadata": {},
     "output_type": "execute_result"
    }
   ],
   "source": [
    "users['churn_date'].count() / users['churn_date'].shape[0] * 100"
   ]
  },
  {
   "cell_type": "markdown",
   "metadata": {
    "deletable": false,
    "editable": false
   },
   "source": [
    "Расторгли договор 7.6% клиентов из датасета"
   ]
  },
  {
   "cell_type": "code",
   "execution_count": 34,
   "metadata": {
    "deletable": false
   },
   "outputs": [
    {
     "data": {
      "text/html": [
       "<div>\n",
       "<style scoped>\n",
       "    .dataframe tbody tr th:only-of-type {\n",
       "        vertical-align: middle;\n",
       "    }\n",
       "\n",
       "    .dataframe tbody tr th {\n",
       "        vertical-align: top;\n",
       "    }\n",
       "\n",
       "    .dataframe thead th {\n",
       "        text-align: right;\n",
       "    }\n",
       "</style>\n",
       "<table border=\"1\" class=\"dataframe\">\n",
       "  <thead>\n",
       "    <tr style=\"text-align: right;\">\n",
       "      <th></th>\n",
       "      <th>user_id</th>\n",
       "      <th>month</th>\n",
       "      <th>calls</th>\n",
       "      <th>messages</th>\n",
       "      <th>mb_used</th>\n",
       "      <th>minutes</th>\n",
       "      <th>age</th>\n",
       "      <th>churn_date</th>\n",
       "      <th>city</th>\n",
       "      <th>first_name</th>\n",
       "      <th>last_name</th>\n",
       "      <th>reg_date</th>\n",
       "      <th>tariff</th>\n",
       "    </tr>\n",
       "  </thead>\n",
       "  <tbody>\n",
       "    <tr>\n",
       "      <th>0</th>\n",
       "      <td>1000</td>\n",
       "      <td>5</td>\n",
       "      <td>22.0</td>\n",
       "      <td>22.0</td>\n",
       "      <td>2253.49</td>\n",
       "      <td>159.0</td>\n",
       "      <td>52</td>\n",
       "      <td>NaT</td>\n",
       "      <td>Краснодар</td>\n",
       "      <td>Рафаил</td>\n",
       "      <td>Верещагин</td>\n",
       "      <td>2018-05-25</td>\n",
       "      <td>ultra</td>\n",
       "    </tr>\n",
       "    <tr>\n",
       "      <th>1</th>\n",
       "      <td>1000</td>\n",
       "      <td>6</td>\n",
       "      <td>43.0</td>\n",
       "      <td>60.0</td>\n",
       "      <td>23233.77</td>\n",
       "      <td>172.0</td>\n",
       "      <td>52</td>\n",
       "      <td>NaT</td>\n",
       "      <td>Краснодар</td>\n",
       "      <td>Рафаил</td>\n",
       "      <td>Верещагин</td>\n",
       "      <td>2018-05-25</td>\n",
       "      <td>ultra</td>\n",
       "    </tr>\n",
       "    <tr>\n",
       "      <th>2</th>\n",
       "      <td>1000</td>\n",
       "      <td>7</td>\n",
       "      <td>47.0</td>\n",
       "      <td>75.0</td>\n",
       "      <td>14003.64</td>\n",
       "      <td>340.0</td>\n",
       "      <td>52</td>\n",
       "      <td>NaT</td>\n",
       "      <td>Краснодар</td>\n",
       "      <td>Рафаил</td>\n",
       "      <td>Верещагин</td>\n",
       "      <td>2018-05-25</td>\n",
       "      <td>ultra</td>\n",
       "    </tr>\n",
       "    <tr>\n",
       "      <th>3</th>\n",
       "      <td>1000</td>\n",
       "      <td>8</td>\n",
       "      <td>52.0</td>\n",
       "      <td>81.0</td>\n",
       "      <td>14055.93</td>\n",
       "      <td>408.0</td>\n",
       "      <td>52</td>\n",
       "      <td>NaT</td>\n",
       "      <td>Краснодар</td>\n",
       "      <td>Рафаил</td>\n",
       "      <td>Верещагин</td>\n",
       "      <td>2018-05-25</td>\n",
       "      <td>ultra</td>\n",
       "    </tr>\n",
       "    <tr>\n",
       "      <th>4</th>\n",
       "      <td>1000</td>\n",
       "      <td>9</td>\n",
       "      <td>58.0</td>\n",
       "      <td>57.0</td>\n",
       "      <td>14568.91</td>\n",
       "      <td>466.0</td>\n",
       "      <td>52</td>\n",
       "      <td>NaT</td>\n",
       "      <td>Краснодар</td>\n",
       "      <td>Рафаил</td>\n",
       "      <td>Верещагин</td>\n",
       "      <td>2018-05-25</td>\n",
       "      <td>ultra</td>\n",
       "    </tr>\n",
       "  </tbody>\n",
       "</table>\n",
       "</div>"
      ],
      "text/plain": [
       "   user_id  month  calls  messages   mb_used  minutes  age churn_date  \\\n",
       "0     1000      5   22.0      22.0   2253.49    159.0   52        NaT   \n",
       "1     1000      6   43.0      60.0  23233.77    172.0   52        NaT   \n",
       "2     1000      7   47.0      75.0  14003.64    340.0   52        NaT   \n",
       "3     1000      8   52.0      81.0  14055.93    408.0   52        NaT   \n",
       "4     1000      9   58.0      57.0  14568.91    466.0   52        NaT   \n",
       "\n",
       "        city first_name  last_name   reg_date tariff  \n",
       "0  Краснодар     Рафаил  Верещагин 2018-05-25  ultra  \n",
       "1  Краснодар     Рафаил  Верещагин 2018-05-25  ultra  \n",
       "2  Краснодар     Рафаил  Верещагин 2018-05-25  ultra  \n",
       "3  Краснодар     Рафаил  Верещагин 2018-05-25  ultra  \n",
       "4  Краснодар     Рафаил  Верещагин 2018-05-25  ultra  "
      ]
     },
     "execution_count": 34,
     "metadata": {},
     "output_type": "execute_result"
    }
   ],
   "source": [
    "user_behavior = calls_per_month\\\n",
    "    .merge(messages_per_month, left_index=True, right_index=True, how='outer')\\\n",
    "    .merge(sessions_per_month, left_index=True, right_index=True, how='outer')\\\n",
    "    .merge(minutes_per_month, left_index=True, right_index=True, how='outer')\\\n",
    "    .reset_index()\\\n",
    "    .merge(users, how='left', left_on='user_id', right_on='user_id')\\\n",
    "\n",
    "user_behavior.head()"
   ]
  },
  {
   "cell_type": "markdown",
   "metadata": {
    "deletable": false,
    "editable": false
   },
   "source": [
    "Проверим пропуски в таблице `user_behavior` после объединения:"
   ]
  },
  {
   "cell_type": "code",
   "execution_count": 35,
   "metadata": {
    "deletable": false
   },
   "outputs": [
    {
     "data": {
      "text/plain": [
       "user_id          0\n",
       "month            0\n",
       "calls           40\n",
       "messages       497\n",
       "mb_used         11\n",
       "minutes         40\n",
       "age              0\n",
       "churn_date    3027\n",
       "city             0\n",
       "first_name       0\n",
       "last_name        0\n",
       "reg_date         0\n",
       "tariff           0\n",
       "dtype: int64"
      ]
     },
     "execution_count": 35,
     "metadata": {},
     "output_type": "execute_result"
    }
   ],
   "source": [
    "user_behavior.isna().sum()"
   ]
  },
  {
   "cell_type": "markdown",
   "metadata": {
    "deletable": false,
    "editable": false
   },
   "source": [
    "Заполним образовавшиеся пропуски в данных:"
   ]
  },
  {
   "cell_type": "code",
   "execution_count": 36,
   "metadata": {
    "deletable": false
   },
   "outputs": [],
   "source": [
    "user_behavior['calls'] = user_behavior['calls'].fillna(0)\n",
    "user_behavior['minutes'] = user_behavior['minutes'].fillna(0)\n",
    "user_behavior['messages'] = user_behavior['messages'].fillna(0)\n",
    "user_behavior['mb_used'] = user_behavior['mb_used'].fillna(0)"
   ]
  },
  {
   "cell_type": "markdown",
   "metadata": {
    "deletable": false,
    "editable": false
   },
   "source": [
    "Присоединяем информацию о тарифах"
   ]
  },
  {
   "cell_type": "code",
   "execution_count": 37,
   "metadata": {
    "deletable": false
   },
   "outputs": [],
   "source": [
    "# переименование столбца tariff_name на более простое tariff\n",
    "\n",
    "tariffs = tariffs.rename(\n",
    "    columns={\n",
    "        'tariff_name': 'tariff'\n",
    "    }\n",
    ")"
   ]
  },
  {
   "cell_type": "code",
   "execution_count": 38,
   "metadata": {
    "deletable": false
   },
   "outputs": [],
   "source": [
    "user_behavior = user_behavior.merge(tariffs, on='tariff')"
   ]
  },
  {
   "cell_type": "markdown",
   "metadata": {
    "deletable": false,
    "editable": false
   },
   "source": [
    "Считаем количество минут разговора, сообщений и мегабайт, превышающих включенные в тариф\n"
   ]
  },
  {
   "cell_type": "code",
   "execution_count": 39,
   "metadata": {
    "deletable": false
   },
   "outputs": [],
   "source": [
    "user_behavior['paid_minutes'] = user_behavior['minutes'] - user_behavior['minutes_included']\n",
    "user_behavior['paid_messages'] = user_behavior['messages'] - user_behavior['messages_included']\n",
    "user_behavior['paid_mb'] = user_behavior['mb_used'] - user_behavior['mb_per_month_included']\n",
    "\n",
    "for col in ['paid_messages', 'paid_minutes', 'paid_mb']:\n",
    "    user_behavior.loc[user_behavior[col] < 0, col] = 0"
   ]
  },
  {
   "cell_type": "markdown",
   "metadata": {
    "deletable": false,
    "editable": false
   },
   "source": [
    "Переводим превышающие тариф мегабайты в гигабайты и сохраняем в столбец `paid_gb`"
   ]
  },
  {
   "cell_type": "code",
   "execution_count": 40,
   "metadata": {
    "deletable": false
   },
   "outputs": [],
   "source": [
    "user_behavior['paid_gb'] = np.ceil(user_behavior['paid_mb'] / 1024).astype(int)"
   ]
  },
  {
   "cell_type": "markdown",
   "metadata": {
    "deletable": false,
    "editable": false
   },
   "source": [
    "Считаем выручку за минуты разговора, сообщения и интернет"
   ]
  },
  {
   "cell_type": "code",
   "execution_count": 41,
   "metadata": {
    "deletable": false
   },
   "outputs": [],
   "source": [
    "user_behavior['cost_minutes'] = user_behavior['paid_minutes'] * user_behavior['rub_per_minute']\n",
    "user_behavior['cost_messages'] = user_behavior['paid_messages'] * user_behavior['rub_per_message']\n",
    "user_behavior['cost_gb'] = user_behavior['paid_gb'] * user_behavior['rub_per_gb']"
   ]
  },
  {
   "cell_type": "markdown",
   "metadata": {
    "deletable": false,
    "editable": false
   },
   "source": [
    "Считаем помесячную выручку с каждого пользователя, она будет храниться в столбец `total_cost`"
   ]
  },
  {
   "cell_type": "code",
   "execution_count": 42,
   "metadata": {
    "deletable": false
   },
   "outputs": [],
   "source": [
    "user_behavior['total_cost'] = \\\n",
    "      user_behavior['rub_monthly_fee']\\\n",
    "    + user_behavior['cost_minutes']\\\n",
    "    + user_behavior['cost_messages']\\\n",
    "    + user_behavior['cost_gb']"
   ]
  },
  {
   "cell_type": "markdown",
   "metadata": {
    "deletable": false,
    "editable": false
   },
   "source": [
    "Датафрейм `stats_df` для каждой пары \"месяц-тариф\" будет хранить основные характеристики"
   ]
  },
  {
   "cell_type": "code",
   "execution_count": 43,
   "metadata": {
    "deletable": false
   },
   "outputs": [
    {
     "data": {
      "text/html": [
       "<div>\n",
       "<style scoped>\n",
       "    .dataframe tbody tr th:only-of-type {\n",
       "        vertical-align: middle;\n",
       "    }\n",
       "\n",
       "    .dataframe tbody tr th {\n",
       "        vertical-align: top;\n",
       "    }\n",
       "\n",
       "    .dataframe thead th {\n",
       "        text-align: right;\n",
       "    }\n",
       "</style>\n",
       "<table border=\"1\" class=\"dataframe\">\n",
       "  <thead>\n",
       "    <tr style=\"text-align: right;\">\n",
       "      <th></th>\n",
       "      <th>month</th>\n",
       "      <th>tariff</th>\n",
       "      <th>calls_mean</th>\n",
       "      <th>sessions_mean</th>\n",
       "      <th>messages_mean</th>\n",
       "      <th>minutes_mean</th>\n",
       "      <th>calls_std</th>\n",
       "      <th>sessions_std</th>\n",
       "      <th>messages_std</th>\n",
       "      <th>minutes_std</th>\n",
       "      <th>calls_median</th>\n",
       "      <th>sessions_median</th>\n",
       "      <th>messages_median</th>\n",
       "      <th>minutes_median</th>\n",
       "    </tr>\n",
       "  </thead>\n",
       "  <tbody>\n",
       "    <tr>\n",
       "      <th>0</th>\n",
       "      <td>1</td>\n",
       "      <td>smart</td>\n",
       "      <td>27.68</td>\n",
       "      <td>8513.72</td>\n",
       "      <td>18.24</td>\n",
       "      <td>203.85</td>\n",
       "      <td>20.81</td>\n",
       "      <td>6444.68</td>\n",
       "      <td>16.20</td>\n",
       "      <td>154.23</td>\n",
       "      <td>20.5</td>\n",
       "      <td>7096.18</td>\n",
       "      <td>15.0</td>\n",
       "      <td>162.5</td>\n",
       "    </tr>\n",
       "    <tr>\n",
       "      <th>1</th>\n",
       "      <td>1</td>\n",
       "      <td>ultra</td>\n",
       "      <td>59.44</td>\n",
       "      <td>13140.68</td>\n",
       "      <td>33.78</td>\n",
       "      <td>428.11</td>\n",
       "      <td>41.64</td>\n",
       "      <td>6865.35</td>\n",
       "      <td>30.67</td>\n",
       "      <td>269.76</td>\n",
       "      <td>51.0</td>\n",
       "      <td>14791.37</td>\n",
       "      <td>32.0</td>\n",
       "      <td>382.0</td>\n",
       "    </tr>\n",
       "    <tr>\n",
       "      <th>2</th>\n",
       "      <td>2</td>\n",
       "      <td>smart</td>\n",
       "      <td>40.19</td>\n",
       "      <td>11597.05</td>\n",
       "      <td>24.09</td>\n",
       "      <td>298.69</td>\n",
       "      <td>25.39</td>\n",
       "      <td>6247.35</td>\n",
       "      <td>21.75</td>\n",
       "      <td>190.82</td>\n",
       "      <td>38.5</td>\n",
       "      <td>12553.71</td>\n",
       "      <td>20.0</td>\n",
       "      <td>258.0</td>\n",
       "    </tr>\n",
       "    <tr>\n",
       "      <th>3</th>\n",
       "      <td>2</td>\n",
       "      <td>ultra</td>\n",
       "      <td>41.54</td>\n",
       "      <td>11775.94</td>\n",
       "      <td>21.96</td>\n",
       "      <td>297.12</td>\n",
       "      <td>40.97</td>\n",
       "      <td>10644.64</td>\n",
       "      <td>26.77</td>\n",
       "      <td>296.51</td>\n",
       "      <td>25.0</td>\n",
       "      <td>7327.12</td>\n",
       "      <td>5.5</td>\n",
       "      <td>168.0</td>\n",
       "    </tr>\n",
       "    <tr>\n",
       "      <th>4</th>\n",
       "      <td>3</td>\n",
       "      <td>smart</td>\n",
       "      <td>54.32</td>\n",
       "      <td>15104.16</td>\n",
       "      <td>31.86</td>\n",
       "      <td>390.05</td>\n",
       "      <td>25.54</td>\n",
       "      <td>5828.24</td>\n",
       "      <td>26.80</td>\n",
       "      <td>191.89</td>\n",
       "      <td>59.0</td>\n",
       "      <td>15670.25</td>\n",
       "      <td>23.0</td>\n",
       "      <td>409.0</td>\n",
       "    </tr>\n",
       "    <tr>\n",
       "      <th>5</th>\n",
       "      <td>3</td>\n",
       "      <td>ultra</td>\n",
       "      <td>67.68</td>\n",
       "      <td>17535.55</td>\n",
       "      <td>32.30</td>\n",
       "      <td>489.65</td>\n",
       "      <td>44.84</td>\n",
       "      <td>10951.79</td>\n",
       "      <td>41.62</td>\n",
       "      <td>333.74</td>\n",
       "      <td>57.0</td>\n",
       "      <td>17495.18</td>\n",
       "      <td>20.0</td>\n",
       "      <td>403.0</td>\n",
       "    </tr>\n",
       "    <tr>\n",
       "      <th>6</th>\n",
       "      <td>4</td>\n",
       "      <td>smart</td>\n",
       "      <td>51.31</td>\n",
       "      <td>13462.18</td>\n",
       "      <td>30.74</td>\n",
       "      <td>367.13</td>\n",
       "      <td>25.70</td>\n",
       "      <td>5698.25</td>\n",
       "      <td>24.54</td>\n",
       "      <td>186.49</td>\n",
       "      <td>52.0</td>\n",
       "      <td>14087.65</td>\n",
       "      <td>28.0</td>\n",
       "      <td>368.5</td>\n",
       "    </tr>\n",
       "    <tr>\n",
       "      <th>7</th>\n",
       "      <td>4</td>\n",
       "      <td>ultra</td>\n",
       "      <td>64.09</td>\n",
       "      <td>16828.13</td>\n",
       "      <td>31.56</td>\n",
       "      <td>458.02</td>\n",
       "      <td>36.27</td>\n",
       "      <td>9718.65</td>\n",
       "      <td>37.51</td>\n",
       "      <td>267.68</td>\n",
       "      <td>61.0</td>\n",
       "      <td>16645.78</td>\n",
       "      <td>17.0</td>\n",
       "      <td>453.0</td>\n",
       "    </tr>\n",
       "    <tr>\n",
       "      <th>8</th>\n",
       "      <td>5</td>\n",
       "      <td>smart</td>\n",
       "      <td>55.24</td>\n",
       "      <td>15805.18</td>\n",
       "      <td>33.77</td>\n",
       "      <td>387.36</td>\n",
       "      <td>25.38</td>\n",
       "      <td>5978.23</td>\n",
       "      <td>27.04</td>\n",
       "      <td>186.60</td>\n",
       "      <td>59.0</td>\n",
       "      <td>16323.94</td>\n",
       "      <td>30.0</td>\n",
       "      <td>433.0</td>\n",
       "    </tr>\n",
       "    <tr>\n",
       "      <th>9</th>\n",
       "      <td>5</td>\n",
       "      <td>ultra</td>\n",
       "      <td>72.51</td>\n",
       "      <td>19363.15</td>\n",
       "      <td>37.85</td>\n",
       "      <td>510.33</td>\n",
       "      <td>41.08</td>\n",
       "      <td>10046.11</td>\n",
       "      <td>40.31</td>\n",
       "      <td>289.60</td>\n",
       "      <td>75.0</td>\n",
       "      <td>18696.43</td>\n",
       "      <td>25.0</td>\n",
       "      <td>519.0</td>\n",
       "    </tr>\n",
       "  </tbody>\n",
       "</table>\n",
       "</div>"
      ],
      "text/plain": [
       "   month tariff  calls_mean  sessions_mean  messages_mean  minutes_mean  \\\n",
       "0      1  smart       27.68        8513.72          18.24        203.85   \n",
       "1      1  ultra       59.44       13140.68          33.78        428.11   \n",
       "2      2  smart       40.19       11597.05          24.09        298.69   \n",
       "3      2  ultra       41.54       11775.94          21.96        297.12   \n",
       "4      3  smart       54.32       15104.16          31.86        390.05   \n",
       "5      3  ultra       67.68       17535.55          32.30        489.65   \n",
       "6      4  smart       51.31       13462.18          30.74        367.13   \n",
       "7      4  ultra       64.09       16828.13          31.56        458.02   \n",
       "8      5  smart       55.24       15805.18          33.77        387.36   \n",
       "9      5  ultra       72.51       19363.15          37.85        510.33   \n",
       "\n",
       "   calls_std  sessions_std  messages_std  minutes_std  calls_median  \\\n",
       "0      20.81       6444.68         16.20       154.23          20.5   \n",
       "1      41.64       6865.35         30.67       269.76          51.0   \n",
       "2      25.39       6247.35         21.75       190.82          38.5   \n",
       "3      40.97      10644.64         26.77       296.51          25.0   \n",
       "4      25.54       5828.24         26.80       191.89          59.0   \n",
       "5      44.84      10951.79         41.62       333.74          57.0   \n",
       "6      25.70       5698.25         24.54       186.49          52.0   \n",
       "7      36.27       9718.65         37.51       267.68          61.0   \n",
       "8      25.38       5978.23         27.04       186.60          59.0   \n",
       "9      41.08      10046.11         40.31       289.60          75.0   \n",
       "\n",
       "   sessions_median  messages_median  minutes_median  \n",
       "0          7096.18             15.0           162.5  \n",
       "1         14791.37             32.0           382.0  \n",
       "2         12553.71             20.0           258.0  \n",
       "3          7327.12              5.5           168.0  \n",
       "4         15670.25             23.0           409.0  \n",
       "5         17495.18             20.0           403.0  \n",
       "6         14087.65             28.0           368.5  \n",
       "7         16645.78             17.0           453.0  \n",
       "8         16323.94             30.0           433.0  \n",
       "9         18696.43             25.0           519.0  "
      ]
     },
     "execution_count": 43,
     "metadata": {},
     "output_type": "execute_result"
    }
   ],
   "source": [
    "# сохранение статистических метрик для каждой пары месяц-тариф\n",
    "# в одной таблице stats_df (среднее значение, стандартное отклонение, медиана)\n",
    "\n",
    "stats_df = user_behavior.pivot_table(\n",
    "            index=['month', 'tariff'],\\\n",
    "            values=['calls', 'minutes', 'messages', 'mb_used'],\\\n",
    "            aggfunc=['mean', 'std', 'median']\\\n",
    ").round(2).reset_index()\n",
    "\n",
    "stats_df.columns=['month', 'tariff', 'calls_mean', 'sessions_mean', 'messages_mean', 'minutes_mean',\n",
    "                                     'calls_std',  'sessions_std', 'messages_std', 'minutes_std', \n",
    "                                     'calls_median', 'sessions_median', 'messages_median',  'minutes_median']\n",
    "\n",
    "stats_df.head(10)"
   ]
  },
  {
   "cell_type": "markdown",
   "metadata": {
    "deletable": false,
    "editable": false
   },
   "source": [
    "Распределение среднего количества звонков по видам тарифов и месяцам"
   ]
  },
  {
   "cell_type": "code",
   "execution_count": 44,
   "metadata": {
    "deletable": false
   },
   "outputs": [
    {
     "data": {
      "image/png": "[encoded data removed]",
      "text/plain": [
       "<Figure size 432x288 with 1 Axes>"
      ]
     },
     "metadata": {
      "needs_background": "light"
     },
     "output_type": "display_data"
    }
   ],
   "source": [
    "import seaborn as sns\n",
    "\n",
    "ax = sns.barplot(x='month',\n",
    "            y='calls_mean',\n",
    "            hue=\"tariff\",\n",
    "            data=stats_df,\n",
    "            palette=['lightblue', 'blue'])\n",
    "\n",
    "ax.set_title('Распределение количества звонков по видам тарифов и месяцам')\n",
    "ax.set(xlabel='Номер месяца', ylabel='Среднее количество звонков');"
   ]
  },
  {
   "cell_type": "code",
   "execution_count": 45,
   "metadata": {
    "deletable": false
   },
   "outputs": [
    {
     "data": {
      "image/png": "[encoded data removed]",
      "text/plain": [
       "<Figure size 432x288 with 1 Axes>"
      ]
     },
     "metadata": {
      "needs_background": "light"
     },
     "output_type": "display_data"
    }
   ],
   "source": [
    "import matplotlib.pyplot as plt\n",
    "\n",
    "user_behavior.groupby('tariff')['calls'].plot(kind='hist', bins=35, alpha=0.5)\n",
    "plt.legend(['Smart', 'Ultra'])\n",
    "plt.xlabel('Количество звонков')\n",
    "plt.ylabel('Количество клиентов')\n",
    "plt.show()"
   ]
  },
  {
   "cell_type": "markdown",
   "metadata": {
    "deletable": false,
    "editable": false
   },
   "source": [
    "Распределение средней продолжительности звонков по видам тарифов и месяцам"
   ]
  },
  {
   "cell_type": "code",
   "execution_count": 46,
   "metadata": {
    "deletable": false
   },
   "outputs": [
    {
     "data": {
      "image/png": "[encoded data removed]",
      "text/plain": [
       "<Figure size 432x288 with 1 Axes>"
      ]
     },
     "metadata": {
      "needs_background": "light"
     },
     "output_type": "display_data"
    }
   ],
   "source": [
    "ax = sns.barplot(x='month',\n",
    "            y='minutes_mean',\n",
    "            hue=\"tariff\",\n",
    "            data=stats_df,\n",
    "            palette=['lightblue', 'blue'])\n",
    "\n",
    "ax.set_title('Распределение продолжительности звонков по видам тарифов и месяцам')\n",
    "ax.set(xlabel='Номер месяца', ylabel='Средняя продолжительность звонков');"
   ]
  },
  {
   "cell_type": "code",
   "execution_count": 47,
   "metadata": {
    "deletable": false
   },
   "outputs": [
    {
     "data": {
      "image/png": "[encoded data removed]",
      "text/plain": [
       "<Figure size 432x288 with 1 Axes>"
      ]
     },
     "metadata": {
      "needs_background": "light"
     },
     "output_type": "display_data"
    }
   ],
   "source": [
    "user_behavior[user_behavior['tariff'] =='smart']['minutes'].hist(bins=35, alpha=0.5, color='green')\n",
    "user_behavior[user_behavior['tariff'] =='ultra']['minutes'].hist(bins=35, alpha=0.5, color='blue');"
   ]
  },
  {
   "cell_type": "markdown",
   "metadata": {
    "deletable": false,
    "editable": false
   },
   "source": [
    "Средняя длительность разговоров у абонентов тарифа Ultra больше, чем у абонентов тарифа Smart. В течение года пользователи обоих тарифов увеличивают среднюю продолжительность своих разговоров. Рост средней длительности разговоров у абонентов тарифа Smart равномерный в течение года. Пользователи тарифа Ultra не проявляют подобной линейной стабильности. Стоит отметить, что феврале у абонентов обоих тарифных планов наблюдались самые низкие показатели."
   ]
  },
  {
   "cell_type": "markdown",
   "metadata": {
    "deletable": false,
    "editable": false
   },
   "source": [
    "Распределение среднего количества сообщений по видам тарифов и месяцам"
   ]
  },
  {
   "cell_type": "code",
   "execution_count": 48,
   "metadata": {
    "deletable": false
   },
   "outputs": [
    {
     "data": {
      "image/png": "[encoded data removed]",
      "text/plain": [
       "<Figure size 432x288 with 1 Axes>"
      ]
     },
     "metadata": {
      "needs_background": "light"
     },
     "output_type": "display_data"
    }
   ],
   "source": [
    "ax = sns.barplot(x='month',\n",
    "            y='messages_mean',\n",
    "            hue=\"tariff\",\n",
    "            data=stats_df,\n",
    "            palette=['lightblue', 'blue']\n",
    ")\n",
    "\n",
    "ax.set_title('Распределение количества сообщений по видам тарифов и месяцам')\n",
    "ax.set(xlabel='Номер месяца', ylabel='Среднее количество сообщений');"
   ]
  },
  {
   "cell_type": "code",
   "execution_count": 49,
   "metadata": {
    "deletable": false
   },
   "outputs": [
    {
     "data": {
      "image/png": "[encoded data removed]",
      "text/plain": [
       "<Figure size 432x288 with 1 Axes>"
      ]
     },
     "metadata": {
      "needs_background": "light"
     },
     "output_type": "display_data"
    }
   ],
   "source": [
    "user_behavior[user_behavior['tariff'] =='smart']['messages'].hist(bins=35, alpha=0.5, color='green')\n",
    "user_behavior[user_behavior['tariff'] =='ultra']['messages'].hist(bins=35, alpha=0.5, color='blue');"
   ]
  },
  {
   "cell_type": "markdown",
   "metadata": {},
   "source": [
    "В среднем количество сообщений пользователи тарифа Ultra отправляют больше - почти на 20 сообщений больше, чем пользователи тарифа Smart. Количество сообщений в течение года на обоих тарифак растет. Динамика по отправке сообщений схожа с тенденциями по длительности разговоров: в феврале отмечено наименьшее количество сообщений за год и пользователи тарифа Ultra также проявляют нелинейную положительную динамику."
   ]
  },
  {
   "cell_type": "code",
   "execution_count": 50,
   "metadata": {
    "deletable": false
   },
   "outputs": [
    {
     "data": {
      "image/png": "[encoded data removed]",
      "text/plain": [
       "<Figure size 432x288 with 1 Axes>"
      ]
     },
     "metadata": {
      "needs_background": "light"
     },
     "output_type": "display_data"
    }
   ],
   "source": [
    "ax = sns.barplot(x='month',\n",
    "            y='sessions_mean',\n",
    "            hue=\"tariff\",\n",
    "            data=stats_df,\n",
    "            palette=['lightblue', 'blue']\n",
    ")\n",
    "\n",
    "ax.set_title('Распределение количества потраченного трафика (Мб) по видам тарифов и месяцам')\n",
    "ax.set(xlabel='Номер месяца', ylabel='Среднее количество мегабайт');"
   ]
  },
  {
   "cell_type": "markdown",
   "metadata": {
    "deletable": false,
    "editable": false
   },
   "source": [
    "Сравнение потраченных мегабайт среди пользователей тарифов Smart и Ultra"
   ]
  },
  {
   "cell_type": "code",
   "execution_count": 51,
   "metadata": {
    "deletable": false
   },
   "outputs": [
    {
     "data": {
      "image/png": "[encoded data removed]",
      "text/plain": [
       "<Figure size 432x288 with 1 Axes>"
      ]
     },
     "metadata": {
      "needs_background": "light"
     },
     "output_type": "display_data"
    }
   ],
   "source": [
    "user_behavior[user_behavior['tariff'] =='smart']['mb_used'].hist(bins=35, alpha=0.5, color='green')\n",
    "user_behavior[user_behavior['tariff'] =='ultra']['mb_used'].hist(bins=35, alpha=0.5, color='blue');"
   ]
  },
  {
   "cell_type": "markdown",
   "metadata": {
    "deletable": false,
    "editable": false
   },
   "source": [
    "Меньше всего пользователи использовали интернет в январе, феврале и апреле. Чаще всего абоненты тарифа Smart тратят 15-17 Гб, а абоненты тарифного плана Ultra - 19-21 ГБ."
   ]
  },
  {
   "cell_type": "markdown",
   "metadata": {
    "deletable": false,
    "editable": false
   },
   "source": [
    "### Проверка гипотез"
   ]
  },
  {
   "cell_type": "markdown",
   "metadata": {
    "deletable": false,
    "editable": false,
    "tags": [
     "start_task"
    ]
   },
   "source": [
    "**Задание 28.** Проверка гипотезы: средняя выручка пользователей тарифов «Ультра» и «Смарт» различаются;\n",
    "\n",
    "```\n",
    "H_0: Выручка (total_cost) пользователей \"Ультра\" = выручка (total_cost) пользователей \"Смарт\"`\n",
    "H_a: Выручка (total_cost) пользователей \"Ультра\" ≠ выручка (total_cost) пользователей \"Смарт\"`\n",
    "alpha = 0.05\n",
    "```"
   ]
  },
  {
   "cell_type": "code",
   "execution_count": 52,
   "metadata": {
    "deletable": false
   },
   "outputs": [],
   "source": [
    "from scipy import stats as st"
   ]
  },
  {
   "cell_type": "code",
   "execution_count": null,
   "metadata": {
    "deletable": false
   },
   "outputs": [],
   "source": [
    "smart=user_behavior.query('tariff==\"smart\"')['total_cost']\n",
    "ultra=user_behavior.query('tariff==\"ultra\"')['total_cost']\n",
    "alpha =0.05\n",
    "results=st.ttest_ind(smart,ultra,equal_var=False)\n",
    "print(results.pvalue)\n",
    "if (results.pvalue < alpha):\n",
    "   print('Отвергаем нулевую гипотезу')\n",
    "else:\n",
    "   print('Не получилось отвергнуть нулевую гипотезу')\n",
    "   \n",
    "                          "
   ]
  },
  {
   "cell_type": "markdown",
   "metadata": {
    "deletable": false,
    "editable": false,
    "tags": [
     "start_task"
    ]
   },
   "source": [
    "**Задание 29.** Проверка гипотезы: пользователи из Москвы приносят больше выручки, чем пользователи из других городов;\n",
    "\n",
    "```\n",
    "H_0: Выручка (total_cost) пользователей из Москвы = выручка (total_cost) пользователей не из Москвы`\n",
    "H_1: Выручка (total_cost) пользователей из Москвы ≠ выручка (total_cost) пользователей не из Москвы`\n",
    "alpha = 0.05\n",
    "```"
   ]
  },
  {
   "cell_type": "code",
   "execution_count": null,
   "metadata": {
    "deletable": false
   },
   "outputs": [],
   "source": [
    "tariff_m=user_behavior.query('city==\"Москва\"')['total_cost']\n",
    "tariff_r=user_behavior.query('city!=\"Москва\"')['total_cost']\n",
    "results =st.ttest_ind(tariff_m,tariff_r,equal_var=False)\n",
    "\n",
    "alpha =.05\n",
    "\n",
    "print(results.pvalue)\n",
    "if (results.pvalue < alpha):\n",
    "   print('Отвергаем нулевую гипотезу')\n",
    "else:\n",
    "   print('Не получилось отвергнуть нулевую гипотезу')"
   ]
  }
 ],
 "metadata": {
  "ExecuteTimeLog": [
   {
    "duration": 41,
    "start_time": "2022-10-20T11:22:23.751Z"
   },
   {
    "duration": 368,
    "start_time": "2022-10-20T11:22:26.923Z"
   },
   {
    "duration": 576,
    "start_time": "2022-10-20T11:22:28.563Z"
   },
   {
    "duration": 14,
    "start_time": "2022-10-20T11:22:30.448Z"
   },
   {
    "duration": 21,
    "start_time": "2022-10-20T11:22:55.659Z"
   },
   {
    "duration": 29,
    "start_time": "2022-10-20T11:24:57.103Z"
   },
   {
    "duration": 344,
    "start_time": "2022-10-20T11:25:20.837Z"
   },
   {
    "duration": 212,
    "start_time": "2022-10-20T11:27:52.722Z"
   },
   {
    "duration": 139,
    "start_time": "2022-10-20T11:28:24.957Z"
   },
   {
    "duration": 160,
    "start_time": "2022-10-20T11:32:27.337Z"
   },
   {
    "duration": 163,
    "start_time": "2022-10-20T11:32:30.466Z"
   },
   {
    "duration": 9,
    "start_time": "2022-10-20T11:32:31.008Z"
   },
   {
    "duration": 23,
    "start_time": "2022-10-20T11:32:31.590Z"
   },
   {
    "duration": 144,
    "start_time": "2022-10-20T11:32:32.654Z"
   },
   {
    "duration": 428,
    "start_time": "2022-10-20T11:32:34.457Z"
   },
   {
    "duration": 8,
    "start_time": "2022-10-20T11:32:35.630Z"
   },
   {
    "duration": 26,
    "start_time": "2022-10-20T11:32:36.500Z"
   },
   {
    "duration": 141,
    "start_time": "2022-10-20T11:32:37.843Z"
   },
   {
    "duration": 362,
    "start_time": "2022-10-20T11:35:31.717Z"
   },
   {
    "duration": 17,
    "start_time": "2022-10-20T11:55:04.604Z"
   },
   {
    "duration": 7,
    "start_time": "2022-10-20T11:55:25.392Z"
   },
   {
    "duration": 18,
    "start_time": "2022-10-20T11:56:17.798Z"
   },
   {
    "duration": 85,
    "start_time": "2022-10-20T11:58:33.758Z"
   },
   {
    "duration": 10,
    "start_time": "2022-10-20T11:58:57.925Z"
   },
   {
    "duration": 10,
    "start_time": "2022-10-20T12:01:34.054Z"
   },
   {
    "duration": 91,
    "start_time": "2022-10-20T12:02:43.955Z"
   },
   {
    "duration": 9,
    "start_time": "2022-10-20T12:03:16.417Z"
   },
   {
    "duration": 14,
    "start_time": "2022-10-20T12:03:57.529Z"
   },
   {
    "duration": 108,
    "start_time": "2022-10-20T12:12:06.116Z"
   },
   {
    "duration": 69,
    "start_time": "2022-10-20T12:12:43.942Z"
   },
   {
    "duration": 3,
    "start_time": "2022-10-20T12:14:53.974Z"
   },
   {
    "duration": 142,
    "start_time": "2022-10-20T12:14:54.693Z"
   },
   {
    "duration": 147,
    "start_time": "2022-10-20T12:14:58.632Z"
   },
   {
    "duration": 7,
    "start_time": "2022-10-20T12:14:59.477Z"
   },
   {
    "duration": 20,
    "start_time": "2022-10-20T12:15:00.071Z"
   },
   {
    "duration": 187,
    "start_time": "2022-10-20T12:15:00.568Z"
   },
   {
    "duration": 128,
    "start_time": "2022-10-20T12:15:00.999Z"
   },
   {
    "duration": 8,
    "start_time": "2022-10-20T12:15:02.065Z"
   },
   {
    "duration": 19,
    "start_time": "2022-10-20T12:15:02.526Z"
   },
   {
    "duration": 136,
    "start_time": "2022-10-20T12:15:04.055Z"
   },
   {
    "duration": 96,
    "start_time": "2022-10-20T12:15:06.456Z"
   },
   {
    "duration": 8,
    "start_time": "2022-10-20T12:15:07.744Z"
   },
   {
    "duration": 17,
    "start_time": "2022-10-20T12:15:09.263Z"
   },
   {
    "duration": 29,
    "start_time": "2022-10-20T12:15:11.070Z"
   },
   {
    "duration": 8,
    "start_time": "2022-10-20T12:15:11.623Z"
   },
   {
    "duration": 10,
    "start_time": "2022-10-20T12:15:12.087Z"
   },
   {
    "duration": 39,
    "start_time": "2022-10-20T12:15:12.558Z"
   },
   {
    "duration": 9,
    "start_time": "2022-10-20T12:15:13.016Z"
   },
   {
    "duration": 10,
    "start_time": "2022-10-20T12:15:13.502Z"
   },
   {
    "duration": 145,
    "start_time": "2022-10-20T12:15:14.856Z"
   },
   {
    "duration": 171,
    "start_time": "2022-10-20T12:15:25.022Z"
   },
   {
    "duration": 41,
    "start_time": "2022-10-20T17:29:04.674Z"
   },
   {
    "duration": 426,
    "start_time": "2022-10-20T17:29:10.902Z"
   },
   {
    "duration": 507,
    "start_time": "2022-10-20T17:29:11.620Z"
   },
   {
    "duration": 141,
    "start_time": "2022-10-20T17:29:13.961Z"
   },
   {
    "duration": 13,
    "start_time": "2022-10-20T17:29:14.449Z"
   },
   {
    "duration": 22,
    "start_time": "2022-10-20T17:29:14.923Z"
   },
   {
    "duration": 488,
    "start_time": "2022-10-20T17:29:15.409Z"
   },
   {
    "duration": 412,
    "start_time": "2022-10-20T17:29:15.958Z"
   },
   {
    "duration": 10,
    "start_time": "2022-10-20T17:29:16.459Z"
   },
   {
    "duration": 28,
    "start_time": "2022-10-20T17:29:17.000Z"
   },
   {
    "duration": 148,
    "start_time": "2022-10-20T17:29:18.402Z"
   },
   {
    "duration": 331,
    "start_time": "2022-10-20T17:29:20.366Z"
   },
   {
    "duration": 7,
    "start_time": "2022-10-20T17:29:21.424Z"
   },
   {
    "duration": 15,
    "start_time": "2022-10-20T17:29:22.520Z"
   },
   {
    "duration": 81,
    "start_time": "2022-10-20T17:29:23.300Z"
   },
   {
    "duration": 7,
    "start_time": "2022-10-20T17:29:23.870Z"
   },
   {
    "duration": 10,
    "start_time": "2022-10-20T17:29:24.449Z"
   },
   {
    "duration": 91,
    "start_time": "2022-10-20T17:29:24.999Z"
   },
   {
    "duration": 9,
    "start_time": "2022-10-20T17:29:25.570Z"
   },
   {
    "duration": 15,
    "start_time": "2022-10-20T17:29:26.593Z"
   },
   {
    "duration": 602,
    "start_time": "2022-10-20T17:29:28.992Z"
   },
   {
    "duration": 4,
    "start_time": "2022-10-20T17:30:15.541Z"
   },
   {
    "duration": 21,
    "start_time": "2022-10-20T17:32:04.672Z"
   },
   {
    "duration": 45,
    "start_time": "2022-10-20T17:33:02.746Z"
   },
   {
    "duration": 6,
    "start_time": "2022-10-20T17:36:55.539Z"
   },
   {
    "duration": 6,
    "start_time": "2022-10-20T17:37:22.460Z"
   },
   {
    "duration": 48,
    "start_time": "2022-10-23T14:29:00.233Z"
   },
   {
    "duration": 9,
    "start_time": "2022-10-23T14:31:36.982Z"
   },
   {
    "duration": 6,
    "start_time": "2022-10-23T14:37:22.402Z"
   },
   {
    "duration": 398,
    "start_time": "2022-10-23T14:45:49.316Z"
   },
   {
    "duration": 258,
    "start_time": "2022-10-23T14:45:49.923Z"
   },
   {
    "duration": 186,
    "start_time": "2022-10-23T14:45:52.512Z"
   },
   {
    "duration": 17,
    "start_time": "2022-10-23T14:45:53.006Z"
   },
   {
    "duration": 27,
    "start_time": "2022-10-23T14:45:53.497Z"
   },
   {
    "duration": 642,
    "start_time": "2022-10-23T14:45:54.009Z"
   },
   {
    "duration": 330,
    "start_time": "2022-10-23T14:45:54.654Z"
   },
   {
    "duration": 11,
    "start_time": "2022-10-23T14:45:55.016Z"
   },
   {
    "duration": 24,
    "start_time": "2022-10-23T14:45:55.510Z"
   },
   {
    "duration": 176,
    "start_time": "2022-10-23T14:45:56.052Z"
   },
   {
    "duration": 150,
    "start_time": "2022-10-23T14:45:56.571Z"
   },
   {
    "duration": 9,
    "start_time": "2022-10-23T14:45:57.081Z"
   },
   {
    "duration": 21,
    "start_time": "2022-10-23T14:45:57.614Z"
   },
   {
    "duration": 41,
    "start_time": "2022-10-23T14:45:58.140Z"
   },
   {
    "duration": 10,
    "start_time": "2022-10-23T14:45:58.671Z"
   },
   {
    "duration": 13,
    "start_time": "2022-10-23T14:45:59.215Z"
   },
   {
    "duration": 46,
    "start_time": "2022-10-23T14:45:59.802Z"
   },
   {
    "duration": 12,
    "start_time": "2022-10-23T14:46:00.317Z"
   },
   {
    "duration": 12,
    "start_time": "2022-10-23T14:46:00.880Z"
   },
   {
    "duration": 106,
    "start_time": "2022-10-23T14:46:01.735Z"
   },
   {
    "duration": 8,
    "start_time": "2022-10-23T14:46:02.352Z"
   },
   {
    "duration": 12,
    "start_time": "2022-10-23T14:46:02.921Z"
   },
   {
    "duration": 54,
    "start_time": "2022-10-23T14:46:04.175Z"
   },
   {
    "duration": 87,
    "start_time": "2022-10-23T14:46:05.313Z"
   },
   {
    "duration": 31,
    "start_time": "2022-10-23T14:46:06.281Z"
   },
   {
    "duration": 22,
    "start_time": "2022-10-23T14:46:07.719Z"
   }
  ],
  "kernelspec": {
   "display_name": "Python 3 (ipykernel)",
   "language": "python",
   "name": "python3"
  },
  "language_info": {
   "codemirror_mode": {
    "name": "ipython",
    "version": 3
   },
   "file_extension": ".py",
   "mimetype": "text/x-python",
   "name": "python",
   "nbconvert_exporter": "python",
   "pygments_lexer": "ipython3",
   "version": "3.9.5"
  },
  "toc": {
   "base_numbering": 1,
   "nav_menu": {},
   "number_sections": true,
   "sideBar": true,
   "skip_h1_title": true,
   "title_cell": "Table of Contents",
   "title_sidebar": "Contents",
   "toc_cell": false,
   "toc_position": {},
   "toc_section_display": true,
   "toc_window_display": false
  }
 },
 "nbformat": 4,
 "nbformat_minor": 2
}
