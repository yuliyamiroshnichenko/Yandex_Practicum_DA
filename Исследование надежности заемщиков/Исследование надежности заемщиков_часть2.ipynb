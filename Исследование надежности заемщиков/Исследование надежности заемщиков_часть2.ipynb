{
 "cells": [
  {
   "cell_type": "markdown",
   "id": "dcf24ddd",
   "metadata": {
    "deletable": false,
    "editable": false,
    "id": "c81daeeb"
   },
   "source": [
    "# Исследование надежности заемщиков\n"
   ]
  },
  {
   "cell_type": "markdown",
   "id": "576217fc",
   "metadata": {
    "deletable": false,
    "editable": false,
    "id": "827c20bf"
   },
   "source": [
    "Во второй части проекта вы выполните шаги 3 и 4. Их вручную проверит ревьюер.\n",
    "Чтобы вам не пришлось писать код заново для шагов 1 и 2, мы добавили авторские решения в ячейки с кодом. \n",
    "\n"
   ]
  },
  {
   "cell_type": "markdown",
   "id": "b18ecbbc",
   "metadata": {
    "deletable": false,
    "editable": false,
    "id": "744d7639"
   },
   "source": [
    "## Откройте таблицу и изучите общую информацию о данных"
   ]
  },
  {
   "cell_type": "markdown",
   "id": "7c81c421",
   "metadata": {
    "deletable": false,
    "editable": false,
    "id": "e7a14c31"
   },
   "source": [
    "**Задание 1. Импортируйте библиотеку pandas. Считайте данные из csv-файла в датафрейм и сохраните в переменную `data`. Путь к файлу:**\n",
    "\n",
    "`/datasets/data.csv`"
   ]
  },
  {
   "cell_type": "code",
   "execution_count": 3,
   "id": "fd8a6cd7",
   "metadata": {
    "deletable": false,
    "id": "7bcf75c9"
   },
   "outputs": [],
   "source": [
    "import pandas as pd\n",
    "\n",
    "try:\n",
    "    data = pd.read_csv('/datasets/data.csv')\n",
    "except:\n",
    "    data = pd.read_csv('https://code.s3.yandex.net/datasets/data.csv')"
   ]
  },
  {
   "cell_type": "markdown",
   "id": "0088bdcd",
   "metadata": {
    "deletable": false,
    "editable": false,
    "id": "b8038fe3"
   },
   "source": [
    "**Задание 2. Выведите первые 20 строчек датафрейма `data` на экран.**"
   ]
  },
  {
   "cell_type": "code",
   "execution_count": 4,
   "id": "b4986411",
   "metadata": {
    "deletable": false,
    "id": "2a7cab99",
    "outputId": "1a8f3ef2-d323-4ec2-ddf7-89670b5944c4"
   },
   "outputs": [
    {
     "data": {
      "text/html": [
       "<div>\n",
       "<style scoped>\n",
       "    .dataframe tbody tr th:only-of-type {\n",
       "        vertical-align: middle;\n",
       "    }\n",
       "\n",
       "    .dataframe tbody tr th {\n",
       "        vertical-align: top;\n",
       "    }\n",
       "\n",
       "    .dataframe thead th {\n",
       "        text-align: right;\n",
       "    }\n",
       "</style>\n",
       "<table border=\"1\" class=\"dataframe\">\n",
       "  <thead>\n",
       "    <tr style=\"text-align: right;\">\n",
       "      <th></th>\n",
       "      <th>children</th>\n",
       "      <th>days_employed</th>\n",
       "      <th>dob_years</th>\n",
       "      <th>education</th>\n",
       "      <th>education_id</th>\n",
       "      <th>family_status</th>\n",
       "      <th>family_status_id</th>\n",
       "      <th>gender</th>\n",
       "      <th>income_type</th>\n",
       "      <th>debt</th>\n",
       "      <th>total_income</th>\n",
       "      <th>purpose</th>\n",
       "    </tr>\n",
       "  </thead>\n",
       "  <tbody>\n",
       "    <tr>\n",
       "      <th>0</th>\n",
       "      <td>1</td>\n",
       "      <td>-8437.673028</td>\n",
       "      <td>42</td>\n",
       "      <td>высшее</td>\n",
       "      <td>0</td>\n",
       "      <td>женат / замужем</td>\n",
       "      <td>0</td>\n",
       "      <td>F</td>\n",
       "      <td>сотрудник</td>\n",
       "      <td>0</td>\n",
       "      <td>253875.639453</td>\n",
       "      <td>покупка жилья</td>\n",
       "    </tr>\n",
       "    <tr>\n",
       "      <th>1</th>\n",
       "      <td>1</td>\n",
       "      <td>-4024.803754</td>\n",
       "      <td>36</td>\n",
       "      <td>среднее</td>\n",
       "      <td>1</td>\n",
       "      <td>женат / замужем</td>\n",
       "      <td>0</td>\n",
       "      <td>F</td>\n",
       "      <td>сотрудник</td>\n",
       "      <td>0</td>\n",
       "      <td>112080.014102</td>\n",
       "      <td>приобретение автомобиля</td>\n",
       "    </tr>\n",
       "    <tr>\n",
       "      <th>2</th>\n",
       "      <td>0</td>\n",
       "      <td>-5623.422610</td>\n",
       "      <td>33</td>\n",
       "      <td>Среднее</td>\n",
       "      <td>1</td>\n",
       "      <td>женат / замужем</td>\n",
       "      <td>0</td>\n",
       "      <td>M</td>\n",
       "      <td>сотрудник</td>\n",
       "      <td>0</td>\n",
       "      <td>145885.952297</td>\n",
       "      <td>покупка жилья</td>\n",
       "    </tr>\n",
       "    <tr>\n",
       "      <th>3</th>\n",
       "      <td>3</td>\n",
       "      <td>-4124.747207</td>\n",
       "      <td>32</td>\n",
       "      <td>среднее</td>\n",
       "      <td>1</td>\n",
       "      <td>женат / замужем</td>\n",
       "      <td>0</td>\n",
       "      <td>M</td>\n",
       "      <td>сотрудник</td>\n",
       "      <td>0</td>\n",
       "      <td>267628.550329</td>\n",
       "      <td>дополнительное образование</td>\n",
       "    </tr>\n",
       "    <tr>\n",
       "      <th>4</th>\n",
       "      <td>0</td>\n",
       "      <td>340266.072047</td>\n",
       "      <td>53</td>\n",
       "      <td>среднее</td>\n",
       "      <td>1</td>\n",
       "      <td>гражданский брак</td>\n",
       "      <td>1</td>\n",
       "      <td>F</td>\n",
       "      <td>пенсионер</td>\n",
       "      <td>0</td>\n",
       "      <td>158616.077870</td>\n",
       "      <td>сыграть свадьбу</td>\n",
       "    </tr>\n",
       "    <tr>\n",
       "      <th>5</th>\n",
       "      <td>0</td>\n",
       "      <td>-926.185831</td>\n",
       "      <td>27</td>\n",
       "      <td>высшее</td>\n",
       "      <td>0</td>\n",
       "      <td>гражданский брак</td>\n",
       "      <td>1</td>\n",
       "      <td>M</td>\n",
       "      <td>компаньон</td>\n",
       "      <td>0</td>\n",
       "      <td>255763.565419</td>\n",
       "      <td>покупка жилья</td>\n",
       "    </tr>\n",
       "    <tr>\n",
       "      <th>6</th>\n",
       "      <td>0</td>\n",
       "      <td>-2879.202052</td>\n",
       "      <td>43</td>\n",
       "      <td>высшее</td>\n",
       "      <td>0</td>\n",
       "      <td>женат / замужем</td>\n",
       "      <td>0</td>\n",
       "      <td>F</td>\n",
       "      <td>компаньон</td>\n",
       "      <td>0</td>\n",
       "      <td>240525.971920</td>\n",
       "      <td>операции с жильем</td>\n",
       "    </tr>\n",
       "    <tr>\n",
       "      <th>7</th>\n",
       "      <td>0</td>\n",
       "      <td>-152.779569</td>\n",
       "      <td>50</td>\n",
       "      <td>СРЕДНЕЕ</td>\n",
       "      <td>1</td>\n",
       "      <td>женат / замужем</td>\n",
       "      <td>0</td>\n",
       "      <td>M</td>\n",
       "      <td>сотрудник</td>\n",
       "      <td>0</td>\n",
       "      <td>135823.934197</td>\n",
       "      <td>образование</td>\n",
       "    </tr>\n",
       "    <tr>\n",
       "      <th>8</th>\n",
       "      <td>2</td>\n",
       "      <td>-6929.865299</td>\n",
       "      <td>35</td>\n",
       "      <td>ВЫСШЕЕ</td>\n",
       "      <td>0</td>\n",
       "      <td>гражданский брак</td>\n",
       "      <td>1</td>\n",
       "      <td>F</td>\n",
       "      <td>сотрудник</td>\n",
       "      <td>0</td>\n",
       "      <td>95856.832424</td>\n",
       "      <td>на проведение свадьбы</td>\n",
       "    </tr>\n",
       "    <tr>\n",
       "      <th>9</th>\n",
       "      <td>0</td>\n",
       "      <td>-2188.756445</td>\n",
       "      <td>41</td>\n",
       "      <td>среднее</td>\n",
       "      <td>1</td>\n",
       "      <td>женат / замужем</td>\n",
       "      <td>0</td>\n",
       "      <td>M</td>\n",
       "      <td>сотрудник</td>\n",
       "      <td>0</td>\n",
       "      <td>144425.938277</td>\n",
       "      <td>покупка жилья для семьи</td>\n",
       "    </tr>\n",
       "    <tr>\n",
       "      <th>10</th>\n",
       "      <td>2</td>\n",
       "      <td>-4171.483647</td>\n",
       "      <td>36</td>\n",
       "      <td>высшее</td>\n",
       "      <td>0</td>\n",
       "      <td>женат / замужем</td>\n",
       "      <td>0</td>\n",
       "      <td>M</td>\n",
       "      <td>компаньон</td>\n",
       "      <td>0</td>\n",
       "      <td>113943.491460</td>\n",
       "      <td>покупка недвижимости</td>\n",
       "    </tr>\n",
       "    <tr>\n",
       "      <th>11</th>\n",
       "      <td>0</td>\n",
       "      <td>-792.701887</td>\n",
       "      <td>40</td>\n",
       "      <td>среднее</td>\n",
       "      <td>1</td>\n",
       "      <td>женат / замужем</td>\n",
       "      <td>0</td>\n",
       "      <td>F</td>\n",
       "      <td>сотрудник</td>\n",
       "      <td>0</td>\n",
       "      <td>77069.234271</td>\n",
       "      <td>покупка коммерческой недвижимости</td>\n",
       "    </tr>\n",
       "    <tr>\n",
       "      <th>12</th>\n",
       "      <td>0</td>\n",
       "      <td>NaN</td>\n",
       "      <td>65</td>\n",
       "      <td>среднее</td>\n",
       "      <td>1</td>\n",
       "      <td>гражданский брак</td>\n",
       "      <td>1</td>\n",
       "      <td>M</td>\n",
       "      <td>пенсионер</td>\n",
       "      <td>0</td>\n",
       "      <td>NaN</td>\n",
       "      <td>сыграть свадьбу</td>\n",
       "    </tr>\n",
       "    <tr>\n",
       "      <th>13</th>\n",
       "      <td>0</td>\n",
       "      <td>-1846.641941</td>\n",
       "      <td>54</td>\n",
       "      <td>неоконченное высшее</td>\n",
       "      <td>2</td>\n",
       "      <td>женат / замужем</td>\n",
       "      <td>0</td>\n",
       "      <td>F</td>\n",
       "      <td>сотрудник</td>\n",
       "      <td>0</td>\n",
       "      <td>130458.228857</td>\n",
       "      <td>приобретение автомобиля</td>\n",
       "    </tr>\n",
       "    <tr>\n",
       "      <th>14</th>\n",
       "      <td>0</td>\n",
       "      <td>-1844.956182</td>\n",
       "      <td>56</td>\n",
       "      <td>высшее</td>\n",
       "      <td>0</td>\n",
       "      <td>гражданский брак</td>\n",
       "      <td>1</td>\n",
       "      <td>F</td>\n",
       "      <td>компаньон</td>\n",
       "      <td>1</td>\n",
       "      <td>165127.911772</td>\n",
       "      <td>покупка жилой недвижимости</td>\n",
       "    </tr>\n",
       "    <tr>\n",
       "      <th>15</th>\n",
       "      <td>1</td>\n",
       "      <td>-972.364419</td>\n",
       "      <td>26</td>\n",
       "      <td>среднее</td>\n",
       "      <td>1</td>\n",
       "      <td>женат / замужем</td>\n",
       "      <td>0</td>\n",
       "      <td>F</td>\n",
       "      <td>сотрудник</td>\n",
       "      <td>0</td>\n",
       "      <td>116820.904450</td>\n",
       "      <td>строительство собственной недвижимости</td>\n",
       "    </tr>\n",
       "    <tr>\n",
       "      <th>16</th>\n",
       "      <td>0</td>\n",
       "      <td>-1719.934226</td>\n",
       "      <td>35</td>\n",
       "      <td>среднее</td>\n",
       "      <td>1</td>\n",
       "      <td>женат / замужем</td>\n",
       "      <td>0</td>\n",
       "      <td>F</td>\n",
       "      <td>сотрудник</td>\n",
       "      <td>0</td>\n",
       "      <td>289202.704229</td>\n",
       "      <td>недвижимость</td>\n",
       "    </tr>\n",
       "    <tr>\n",
       "      <th>17</th>\n",
       "      <td>0</td>\n",
       "      <td>-2369.999720</td>\n",
       "      <td>33</td>\n",
       "      <td>высшее</td>\n",
       "      <td>0</td>\n",
       "      <td>гражданский брак</td>\n",
       "      <td>1</td>\n",
       "      <td>M</td>\n",
       "      <td>сотрудник</td>\n",
       "      <td>0</td>\n",
       "      <td>90410.586745</td>\n",
       "      <td>строительство недвижимости</td>\n",
       "    </tr>\n",
       "    <tr>\n",
       "      <th>18</th>\n",
       "      <td>0</td>\n",
       "      <td>400281.136913</td>\n",
       "      <td>53</td>\n",
       "      <td>среднее</td>\n",
       "      <td>1</td>\n",
       "      <td>вдовец / вдова</td>\n",
       "      <td>2</td>\n",
       "      <td>F</td>\n",
       "      <td>пенсионер</td>\n",
       "      <td>0</td>\n",
       "      <td>56823.777243</td>\n",
       "      <td>на покупку подержанного автомобиля</td>\n",
       "    </tr>\n",
       "    <tr>\n",
       "      <th>19</th>\n",
       "      <td>0</td>\n",
       "      <td>-10038.818549</td>\n",
       "      <td>48</td>\n",
       "      <td>СРЕДНЕЕ</td>\n",
       "      <td>1</td>\n",
       "      <td>в разводе</td>\n",
       "      <td>3</td>\n",
       "      <td>F</td>\n",
       "      <td>сотрудник</td>\n",
       "      <td>0</td>\n",
       "      <td>242831.107982</td>\n",
       "      <td>на покупку своего автомобиля</td>\n",
       "    </tr>\n",
       "  </tbody>\n",
       "</table>\n",
       "</div>"
      ],
      "text/plain": [
       "    children  days_employed  dob_years            education  education_id  \\\n",
       "0          1   -8437.673028         42               высшее             0   \n",
       "1          1   -4024.803754         36              среднее             1   \n",
       "2          0   -5623.422610         33              Среднее             1   \n",
       "3          3   -4124.747207         32              среднее             1   \n",
       "4          0  340266.072047         53              среднее             1   \n",
       "5          0    -926.185831         27               высшее             0   \n",
       "6          0   -2879.202052         43               высшее             0   \n",
       "7          0    -152.779569         50              СРЕДНЕЕ             1   \n",
       "8          2   -6929.865299         35               ВЫСШЕЕ             0   \n",
       "9          0   -2188.756445         41              среднее             1   \n",
       "10         2   -4171.483647         36               высшее             0   \n",
       "11         0    -792.701887         40              среднее             1   \n",
       "12         0            NaN         65              среднее             1   \n",
       "13         0   -1846.641941         54  неоконченное высшее             2   \n",
       "14         0   -1844.956182         56               высшее             0   \n",
       "15         1    -972.364419         26              среднее             1   \n",
       "16         0   -1719.934226         35              среднее             1   \n",
       "17         0   -2369.999720         33               высшее             0   \n",
       "18         0  400281.136913         53              среднее             1   \n",
       "19         0  -10038.818549         48              СРЕДНЕЕ             1   \n",
       "\n",
       "       family_status  family_status_id gender income_type  debt  \\\n",
       "0    женат / замужем                 0      F   сотрудник     0   \n",
       "1    женат / замужем                 0      F   сотрудник     0   \n",
       "2    женат / замужем                 0      M   сотрудник     0   \n",
       "3    женат / замужем                 0      M   сотрудник     0   \n",
       "4   гражданский брак                 1      F   пенсионер     0   \n",
       "5   гражданский брак                 1      M   компаньон     0   \n",
       "6    женат / замужем                 0      F   компаньон     0   \n",
       "7    женат / замужем                 0      M   сотрудник     0   \n",
       "8   гражданский брак                 1      F   сотрудник     0   \n",
       "9    женат / замужем                 0      M   сотрудник     0   \n",
       "10   женат / замужем                 0      M   компаньон     0   \n",
       "11   женат / замужем                 0      F   сотрудник     0   \n",
       "12  гражданский брак                 1      M   пенсионер     0   \n",
       "13   женат / замужем                 0      F   сотрудник     0   \n",
       "14  гражданский брак                 1      F   компаньон     1   \n",
       "15   женат / замужем                 0      F   сотрудник     0   \n",
       "16   женат / замужем                 0      F   сотрудник     0   \n",
       "17  гражданский брак                 1      M   сотрудник     0   \n",
       "18    вдовец / вдова                 2      F   пенсионер     0   \n",
       "19         в разводе                 3      F   сотрудник     0   \n",
       "\n",
       "     total_income                                 purpose  \n",
       "0   253875.639453                           покупка жилья  \n",
       "1   112080.014102                 приобретение автомобиля  \n",
       "2   145885.952297                           покупка жилья  \n",
       "3   267628.550329              дополнительное образование  \n",
       "4   158616.077870                         сыграть свадьбу  \n",
       "5   255763.565419                           покупка жилья  \n",
       "6   240525.971920                       операции с жильем  \n",
       "7   135823.934197                             образование  \n",
       "8    95856.832424                   на проведение свадьбы  \n",
       "9   144425.938277                 покупка жилья для семьи  \n",
       "10  113943.491460                    покупка недвижимости  \n",
       "11   77069.234271       покупка коммерческой недвижимости  \n",
       "12            NaN                         сыграть свадьбу  \n",
       "13  130458.228857                 приобретение автомобиля  \n",
       "14  165127.911772              покупка жилой недвижимости  \n",
       "15  116820.904450  строительство собственной недвижимости  \n",
       "16  289202.704229                            недвижимость  \n",
       "17   90410.586745              строительство недвижимости  \n",
       "18   56823.777243      на покупку подержанного автомобиля  \n",
       "19  242831.107982            на покупку своего автомобиля  "
      ]
     },
     "execution_count": 4,
     "metadata": {},
     "output_type": "execute_result"
    }
   ],
   "source": [
    "data.head(20)"
   ]
  },
  {
   "cell_type": "markdown",
   "id": "c920407e",
   "metadata": {
    "deletable": false,
    "editable": false,
    "id": "1c12e233"
   },
   "source": [
    "**Задание 3. Выведите основную информацию о датафрейме с помощью метода `info()`.**"
   ]
  },
  {
   "cell_type": "code",
   "execution_count": 5,
   "id": "d6e19497",
   "metadata": {
    "deletable": false,
    "id": "2b757bca",
    "outputId": "15376089-8dad-46c9-b520-c05248d43158"
   },
   "outputs": [
    {
     "name": "stdout",
     "output_type": "stream",
     "text": [
      "<class 'pandas.core.frame.DataFrame'>\n",
      "RangeIndex: 21525 entries, 0 to 21524\n",
      "Data columns (total 12 columns):\n",
      " #   Column            Non-Null Count  Dtype  \n",
      "---  ------            --------------  -----  \n",
      " 0   children          21525 non-null  int64  \n",
      " 1   days_employed     19351 non-null  float64\n",
      " 2   dob_years         21525 non-null  int64  \n",
      " 3   education         21525 non-null  object \n",
      " 4   education_id      21525 non-null  int64  \n",
      " 5   family_status     21525 non-null  object \n",
      " 6   family_status_id  21525 non-null  int64  \n",
      " 7   gender            21525 non-null  object \n",
      " 8   income_type       21525 non-null  object \n",
      " 9   debt              21525 non-null  int64  \n",
      " 10  total_income      19351 non-null  float64\n",
      " 11  purpose           21525 non-null  object \n",
      "dtypes: float64(2), int64(5), object(5)\n",
      "memory usage: 2.0+ MB\n"
     ]
    }
   ],
   "source": [
    "data.info()"
   ]
  },
  {
   "cell_type": "markdown",
   "id": "d001a5cb",
   "metadata": {
    "deletable": false,
    "editable": false,
    "id": "333ec665"
   },
   "source": [
    "## Предобработка данных"
   ]
  },
  {
   "cell_type": "markdown",
   "id": "da63ab30",
   "metadata": {
    "deletable": false,
    "editable": false,
    "id": "02d92d53"
   },
   "source": [
    "### Удаление пропусков"
   ]
  },
  {
   "cell_type": "markdown",
   "id": "09ee5eb6",
   "metadata": {
    "deletable": false,
    "editable": false,
    "id": "cd84967c"
   },
   "source": [
    "**Задание 4. Выведите количество пропущенных значений для каждого столбца. Используйте комбинацию двух методов.**"
   ]
  },
  {
   "cell_type": "code",
   "execution_count": 6,
   "id": "49ffaec3",
   "metadata": {
    "deletable": false,
    "id": "7f9b2309",
    "outputId": "81f4d817-781c-465c-ed15-91ce4446810d"
   },
   "outputs": [
    {
     "data": {
      "text/plain": [
       "children               0\n",
       "days_employed       2174\n",
       "dob_years              0\n",
       "education              0\n",
       "education_id           0\n",
       "family_status          0\n",
       "family_status_id       0\n",
       "gender                 0\n",
       "income_type            0\n",
       "debt                   0\n",
       "total_income        2174\n",
       "purpose                0\n",
       "dtype: int64"
      ]
     },
     "execution_count": 6,
     "metadata": {},
     "output_type": "execute_result"
    }
   ],
   "source": [
    "data.isna().sum()"
   ]
  },
  {
   "cell_type": "markdown",
   "id": "1ccbc416",
   "metadata": {
    "deletable": false,
    "editable": false,
    "id": "db86e27b"
   },
   "source": [
    "**Задание 5. В двух столбцах есть пропущенные значения. Один из них — `days_employed`. Пропуски в этом столбце вы обработаете на следующем этапе. Другой столбец с пропущенными значениями — `total_income` — хранит данные о доходах. На сумму дохода сильнее всего влияет тип занятости, поэтому заполнить пропуски в этом столбце нужно медианным значением по каждому типу из столбца `income_type`. Например, у человека с типом занятости `сотрудник` пропуск в столбце `total_income` должен быть заполнен медианным доходом среди всех записей с тем же типом.**"
   ]
  },
  {
   "cell_type": "code",
   "execution_count": 7,
   "id": "de7b4223",
   "metadata": {
    "deletable": false,
    "id": "42006a93"
   },
   "outputs": [],
   "source": [
    "for t in data['income_type'].unique():\n",
    "    data.loc[(data['income_type'] == t) & (data['total_income'].isna()), 'total_income'] = \\\n",
    "    data.loc[(data['income_type'] == t), 'total_income'].median()"
   ]
  },
  {
   "cell_type": "markdown",
   "id": "2c187b5f",
   "metadata": {
    "deletable": false,
    "editable": false,
    "id": "89da5ece"
   },
   "source": [
    "### Обработка аномальных значений"
   ]
  },
  {
   "cell_type": "markdown",
   "id": "06250924",
   "metadata": {
    "deletable": false,
    "editable": false,
    "id": "57964554"
   },
   "source": [
    "**Задание 6. В данных могут встречаться артефакты (аномалии) — значения, которые не отражают действительность и появились по какой-то ошибке. таким артефактом будет отрицательное количество дней трудового стажа в столбце `days_employed`. Для реальных данных это нормально. Обработайте значения в этом столбце: замените все отрицательные значения положительными с помощью метода `abs()`.**"
   ]
  },
  {
   "cell_type": "code",
   "execution_count": 8,
   "id": "08cd1721",
   "metadata": {
    "deletable": false,
    "id": "f6f055bf"
   },
   "outputs": [],
   "source": [
    "data['days_employed'] = data['days_employed'].abs()"
   ]
  },
  {
   "cell_type": "markdown",
   "id": "bc09873b",
   "metadata": {
    "deletable": false,
    "editable": false,
    "id": "6107dd2f"
   },
   "source": [
    "**Задание 7. Для каждого типа занятости выведите медианное значение трудового стажа `days_employed` в днях.**"
   ]
  },
  {
   "cell_type": "code",
   "execution_count": 9,
   "id": "1ad78db0",
   "metadata": {
    "deletable": false,
    "id": "85a5faf6",
    "outputId": "801ef80e-522b-4668-f34e-565af7432bcf"
   },
   "outputs": [
    {
     "data": {
      "text/plain": [
       "income_type\n",
       "безработный        366413.652744\n",
       "в декрете            3296.759962\n",
       "госслужащий          2689.368353\n",
       "компаньон            1547.382223\n",
       "пенсионер          365213.306266\n",
       "предприниматель       520.848083\n",
       "сотрудник            1574.202821\n",
       "студент               578.751554\n",
       "Name: days_employed, dtype: float64"
      ]
     },
     "execution_count": 9,
     "metadata": {},
     "output_type": "execute_result"
    }
   ],
   "source": [
    "data.groupby('income_type')['days_employed'].agg('median')"
   ]
  },
  {
   "cell_type": "markdown",
   "id": "753f2e2a",
   "metadata": {
    "deletable": false,
    "editable": false,
    "id": "38d1a030"
   },
   "source": [
    "У двух типов (безработные и пенсионеры) получатся аномально большие значения. Исправить такие значения сложно, поэтому оставьте их как есть. Тем более этот столбец не понадобится вам для исследования."
   ]
  },
  {
   "cell_type": "markdown",
   "id": "a0323e15",
   "metadata": {
    "deletable": false,
    "editable": false,
    "id": "d8a9f147"
   },
   "source": [
    "**Задание 8. Выведите перечень уникальных значений столбца `children`.**"
   ]
  },
  {
   "cell_type": "code",
   "execution_count": 10,
   "id": "4bf9e942",
   "metadata": {
    "deletable": false,
    "id": "ef5056eb",
    "outputId": "6975b15c-7f95-4697-d16d-a0c79b657b03"
   },
   "outputs": [
    {
     "data": {
      "text/plain": [
       "array([ 1,  0,  3,  2, -1,  4, 20,  5])"
      ]
     },
     "execution_count": 10,
     "metadata": {},
     "output_type": "execute_result"
    }
   ],
   "source": [
    "data['children'].unique()"
   ]
  },
  {
   "cell_type": "markdown",
   "id": "65b0f03f",
   "metadata": {
    "deletable": false,
    "editable": false,
    "id": "40b9ebf2"
   },
   "source": [
    "**Задание 9. В столбце `children` есть два аномальных значения. Удалите строки, в которых встречаются такие аномальные значения из датафрейма `data`.**"
   ]
  },
  {
   "cell_type": "code",
   "execution_count": 11,
   "id": "0666cb59",
   "metadata": {
    "deletable": false,
    "id": "3ff9801d"
   },
   "outputs": [],
   "source": [
    "data = data[(data['children'] != -1) & (data['children'] != 20)]"
   ]
  },
  {
   "cell_type": "markdown",
   "id": "68ca1d4e",
   "metadata": {
    "deletable": false,
    "editable": false,
    "id": "bbc4d0ce"
   },
   "source": [
    "**Задание 10. Ещё раз выведите перечень уникальных значений столбца `children`, чтобы убедиться, что артефакты удалены.**"
   ]
  },
  {
   "cell_type": "code",
   "execution_count": 12,
   "id": "3cabd323",
   "metadata": {
    "deletable": false,
    "id": "ad4fa8b7",
    "outputId": "b2097101-d49d-44d9-901b-32a65c9463d1"
   },
   "outputs": [
    {
     "data": {
      "text/plain": [
       "array([1, 0, 3, 2, 4, 5])"
      ]
     },
     "execution_count": 12,
     "metadata": {},
     "output_type": "execute_result"
    }
   ],
   "source": [
    "data['children'].unique()"
   ]
  },
  {
   "cell_type": "markdown",
   "id": "6e063cec",
   "metadata": {
    "deletable": false,
    "editable": false,
    "id": "75440b63"
   },
   "source": [
    "### Удаление пропусков (продолжение)"
   ]
  },
  {
   "cell_type": "markdown",
   "id": "5b5bdf6f",
   "metadata": {
    "deletable": false,
    "editable": false,
    "id": "f4ea573f"
   },
   "source": [
    "**Задание 11. Заполните пропуски в столбце `days_employed` медианными значениями по каждого типа занятости `income_type`.**"
   ]
  },
  {
   "cell_type": "code",
   "execution_count": 13,
   "id": "4a63eec0",
   "metadata": {
    "deletable": false,
    "id": "af6b1a7e"
   },
   "outputs": [],
   "source": [
    "for t in data['income_type'].unique():\n",
    "    data.loc[(data['income_type'] == t) & (data['days_employed'].isna()), 'days_employed'] = \\\n",
    "    data.loc[(data['income_type'] == t), 'days_employed'].median()"
   ]
  },
  {
   "cell_type": "markdown",
   "id": "db0d38d2",
   "metadata": {
    "deletable": false,
    "editable": false,
    "id": "2753f40d"
   },
   "source": [
    "**Задание 12. Убедитесь, что все пропуски заполнены. Проверьте себя и ещё раз выведите количество пропущенных значений для каждого столбца с помощью двух методов.**"
   ]
  },
  {
   "cell_type": "code",
   "execution_count": 14,
   "id": "a7073c1c",
   "metadata": {
    "deletable": false,
    "id": "55f78bc2",
    "outputId": "8da1e4e1-358e-4e87-98c9-f261bce0a7b2"
   },
   "outputs": [
    {
     "data": {
      "text/plain": [
       "children            0\n",
       "days_employed       0\n",
       "dob_years           0\n",
       "education           0\n",
       "education_id        0\n",
       "family_status       0\n",
       "family_status_id    0\n",
       "gender              0\n",
       "income_type         0\n",
       "debt                0\n",
       "total_income        0\n",
       "purpose             0\n",
       "dtype: int64"
      ]
     },
     "execution_count": 14,
     "metadata": {},
     "output_type": "execute_result"
    }
   ],
   "source": [
    "data.isna().sum()"
   ]
  },
  {
   "cell_type": "markdown",
   "id": "94a45ba3",
   "metadata": {
    "deletable": false,
    "editable": false,
    "id": "ddc81e43"
   },
   "source": [
    "### Изменение типов данных"
   ]
  },
  {
   "cell_type": "markdown",
   "id": "73541410",
   "metadata": {
    "deletable": false,
    "editable": false,
    "id": "42d19d24"
   },
   "source": [
    "**Задание 13. Замените вещественный тип данных в столбце `total_income` на целочисленный с помощью метода `astype()`.**"
   ]
  },
  {
   "cell_type": "code",
   "execution_count": 15,
   "id": "f438fabd",
   "metadata": {
    "deletable": false,
    "id": "920b65ad"
   },
   "outputs": [],
   "source": [
    "data['total_income'] = data['total_income'].astype(int)"
   ]
  },
  {
   "cell_type": "markdown",
   "id": "d7b5bf99",
   "metadata": {
    "deletable": false,
    "editable": false,
    "id": "80c420ba"
   },
   "source": [
    "### Обработка дубликатов"
   ]
  },
  {
   "cell_type": "markdown",
   "id": "1e179532",
   "metadata": {
    "deletable": false,
    "editable": false
   },
   "source": [
    "**Задание 14. Обработайте неявные дубликаты в столбце `education`. В этом столбце есть одни и те же значения, но записанные по-разному: с использованием заглавных и строчных букв. Приведите их к нижнему регистру. Проверьте остальные столбцы.**"
   ]
  },
  {
   "cell_type": "code",
   "execution_count": 16,
   "id": "272d2d85",
   "metadata": {
    "deletable": false
   },
   "outputs": [],
   "source": [
    "data['education'] = data['education'].str.lower()"
   ]
  },
  {
   "cell_type": "markdown",
   "id": "bb02ce36",
   "metadata": {
    "deletable": false,
    "editable": false,
    "id": "dc587695"
   },
   "source": [
    "**Задание 15. Выведите на экран количество строк-дубликатов в данных. Если такие строки присутствуют, удалите их.**"
   ]
  },
  {
   "cell_type": "code",
   "execution_count": 17,
   "id": "f766ffc2",
   "metadata": {
    "deletable": false,
    "id": "3ee445e4",
    "outputId": "9684deba-1934-42d1-99e1-cda61740f822"
   },
   "outputs": [
    {
     "data": {
      "text/plain": [
       "71"
      ]
     },
     "execution_count": 17,
     "metadata": {},
     "output_type": "execute_result"
    }
   ],
   "source": [
    "data.duplicated().sum()"
   ]
  },
  {
   "cell_type": "code",
   "execution_count": 18,
   "id": "17141d14",
   "metadata": {
    "deletable": false,
    "id": "8575fe05"
   },
   "outputs": [],
   "source": [
    "data = data.drop_duplicates()"
   ]
  },
  {
   "cell_type": "markdown",
   "id": "d62c60b4",
   "metadata": {
    "deletable": false,
    "editable": false,
    "id": "9904cf55"
   },
   "source": [
    "### Категоризация данных"
   ]
  },
  {
   "cell_type": "markdown",
   "id": "e0bec3c6",
   "metadata": {
    "deletable": false,
    "editable": false,
    "id": "72fcc8a2"
   },
   "source": [
    "**Задание 16. На основании диапазонов, указанных ниже, создайте в датафрейме `data` столбец `total_income_category` с категориями:**\n",
    "\n",
    "- 0–30000 — `'E'`;\n",
    "- 30001–50000 — `'D'`;\n",
    "- 50001–200000 — `'C'`;\n",
    "- 200001–1000000 — `'B'`;\n",
    "- 1000001 и выше — `'A'`.\n",
    "\n",
    "\n",
    "**Например, кредитополучателю с доходом 25000 нужно назначить категорию `'E'`, а клиенту, получающему 235000, — `'B'`. Используйте собственную функцию с именем `categorize_income()` и метод `apply()`.**"
   ]
  },
  {
   "cell_type": "code",
   "execution_count": 19,
   "id": "05cac4db",
   "metadata": {
    "deletable": false,
    "id": "e1771346"
   },
   "outputs": [],
   "source": [
    "def categorize_income(income):\n",
    "    try:\n",
    "        if 0 <= income <= 30000:\n",
    "            return 'E'\n",
    "        elif 30001 <= income <= 50000:\n",
    "            return 'D'\n",
    "        elif 50001 <= income <= 200000:\n",
    "            return 'C'\n",
    "        elif 200001 <= income <= 1000000:\n",
    "            return 'B'\n",
    "        elif income >= 1000001:\n",
    "            return 'A'\n",
    "    except:\n",
    "        pass"
   ]
  },
  {
   "cell_type": "code",
   "execution_count": 20,
   "id": "a1cdc1a2",
   "metadata": {
    "deletable": false,
    "id": "d5f3586d"
   },
   "outputs": [],
   "source": [
    "data['total_income_category'] = data['total_income'].apply(categorize_income)"
   ]
  },
  {
   "cell_type": "markdown",
   "id": "72920358",
   "metadata": {
    "deletable": false,
    "editable": false,
    "id": "dde49b5c"
   },
   "source": [
    "**Задание 17. Выведите на экран перечень уникальных целей взятия кредита из столбца `purpose`.**"
   ]
  },
  {
   "cell_type": "code",
   "execution_count": 21,
   "id": "dd622d3d",
   "metadata": {
    "deletable": false,
    "id": "f67ce9b3",
    "outputId": "673c12d9-7d7e-4ae0-9812-c622c89dd244"
   },
   "outputs": [
    {
     "data": {
      "text/plain": [
       "array(['покупка жилья', 'приобретение автомобиля',\n",
       "       'дополнительное образование', 'сыграть свадьбу',\n",
       "       'операции с жильем', 'образование', 'на проведение свадьбы',\n",
       "       'покупка жилья для семьи', 'покупка недвижимости',\n",
       "       'покупка коммерческой недвижимости', 'покупка жилой недвижимости',\n",
       "       'строительство собственной недвижимости', 'недвижимость',\n",
       "       'строительство недвижимости', 'на покупку подержанного автомобиля',\n",
       "       'на покупку своего автомобиля',\n",
       "       'операции с коммерческой недвижимостью',\n",
       "       'строительство жилой недвижимости', 'жилье',\n",
       "       'операции со своей недвижимостью', 'автомобили',\n",
       "       'заняться образованием', 'сделка с подержанным автомобилем',\n",
       "       'получение образования', 'автомобиль', 'свадьба',\n",
       "       'получение дополнительного образования', 'покупка своего жилья',\n",
       "       'операции с недвижимостью', 'получение высшего образования',\n",
       "       'свой автомобиль', 'сделка с автомобилем',\n",
       "       'профильное образование', 'высшее образование',\n",
       "       'покупка жилья для сдачи', 'на покупку автомобиля', 'ремонт жилью',\n",
       "       'заняться высшим образованием'], dtype=object)"
      ]
     },
     "execution_count": 21,
     "metadata": {},
     "output_type": "execute_result"
    }
   ],
   "source": [
    "data['purpose'].unique()"
   ]
  },
  {
   "cell_type": "markdown",
   "id": "adebc065",
   "metadata": {
    "deletable": false,
    "editable": false,
    "id": "85d0aef0"
   },
   "source": [
    "**Задание 18. Создайте функцию, которая на основании данных из столбца `purpose` сформирует новый столбец `purpose_category`, в который войдут следующие категории:**\n",
    "\n",
    "- `'операции с автомобилем'`,\n",
    "- `'операции с недвижимостью'`,\n",
    "- `'проведение свадьбы'`,\n",
    "- `'получение образования'`.\n",
    "\n",
    "**Например, если в столбце `purpose` находится подстрока `'на покупку автомобиля'`, то в столбце `purpose_category` должна появиться строка `'операции с автомобилем'`.**\n",
    "\n",
    "**Используйте собственную функцию с именем `categorize_purpose()` и метод `apply()`. Изучите данные в столбце `purpose` и определите, какие подстроки помогут вам правильно определить категорию.**"
   ]
  },
  {
   "cell_type": "code",
   "execution_count": 22,
   "id": "7486f722",
   "metadata": {
    "deletable": false,
    "id": "e149fab4"
   },
   "outputs": [],
   "source": [
    "def categorize_purpose(row):\n",
    "    try:\n",
    "        if 'автом' in row:\n",
    "            return 'операции с автомобилем'\n",
    "        elif 'жил' in row or 'недвиж' in row:\n",
    "            return 'операции с недвижимостью'\n",
    "        elif 'свад' in row:\n",
    "            return 'проведение свадьбы'\n",
    "        elif 'образов' in row:\n",
    "            return 'получение образования'\n",
    "    except:\n",
    "        return 'нет категории'"
   ]
  },
  {
   "cell_type": "code",
   "execution_count": 23,
   "id": "b5c5b894",
   "metadata": {
    "deletable": false,
    "id": "bf36e69b"
   },
   "outputs": [],
   "source": [
    "data['purpose_category'] = data['purpose'].apply(categorize_purpose)"
   ]
  },
  {
   "cell_type": "markdown",
   "id": "058b2a83",
   "metadata": {
    "deletable": false,
    "editable": false,
    "id": "09b242bf"
   },
   "source": [
    "### Шаг 3. Исследуйте данные и ответьте на вопросы"
   ]
  },
  {
   "cell_type": "markdown",
   "id": "33aa6cbf",
   "metadata": {
    "deletable": false,
    "editable": false,
    "id": "c5d66278"
   },
   "source": [
    "#### 3.1 Есть ли зависимость между количеством детей и возвратом кредита в срок?"
   ]
  },
  {
   "cell_type": "code",
   "execution_count": 37,
   "id": "32c0c78b",
   "metadata": {
    "deletable": false,
    "id": "2cacfc4a"
   },
   "outputs": [
    {
     "name": "stdout",
     "output_type": "stream",
     "text": [
      "              debt\n",
      "children          \n",
      "0         0.075438\n",
      "1         0.092346\n",
      "2         0.094542\n",
      "3         0.081818\n",
      "4         0.097561\n",
      "5         0.000000\n"
     ]
    },
    {
     "data": {
      "text/html": [
       "<div>\n",
       "<style scoped>\n",
       "    .dataframe tbody tr th:only-of-type {\n",
       "        vertical-align: middle;\n",
       "    }\n",
       "\n",
       "    .dataframe tbody tr th {\n",
       "        vertical-align: top;\n",
       "    }\n",
       "\n",
       "    .dataframe thead tr th {\n",
       "        text-align: left;\n",
       "    }\n",
       "</style>\n",
       "<table border=\"1\" class=\"dataframe\">\n",
       "  <thead>\n",
       "    <tr>\n",
       "      <th></th>\n",
       "      <th></th>\n",
       "      <th>count</th>\n",
       "      <th>sum</th>\n",
       "    </tr>\n",
       "    <tr>\n",
       "      <th></th>\n",
       "      <th></th>\n",
       "      <th>debt</th>\n",
       "      <th>debt</th>\n",
       "    </tr>\n",
       "  </thead>\n",
       "  <tbody>\n",
       "    <tr>\n",
       "      <th>count</th>\n",
       "      <th>debt</th>\n",
       "      <td>1.000000</td>\n",
       "      <td>0.996743</td>\n",
       "    </tr>\n",
       "    <tr>\n",
       "      <th>sum</th>\n",
       "      <th>debt</th>\n",
       "      <td>0.996743</td>\n",
       "      <td>1.000000</td>\n",
       "    </tr>\n",
       "  </tbody>\n",
       "</table>\n",
       "</div>"
      ],
      "text/plain": [
       "               count       sum\n",
       "                debt      debt\n",
       "count debt  1.000000  0.996743\n",
       "sum   debt  0.996743  1.000000"
      ]
     },
     "execution_count": 37,
     "metadata": {},
     "output_type": "execute_result"
    }
   ],
   "source": [
    "data_pivot_children=data.pivot_table(index='children',values='debt',aggfunc=['count','sum'])\n",
    "fraction_data_pivot_children=data_pivot_children['sum']/data_pivot_children['count']\n",
    "print(fraction_data_pivot_children)\n"
   ]
  },
  {
   "cell_type": "markdown",
   "id": "bfd20377",
   "metadata": {
    "deletable": false,
    "id": "3a6b99ec"
   },
   "source": [
    "**Вывод:Из полученных данных видна взаимосвязь между количесвом детей и просрочками. Больше всего просрочек у людей, которые имеют 1, 2, 3, 4 детей, а таже у людей у которых нет детей просрочек меньше. Отсутвуют просрочки у людей у которых 5 детей. Вероятнее всего это связано с финансовой нагрузкой."
   ]
  },
  {
   "cell_type": "markdown",
   "id": "de88e965",
   "metadata": {
    "deletable": false,
    "editable": false,
    "id": "97be82ca"
   },
   "source": [
    "#### 3.2 Есть ли зависимость между семейным положением и возвратом кредита в срок?"
   ]
  },
  {
   "cell_type": "code",
   "execution_count": 38,
   "id": "b79016d9",
   "metadata": {
    "deletable": false,
    "id": "dc3f7ee8"
   },
   "outputs": [
    {
     "name": "stdout",
     "output_type": "stream",
     "text": [
      "                           debt\n",
      "family_status                  \n",
      "Не женат / не замужем  0.097639\n",
      "в разводе              0.070648\n",
      "вдовец / вдова         0.066246\n",
      "гражданский брак       0.093130\n",
      "женат / замужем        0.075606\n"
     ]
    },
    {
     "data": {
      "text/html": [
       "<div>\n",
       "<style scoped>\n",
       "    .dataframe tbody tr th:only-of-type {\n",
       "        vertical-align: middle;\n",
       "    }\n",
       "\n",
       "    .dataframe tbody tr th {\n",
       "        vertical-align: top;\n",
       "    }\n",
       "\n",
       "    .dataframe thead tr th {\n",
       "        text-align: left;\n",
       "    }\n",
       "</style>\n",
       "<table border=\"1\" class=\"dataframe\">\n",
       "  <thead>\n",
       "    <tr>\n",
       "      <th></th>\n",
       "      <th></th>\n",
       "      <th>count</th>\n",
       "      <th>sum</th>\n",
       "    </tr>\n",
       "    <tr>\n",
       "      <th></th>\n",
       "      <th></th>\n",
       "      <th>debt</th>\n",
       "      <th>debt</th>\n",
       "    </tr>\n",
       "  </thead>\n",
       "  <tbody>\n",
       "    <tr>\n",
       "      <th>count</th>\n",
       "      <th>debt</th>\n",
       "      <td>1.000000</td>\n",
       "      <td>0.993611</td>\n",
       "    </tr>\n",
       "    <tr>\n",
       "      <th>sum</th>\n",
       "      <th>debt</th>\n",
       "      <td>0.993611</td>\n",
       "      <td>1.000000</td>\n",
       "    </tr>\n",
       "  </tbody>\n",
       "</table>\n",
       "</div>"
      ],
      "text/plain": [
       "               count       sum\n",
       "                debt      debt\n",
       "count debt  1.000000  0.993611\n",
       "sum   debt  0.993611  1.000000"
      ]
     },
     "execution_count": 38,
     "metadata": {},
     "output_type": "execute_result"
    }
   ],
   "source": [
    "data_pivot_family_status= data.pivot_table(index='family_status',  values='debt', aggfunc=['count','sum'])\n",
    "fraction_data_pivot_family_status=data_pivot_family_status['sum']/data_pivot_family_status['count']\n",
    "print(fraction_data_pivot_family_status)\n",
    "\n"
   ]
  },
  {
   "cell_type": "markdown",
   "id": "65cbb5a0",
   "metadata": {
    "deletable": false,
    "id": "1cef7837"
   },
   "source": [
    "**Вывод:** Из полученных данных, видно что связь между семейным положением и возвратом кредита в срок есть. Самая большая доля просрочек у не женатых и людей живущих в гражданском браке.Доля просрочек снижается у людей в браке, те кто в разводе и вдовцы. Таким образом, самый худший показатель у людей не имеющих семью и живущих гражланским браком."
   ]
  },
  {
   "cell_type": "markdown",
   "id": "5261eaf9",
   "metadata": {
    "deletable": false,
    "editable": false,
    "id": "1e8b2fca"
   },
   "source": [
    "#### 3.3 Есть ли зависимость между уровнем дохода и возвратом кредита в срок?"
   ]
  },
  {
   "cell_type": "code",
   "execution_count": 32,
   "id": "e7da9ff5",
   "metadata": {
    "deletable": false,
    "id": "cd7e3720"
   },
   "outputs": [
    {
     "name": "stdout",
     "output_type": "stream",
     "text": [
      "                           debt\n",
      "total_income_category          \n",
      "A                      0.080000\n",
      "B                      0.070602\n",
      "C                      0.084982\n",
      "D                      0.060172\n",
      "E                      0.090909\n"
     ]
    },
    {
     "data": {
      "text/html": [
       "<div>\n",
       "<style scoped>\n",
       "    .dataframe tbody tr th:only-of-type {\n",
       "        vertical-align: middle;\n",
       "    }\n",
       "\n",
       "    .dataframe tbody tr th {\n",
       "        vertical-align: top;\n",
       "    }\n",
       "\n",
       "    .dataframe thead th {\n",
       "        text-align: right;\n",
       "    }\n",
       "</style>\n",
       "<table border=\"1\" class=\"dataframe\">\n",
       "  <thead>\n",
       "    <tr style=\"text-align: right;\">\n",
       "      <th></th>\n",
       "      <th>debt</th>\n",
       "    </tr>\n",
       "  </thead>\n",
       "  <tbody>\n",
       "    <tr>\n",
       "      <th>debt</th>\n",
       "      <td>1.0</td>\n",
       "    </tr>\n",
       "  </tbody>\n",
       "</table>\n",
       "</div>"
      ],
      "text/plain": [
       "      debt\n",
       "debt   1.0"
      ]
     },
     "execution_count": 32,
     "metadata": {},
     "output_type": "execute_result"
    }
   ],
   "source": [
    "data_pivot_total_income=data.pivot_table(index='total_income_category',values='debt',aggfunc=['count','sum'])\n",
    "fraction_data_pivot_total_income=data_pivot_total_income['sum']/data_pivot_total_income['count']\n",
    "print(fraction_data_pivot_total_income)\n",
    "\n"
   ]
  },
  {
   "cell_type": "markdown",
   "id": "7fc4c415",
   "metadata": {
    "deletable": false,
    "id": "e8593def"
   },
   "source": [
    " **Вывод:** Из полученных данных можно отметить, что между уровнем дохода и возратом кредита неявная.Что самый большой процент у людей с низким уровнем дохода, а именно категория Е(0-30000рублей).Чуть ниже доля просрочек у категории людей  c самым высоким доходом(категория А), а также у категории С. Самый низкий уровень просрочек у катеогрии В и D. "
   ]
  },
  {
   "cell_type": "markdown",
   "id": "3823460d",
   "metadata": {
    "deletable": false,
    "editable": false,
    "id": "99ecbd1f"
   },
   "source": [
    "#### 3.4 Как разные цели кредита влияют на его возврат в срок?"
   ]
  },
  {
   "cell_type": "code",
   "execution_count": 28,
   "id": "77732acc",
   "metadata": {
    "deletable": false,
    "id": "2b687290"
   },
   "outputs": [
    {
     "name": "stdout",
     "output_type": "stream",
     "text": [
      "                              debt\n",
      "purpose_category                  \n",
      "операции с автомобилем    0.093480\n",
      "операции с недвижимостью  0.072551\n",
      "получение образования     0.092528\n",
      "проведение свадьбы        0.079118\n"
     ]
    }
   ],
   "source": [
    "data_pivot1=data.pivot_table(index='purpose_category',values='debt',aggfunc=['count','sum'])\n",
    "fraction_data_pivot1=data_pivot1['sum']/data_pivot1['count']\n",
    "print(fraction_data_pivot1)"
   ]
  },
  {
   "cell_type": "markdown",
   "id": "3aba58f7",
   "metadata": {
    "deletable": false,
    "id": "b4bb2ce6"
   },
   "source": [
    "**Вывод:** Из полученных данных, мы видим, что самый высокий процент просрочек у людей, которые берут денежные средства: на образование и операции с автомобилями. Это может быть связано с выгодными условиями банка или же заемщики не объективно оценивают свои финансовые возможности и берут дорогостоящие  машины. С образованием  это может быть связано, с тем что заемщики сокращают занятость и соотвесвенно снижается доход, так как необходимо время на обучение. Но для доказательсва этой гипотезы, необходимо провести более детальный анализ.\n",
    "Земщики, которые берут финансовые средсва: на операции с недвижимостью и на свадьбу имеют меньше просрочек. Из полученных данных, можно сделать вывод, что самая низкая доля просрочек у клинтов, использующих денежные средства, на операции с недвижимостью, так срок платежей довольно большой и клиенты хорошо просчитывают сови финнасовые возможности."
   ]
  },
  {
   "cell_type": "markdown",
   "id": "9d1d9f17",
   "metadata": {
    "deletable": false,
    "editable": false,
    "id": "09c3ac4c"
   },
   "source": [
    "#### 3.5 Приведите возможные причины появления пропусков в исходных данных."
   ]
  },
  {
   "cell_type": "markdown",
   "id": "551c80de",
   "metadata": {
    "deletable": false,
    "id": "9da2ceda"
   },
   "source": [
    "*Ответ:*пропуски находятся в столбцах о дохадаи трудовом стаже. Таким образом это может быть либо связано с выгрузкой датфрейма или эе сам клиент не указал доход и сосотвесвенно трудовой стаж."
   ]
  },
  {
   "cell_type": "markdown",
   "id": "c52e4e07",
   "metadata": {
    "deletable": false,
    "editable": false,
    "id": "7b0487d6"
   },
   "source": [
    "#### 3.6 Объясните, почему заполнить пропуски медианным значением — лучшее решение для количественных переменных."
   ]
  },
  {
   "cell_type": "markdown",
   "id": "a1e224f5",
   "metadata": {
    "deletable": false,
    "id": "7ecf2b8e"
   },
   "source": [
    "*Ответ:* Если в задании есть большие выбросы, то более правильный метод будет использовать медианное значение. Так как на среднее влияют большие выбросы, а на медиану нет."
   ]
  },
  {
   "cell_type": "markdown",
   "id": "26261a99",
   "metadata": {
    "deletable": false,
    "editable": false,
    "id": "6db5255a"
   },
   "source": [
    "### Шаг 4: общий вывод."
   ]
  },
  {
   "cell_type": "markdown",
   "id": "26262de2",
   "metadata": {
    "deletable": false,
    "id": "bad65432"
   },
   "source": [
    "Было проведено исследование,на соновании, которого были выялены как различные факторы влияют на погашения кредита. Исходными данными, для анализа являлась сатистика о плтёжеспособности клиентов.\n",
    "в ходе исследования было установлено несколько гипотез:\n",
    "\n",
    "1 гипотеза: Количество детей влияет на погашения кредита в срок.\n",
    "2 гипотеза: Семейное положение влияет на погашение кредита в срок.\n",
    "3 гипотеза: Уровень дохода влияет на погашения кредита в срок\n",
    "4 гипотеза: Цель кредита влияет на погашение кредита в срок.\n",
    "\n",
    "На  основании проведенного анализа. \n",
    "\n",
    "1 гипотеза потверждена частично - это связано с малым количеством данных по клиентам, у которых количество 5 детей .\n",
    "Доля просроченных кредитов у заемщиков с 1 ребенком составила 9.2%.\n",
    "Доля просроченных кредитв у заемщиков с 2 детьми составила 9.4%\n",
    "Доля просроченных платежей у заемщиков без детей составила 7.5%\n",
    "Рекомендация: Для более точного потверждения гипотезы необходимо провести более детальный анализ на большей выборке. \n",
    "Гипотеза 2 потверждена.\n",
    "Заемщики,у которых отсутвует семья(9,7%) или не зарегистрированный брак(9,3%) имеют большую долю просрочек по кредитам.\n",
    "Клиенты, которые в разводе(7.1%),вдовцы(6.6%) или состоящие в официальном браке(7.5%) имеют меньшую долю просрочек по кредитам.\n",
    "\n",
    "Рекомендация: Разница между этими группами равна 3.1%, поэтому я бы не рекомендовала опираться на данный показатель при принятиии решения о кредитоспособности.\n",
    "\n",
    "Гипотеза 3 потверждена частично, так как необходимо больше данных по выборкам категории D(30001-50000), A(свыше 1000001) E(до 30000)\n",
    "Доля просроченных кредитов у заемщиков с доходом от 200001 до 1000000 равна 7.1%\n",
    "Доля прослоченных кредитов у заемщиков с доход от 50001 до 200000 равна 8.4%\n",
    "\n",
    "Рекомендация: Провести еще один анализ на большей выборке. \n",
    "\n",
    "Гипотеза 4 потверждена.\n",
    "9.3% составила доля просроченных кредитов по операциям с автомобилями.\n",
    "7.2% составила доля просроченных кредитов по операциям с недвижимостью.\n",
    "9.2% составила доля просроченных кредитов на образование.\n",
    "7.9% составила доля просроченных кредитов на свадбу.\n",
    "\n",
    "Рекомнедация: Так как разница между показателми составляет 2.1%, я бы не рекомендовала наделять эту зависимость высоким весом при принятии решения о кредитном потенциале заемщика.\n",
    "\n",
    "Общие рекомендации:\n",
    "Специалистам, занимающимся моделированием кредитного скоринга, рекомендуется использовать 2 и 4 гипотезу.\n",
    "А для более точного выявление 1 и 3 зависмости необходимо провести дополнительный анализна большей выборке.\n",
    "\n",
    "\n",
    "\n",
    "\n",
    "\n",
    "\n",
    "\n",
    "\n",
    "\n",
    "\n",
    "\n",
    "\n",
    "\n",
    "\n",
    "\n",
    "\n"
   ]
  }
 ],
 "metadata": {
  "ExecuteTimeLog": [
   {
    "duration": 48,
    "start_time": "2022-09-18T12:28:03.613Z"
   },
   {
    "duration": 5,
    "start_time": "2022-09-18T12:28:07.465Z"
   },
   {
    "duration": 5,
    "start_time": "2022-09-18T12:28:52.461Z"
   },
   {
    "duration": 432,
    "start_time": "2022-09-18T15:57:54.913Z"
   },
   {
    "duration": 31,
    "start_time": "2022-09-18T15:57:55.347Z"
   },
   {
    "duration": 33,
    "start_time": "2022-09-18T15:57:55.380Z"
   },
   {
    "duration": 10,
    "start_time": "2022-09-18T15:57:55.414Z"
   },
   {
    "duration": 43,
    "start_time": "2022-09-18T15:57:55.426Z"
   },
   {
    "duration": 4,
    "start_time": "2022-09-18T15:57:55.472Z"
   },
   {
    "duration": 32,
    "start_time": "2022-09-18T15:57:55.477Z"
   },
   {
    "duration": 6,
    "start_time": "2022-09-18T15:57:55.515Z"
   },
   {
    "duration": 9,
    "start_time": "2022-09-18T15:57:55.522Z"
   },
   {
    "duration": 5,
    "start_time": "2022-09-18T15:57:55.533Z"
   },
   {
    "duration": 37,
    "start_time": "2022-09-18T15:57:55.540Z"
   },
   {
    "duration": 26,
    "start_time": "2022-09-18T15:57:55.579Z"
   },
   {
    "duration": 8,
    "start_time": "2022-09-18T15:57:55.612Z"
   },
   {
    "duration": 14,
    "start_time": "2022-09-18T15:57:55.622Z"
   },
   {
    "duration": 29,
    "start_time": "2022-09-18T15:57:55.637Z"
   },
   {
    "duration": 19,
    "start_time": "2022-09-18T15:57:55.668Z"
   },
   {
    "duration": 4,
    "start_time": "2022-09-18T15:57:55.688Z"
   },
   {
    "duration": 16,
    "start_time": "2022-09-18T15:57:55.702Z"
   },
   {
    "duration": 6,
    "start_time": "2022-09-18T15:57:55.720Z"
   },
   {
    "duration": 4,
    "start_time": "2022-09-18T15:57:55.728Z"
   },
   {
    "duration": 14,
    "start_time": "2022-09-18T15:57:55.734Z"
   },
   {
    "duration": 19,
    "start_time": "2022-09-18T15:57:55.749Z"
   },
   {
    "duration": 36,
    "start_time": "2022-09-18T15:57:55.769Z"
   },
   {
    "duration": 47,
    "start_time": "2022-09-18T15:57:55.810Z"
   },
   {
    "duration": 3,
    "start_time": "2022-09-18T15:57:55.859Z"
   },
   {
    "duration": 42,
    "start_time": "2022-09-26T13:20:40.414Z"
   },
   {
    "duration": 7,
    "start_time": "2022-09-26T13:20:42.352Z"
   },
   {
    "duration": 90,
    "start_time": "2022-09-26T13:26:12.214Z"
   },
   {
    "duration": 71,
    "start_time": "2022-09-26T13:26:51.608Z"
   },
   {
    "duration": 80,
    "start_time": "2022-09-26T13:27:08.759Z"
   },
   {
    "duration": 6,
    "start_time": "2022-09-26T13:27:27.038Z"
   },
   {
    "duration": 4,
    "start_time": "2022-09-26T13:27:47.585Z"
   },
   {
    "duration": 6,
    "start_time": "2022-09-26T13:27:49.198Z"
   },
   {
    "duration": 5,
    "start_time": "2022-09-26T13:27:53.904Z"
   },
   {
    "duration": 6,
    "start_time": "2022-09-26T13:28:01.111Z"
   },
   {
    "duration": 6,
    "start_time": "2022-09-26T13:28:20.831Z"
   },
   {
    "duration": 3,
    "start_time": "2022-09-26T13:28:23.006Z"
   },
   {
    "duration": 5,
    "start_time": "2022-09-26T13:28:24.169Z"
   },
   {
    "duration": 441,
    "start_time": "2022-09-26T13:28:48.361Z"
   },
   {
    "duration": 22,
    "start_time": "2022-09-26T13:28:50.235Z"
   },
   {
    "duration": 13,
    "start_time": "2022-09-26T13:28:51.873Z"
   },
   {
    "duration": 9,
    "start_time": "2022-09-26T13:28:54.836Z"
   },
   {
    "duration": 29,
    "start_time": "2022-09-26T13:28:56.186Z"
   },
   {
    "duration": 3,
    "start_time": "2022-09-26T13:28:57.717Z"
   },
   {
    "duration": 8,
    "start_time": "2022-09-26T13:28:58.687Z"
   },
   {
    "duration": 6,
    "start_time": "2022-09-26T13:29:00.893Z"
   },
   {
    "duration": 6,
    "start_time": "2022-09-26T13:29:02.452Z"
   },
   {
    "duration": 5,
    "start_time": "2022-09-26T13:29:03.783Z"
   },
   {
    "duration": 29,
    "start_time": "2022-09-26T13:29:05.399Z"
   },
   {
    "duration": 8,
    "start_time": "2022-09-26T13:29:07.232Z"
   },
   {
    "duration": 3,
    "start_time": "2022-09-26T13:29:08.986Z"
   },
   {
    "duration": 10,
    "start_time": "2022-09-26T13:29:10.743Z"
   },
   {
    "duration": 18,
    "start_time": "2022-09-26T13:29:11.957Z"
   },
   {
    "duration": 17,
    "start_time": "2022-09-26T13:29:12.662Z"
   },
   {
    "duration": 4,
    "start_time": "2022-09-26T13:29:14.317Z"
   },
   {
    "duration": 9,
    "start_time": "2022-09-26T13:29:15.416Z"
   },
   {
    "duration": 6,
    "start_time": "2022-09-26T13:29:17.149Z"
   },
   {
    "duration": 3,
    "start_time": "2022-09-26T13:29:19.195Z"
   },
   {
    "duration": 9,
    "start_time": "2022-09-26T13:29:20.019Z"
   },
   {
    "duration": 42,
    "start_time": "2022-09-26T13:29:22.989Z"
   },
   {
    "duration": 15,
    "start_time": "2022-09-26T13:29:46.402Z"
   },
   {
    "duration": 15,
    "start_time": "2022-09-26T13:30:00.102Z"
   },
   {
    "duration": 9,
    "start_time": "2022-09-26T13:33:53.119Z"
   },
   {
    "duration": 6,
    "start_time": "2022-09-26T13:33:55.375Z"
   },
   {
    "duration": 11,
    "start_time": "2022-09-26T13:34:30.563Z"
   },
   {
    "duration": 8,
    "start_time": "2022-09-26T13:34:51.854Z"
   },
   {
    "duration": 7,
    "start_time": "2022-09-26T13:35:12.509Z"
   },
   {
    "duration": 8,
    "start_time": "2022-09-26T13:35:52.432Z"
   },
   {
    "duration": 13,
    "start_time": "2022-09-26T13:36:07.499Z"
   },
   {
    "duration": 14,
    "start_time": "2022-09-26T13:40:27.764Z"
   },
   {
    "duration": 1238,
    "start_time": "2022-09-26T13:42:07.459Z"
   },
   {
    "duration": 1364,
    "start_time": "2022-09-26T13:42:13.838Z"
   },
   {
    "duration": 1170,
    "start_time": "2022-09-26T13:42:31.760Z"
   },
   {
    "duration": 17,
    "start_time": "2022-09-26T13:43:15.498Z"
   },
   {
    "duration": 19,
    "start_time": "2022-09-26T13:49:08.873Z"
   },
   {
    "duration": 20,
    "start_time": "2022-09-26T13:50:55.314Z"
   },
   {
    "duration": 23,
    "start_time": "2022-09-26T14:09:50.544Z"
   },
   {
    "duration": 10,
    "start_time": "2022-09-26T14:12:58.769Z"
   },
   {
    "duration": 13,
    "start_time": "2022-09-26T14:13:00.696Z"
   },
   {
    "duration": 9,
    "start_time": "2022-09-26T14:13:10.088Z"
   },
   {
    "duration": 72,
    "start_time": "2022-09-26T14:13:27.663Z"
   },
   {
    "duration": 84,
    "start_time": "2022-09-26T14:14:01.281Z"
   },
   {
    "duration": 74,
    "start_time": "2022-09-26T14:14:03.136Z"
   },
   {
    "duration": 12,
    "start_time": "2022-09-26T14:14:51.467Z"
   },
   {
    "duration": 12,
    "start_time": "2022-09-26T14:15:06.688Z"
   },
   {
    "duration": 7,
    "start_time": "2022-09-26T14:20:06.675Z"
   },
   {
    "duration": 8,
    "start_time": "2022-09-26T14:20:08.959Z"
   },
   {
    "duration": 25,
    "start_time": "2022-09-26T14:20:31.901Z"
   },
   {
    "duration": 22,
    "start_time": "2022-09-26T14:38:58.257Z"
   },
   {
    "duration": 58,
    "start_time": "2022-09-27T12:44:54.879Z"
   },
   {
    "duration": 9,
    "start_time": "2022-09-27T12:45:04.229Z"
   },
   {
    "duration": 728,
    "start_time": "2022-09-27T12:47:11.507Z"
   },
   {
    "duration": 27,
    "start_time": "2022-09-27T12:47:12.707Z"
   },
   {
    "duration": 14,
    "start_time": "2022-09-27T12:47:13.235Z"
   },
   {
    "duration": 13,
    "start_time": "2022-09-27T12:47:14.121Z"
   },
   {
    "duration": 47,
    "start_time": "2022-09-27T12:47:14.591Z"
   },
   {
    "duration": 5,
    "start_time": "2022-09-27T12:47:15.329Z"
   },
   {
    "duration": 8,
    "start_time": "2022-09-27T12:47:15.832Z"
   },
   {
    "duration": 6,
    "start_time": "2022-09-27T12:47:16.531Z"
   },
   {
    "duration": 8,
    "start_time": "2022-09-27T12:47:17.041Z"
   },
   {
    "duration": 5,
    "start_time": "2022-09-27T12:47:17.525Z"
   },
   {
    "duration": 33,
    "start_time": "2022-09-27T12:47:18.273Z"
   },
   {
    "duration": 14,
    "start_time": "2022-09-27T12:47:18.825Z"
   },
   {
    "duration": 5,
    "start_time": "2022-09-27T12:47:20.637Z"
   },
   {
    "duration": 18,
    "start_time": "2022-09-27T12:47:21.637Z"
   },
   {
    "duration": 32,
    "start_time": "2022-09-27T12:47:22.209Z"
   },
   {
    "duration": 27,
    "start_time": "2022-09-27T12:47:22.496Z"
   },
   {
    "duration": 4,
    "start_time": "2022-09-27T12:47:23.364Z"
   },
   {
    "duration": 9,
    "start_time": "2022-09-27T12:47:23.630Z"
   },
   {
    "duration": 8,
    "start_time": "2022-09-27T12:47:24.543Z"
   },
   {
    "duration": 4,
    "start_time": "2022-09-27T12:47:25.076Z"
   },
   {
    "duration": 9,
    "start_time": "2022-09-27T12:47:25.354Z"
   },
   {
    "duration": 29,
    "start_time": "2022-09-27T12:47:28.251Z"
   },
   {
    "duration": 28,
    "start_time": "2022-09-27T12:47:31.243Z"
   },
   {
    "duration": 18,
    "start_time": "2022-09-27T12:47:37.477Z"
   },
   {
    "duration": 21,
    "start_time": "2022-09-27T13:03:50.879Z"
   },
   {
    "duration": 20,
    "start_time": "2022-09-27T13:04:18.742Z"
   },
   {
    "duration": 21,
    "start_time": "2022-09-27T13:16:09.464Z"
   },
   {
    "duration": 33,
    "start_time": "2022-09-27T13:16:27.585Z"
   },
   {
    "duration": 30,
    "start_time": "2022-09-27T13:19:49.195Z"
   },
   {
    "duration": 23,
    "start_time": "2022-09-27T13:20:14.329Z"
   },
   {
    "duration": 57,
    "start_time": "2022-09-27T13:21:38.777Z"
   },
   {
    "duration": 13,
    "start_time": "2022-09-27T13:21:41.385Z"
   },
   {
    "duration": 25,
    "start_time": "2022-09-27T13:21:52.263Z"
   },
   {
    "duration": 19,
    "start_time": "2022-09-27T13:27:15.722Z"
   },
   {
    "duration": 26,
    "start_time": "2022-09-27T13:27:32.699Z"
   },
   {
    "duration": 25,
    "start_time": "2022-09-27T13:28:06.621Z"
   }
  ],
  "colab": {
   "name": "dpp_template_part2.ipynb",
   "provenance": []
  },
  "kernelspec": {
   "display_name": "Python 3 (ipykernel)",
   "language": "python",
   "name": "python3"
  },
  "language_info": {
   "codemirror_mode": {
    "name": "ipython",
    "version": 3
   },
   "file_extension": ".py",
   "mimetype": "text/x-python",
   "name": "python",
   "nbconvert_exporter": "python",
   "pygments_lexer": "ipython3",
   "version": "3.9.13"
  },
  "toc": {
   "base_numbering": 1,
   "nav_menu": {},
   "number_sections": true,
   "sideBar": true,
   "skip_h1_title": true,
   "title_cell": "Table of Contents",
   "title_sidebar": "Contents",
   "toc_cell": false,
   "toc_position": {},
   "toc_section_display": true,
   "toc_window_display": true
  }
 },
 "nbformat": 4,
 "nbformat_minor": 5
}
