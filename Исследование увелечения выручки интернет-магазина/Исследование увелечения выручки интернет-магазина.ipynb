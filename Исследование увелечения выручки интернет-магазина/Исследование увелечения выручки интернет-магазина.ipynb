{
 "cells": [
  {
   "cell_type": "markdown",
   "metadata": {},
   "source": [
    "# Исследование увелечения выручки интернет-магазина.\n"
   ]
  },
  {
   "cell_type": "markdown",
   "metadata": {},
   "source": [
    "# Описание проекта\n",
    "Вы — аналитик крупного интернет-магазина. Вместе с отделом маркетинга вы подготовили список гипотез для увеличения выручки.\n",
    "Приоритизируйте гипотезы, запустите A/B-тест и проанализируйте результаты."
   ]
  },
  {
   "cell_type": "markdown",
   "metadata": {},
   "source": [
    "# Ход исследования:\n",
    "\n",
    "**Часть 1. Приоретизация гипотез.**\n",
    "\n",
    "В таблице data приведено 9 гипотез  по увеличению выручки интернет-магазина с указанными параметрами Reach, Impact, Confidence, Effort.\n",
    "Задачи:\n",
    "-  Примените фреймворк ICE для приоритизации гипотез. Отсортируйте их по убыванию приоритета.\n",
    "-  Примените фреймворк RICE для приоритизации гипотез. Отсортируйте их по убыванию приоритета.\n",
    "-  Укажите, как изменилась приоритизация гипотез при применении RICE вместо ICE. Объясните, почему так произошло."
   ]
  },
  {
   "cell_type": "markdown",
   "metadata": {},
   "source": [
    "**Часть 2. Анализ A/B-теста.**\n",
    "\n",
    "Был проведен A/B-тест результаты, которого описаны в таблицах 'orders' и 'visitors'.\n",
    "\n",
    "**Задачи:**\n",
    "\n",
    "1. Провести анализ Анализ A/B-теста:\n",
    "- Постройте график кумулятивной выручки по группам. Сделайте выводы и предположения.\n",
    "- Постройте график кумулятивного среднего чека по группам. Сделайте выводы и предположения.\n",
    "- Постройте график относительного изменения кумулятивного среднего чека группы B к группе A. Сделайте выводы и предположения.\n",
    "- Постройте график кумулятивной конверсии по группам. Сделайте выводы и предположения.\n",
    "- Постройте график относительного изменения кумулятивной конверсии группы B к группе A. Сделайте выводы и предположения.\n",
    "- Постройте точечный график количества заказов по пользователям. Сделайте выводы и предположения.\n",
    "- Посчитайте 95-й и 99-й перцентили количества заказов на пользователя. Выберите границу для определения аномальных пользователей.\n",
    "- Постройте точечный график стоимостей заказов. Сделайте выводы и предположения.\n",
    "- Посчитайте 95-й и 99-й перцентили стоимости заказов. Выберите границу для определения аномальных заказов.\n",
    "- Посчитайте статистическую значимость различий в конверсии между группами по «сырым» данным. Сделайте выводы и предположения.\n",
    "- Посчитайте статистическую значимость различий в среднем чеке заказа между группами по «сырым» данным. Сделайте выводы и предположения.\n",
    "- Посчитайте статистическую значимость различий в конверсии между группами по «очищенным» данным. Сделайте выводы и предположения.\n",
    "- Посчитайте статистическую значимость различий в среднем чеке заказа между группами по «очищенным» данным. Сделайте выводы и предположения.\n",
    "2. Принять решение  по результатам теста и объясните его."
   ]
  },
  {
   "cell_type": "markdown",
   "metadata": {},
   "source": [
    "# Описание данных."
   ]
  },
  {
   "cell_type": "markdown",
   "metadata": {},
   "source": [
    "**1. Данные первой части:**\n",
    "-  Hypothesis — краткое описание гипотезы;\n",
    "-  Reach — охват пользователей по 10-балльной шкале;\n",
    "-  Impact — влияние на пользователей по 10-балльной шкале;\n",
    "-  Confidence — уверенность в гипотезе по 10-балльной шкале;\n",
    "Efforts — затраты ресурсов на проверку гипотезы по 10-балльной шкале. Чем больше значение Efforts, тем дороже проверка гипотезы."
   ]
  },
  {
   "cell_type": "markdown",
   "metadata": {},
   "source": [
    "**2. Данные второй части:**\n",
    "\n",
    "**Таблица orders:**\n",
    "-  transactionId — идентификатор заказа;\n",
    "-  visitorId — идентификатор пользователя, совершившего заказ;\n",
    "-  date — дата, когда был совершён заказ;\n",
    "-  revenue — выручка заказа;\n",
    "-  group — группа A/B-теста, в которую попал заказ.\n",
    "\n",
    "**Таблица visitors:**\n",
    "\n",
    "-  date — дата;\n",
    "-  group — группа A/B-теста;\n",
    "-  visitors — количество пользователей в указанную дату в указанной группе A/B-теста"
   ]
  },
  {
   "cell_type": "markdown",
   "metadata": {},
   "source": [
    "## 1. Загрузка данных и подготовка их к анализу."
   ]
  },
  {
   "cell_type": "code",
   "execution_count": 2,
   "metadata": {},
   "outputs": [],
   "source": [
    "import pandas as pd\n",
    "import datetime as dt\n",
    "import numpy as np\n",
    "import matplotlib.pyplot as plt\n",
    "import scipy.stats as stats\n",
    "\n",
    "\n",
    "\n"
   ]
  },
  {
   "cell_type": "code",
   "execution_count": 3,
   "metadata": {},
   "outputs": [],
   "source": [
    "data= pd.read_csv('/datasets/hypothesis.csv')\n",
    "orders=pd.read_csv('/datasets/orders.csv')\n",
    "visitors=pd.read_csv('/datasets/visitors.csv')\n"
   ]
  },
  {
   "cell_type": "code",
   "execution_count": 4,
   "metadata": {},
   "outputs": [
    {
     "data": {
      "text/html": [
       "<div>\n",
       "<style scoped>\n",
       "    .dataframe tbody tr th:only-of-type {\n",
       "        vertical-align: middle;\n",
       "    }\n",
       "\n",
       "    .dataframe tbody tr th {\n",
       "        vertical-align: top;\n",
       "    }\n",
       "\n",
       "    .dataframe thead th {\n",
       "        text-align: right;\n",
       "    }\n",
       "</style>\n",
       "<table border=\"1\" class=\"dataframe\">\n",
       "  <thead>\n",
       "    <tr style=\"text-align: right;\">\n",
       "      <th></th>\n",
       "      <th>Hypothesis</th>\n",
       "      <th>Reach</th>\n",
       "      <th>Impact</th>\n",
       "      <th>Confidence</th>\n",
       "      <th>Efforts</th>\n",
       "    </tr>\n",
       "  </thead>\n",
       "  <tbody>\n",
       "    <tr>\n",
       "      <th>0</th>\n",
       "      <td>Добавить два новых канала привлечения трафика,...</td>\n",
       "      <td>3</td>\n",
       "      <td>10</td>\n",
       "      <td>8</td>\n",
       "      <td>6</td>\n",
       "    </tr>\n",
       "    <tr>\n",
       "      <th>1</th>\n",
       "      <td>Запустить собственную службу доставки, что сок...</td>\n",
       "      <td>2</td>\n",
       "      <td>5</td>\n",
       "      <td>4</td>\n",
       "      <td>10</td>\n",
       "    </tr>\n",
       "    <tr>\n",
       "      <th>2</th>\n",
       "      <td>Добавить блоки рекомендаций товаров на сайт ин...</td>\n",
       "      <td>8</td>\n",
       "      <td>3</td>\n",
       "      <td>7</td>\n",
       "      <td>3</td>\n",
       "    </tr>\n",
       "    <tr>\n",
       "      <th>3</th>\n",
       "      <td>Изменить структура категорий, что увеличит кон...</td>\n",
       "      <td>8</td>\n",
       "      <td>3</td>\n",
       "      <td>3</td>\n",
       "      <td>8</td>\n",
       "    </tr>\n",
       "    <tr>\n",
       "      <th>4</th>\n",
       "      <td>Изменить цвет фона главной страницы, чтобы уве...</td>\n",
       "      <td>3</td>\n",
       "      <td>1</td>\n",
       "      <td>1</td>\n",
       "      <td>1</td>\n",
       "    </tr>\n",
       "    <tr>\n",
       "      <th>5</th>\n",
       "      <td>Добавить страницу отзывов клиентов о магазине,...</td>\n",
       "      <td>3</td>\n",
       "      <td>2</td>\n",
       "      <td>2</td>\n",
       "      <td>3</td>\n",
       "    </tr>\n",
       "    <tr>\n",
       "      <th>6</th>\n",
       "      <td>Показать на главной странице баннеры с актуаль...</td>\n",
       "      <td>5</td>\n",
       "      <td>3</td>\n",
       "      <td>8</td>\n",
       "      <td>3</td>\n",
       "    </tr>\n",
       "    <tr>\n",
       "      <th>7</th>\n",
       "      <td>Добавить форму подписки на все основные страни...</td>\n",
       "      <td>10</td>\n",
       "      <td>7</td>\n",
       "      <td>8</td>\n",
       "      <td>5</td>\n",
       "    </tr>\n",
       "    <tr>\n",
       "      <th>8</th>\n",
       "      <td>Запустить акцию, дающую скидку на товар в день...</td>\n",
       "      <td>1</td>\n",
       "      <td>9</td>\n",
       "      <td>9</td>\n",
       "      <td>5</td>\n",
       "    </tr>\n",
       "  </tbody>\n",
       "</table>\n",
       "</div>"
      ],
      "text/plain": [
       "                                          Hypothesis  Reach  Impact  \\\n",
       "0  Добавить два новых канала привлечения трафика,...      3      10   \n",
       "1  Запустить собственную службу доставки, что сок...      2       5   \n",
       "2  Добавить блоки рекомендаций товаров на сайт ин...      8       3   \n",
       "3  Изменить структура категорий, что увеличит кон...      8       3   \n",
       "4  Изменить цвет фона главной страницы, чтобы уве...      3       1   \n",
       "5  Добавить страницу отзывов клиентов о магазине,...      3       2   \n",
       "6  Показать на главной странице баннеры с актуаль...      5       3   \n",
       "7  Добавить форму подписки на все основные страни...     10       7   \n",
       "8  Запустить акцию, дающую скидку на товар в день...      1       9   \n",
       "\n",
       "   Confidence  Efforts  \n",
       "0           8        6  \n",
       "1           4       10  \n",
       "2           7        3  \n",
       "3           3        8  \n",
       "4           1        1  \n",
       "5           2        3  \n",
       "6           8        3  \n",
       "7           8        5  \n",
       "8           9        5  "
      ]
     },
     "execution_count": 4,
     "metadata": {},
     "output_type": "execute_result"
    }
   ],
   "source": [
    "data"
   ]
  },
  {
   "cell_type": "code",
   "execution_count": 5,
   "metadata": {},
   "outputs": [
    {
     "name": "stdout",
     "output_type": "stream",
     "text": [
      "<class 'pandas.core.frame.DataFrame'>\n",
      "RangeIndex: 9 entries, 0 to 8\n",
      "Data columns (total 5 columns):\n",
      " #   Column      Non-Null Count  Dtype \n",
      "---  ------      --------------  ----- \n",
      " 0   Hypothesis  9 non-null      object\n",
      " 1   Reach       9 non-null      int64 \n",
      " 2   Impact      9 non-null      int64 \n",
      " 3   Confidence  9 non-null      int64 \n",
      " 4   Efforts     9 non-null      int64 \n",
      "dtypes: int64(4), object(1)\n",
      "memory usage: 488.0+ bytes\n"
     ]
    }
   ],
   "source": [
    "data.info()"
   ]
  },
  {
   "cell_type": "code",
   "execution_count": 6,
   "metadata": {},
   "outputs": [
    {
     "data": {
      "text/plain": [
       "Hypothesis    0\n",
       "Reach         0\n",
       "Impact        0\n",
       "Confidence    0\n",
       "Efforts       0\n",
       "dtype: int64"
      ]
     },
     "execution_count": 6,
     "metadata": {},
     "output_type": "execute_result"
    }
   ],
   "source": [
    "data.isnull().sum()"
   ]
  },
  {
   "cell_type": "code",
   "execution_count": 7,
   "metadata": {},
   "outputs": [
    {
     "data": {
      "text/plain": [
       "0    False\n",
       "1    False\n",
       "2    False\n",
       "3    False\n",
       "4    False\n",
       "5    False\n",
       "6    False\n",
       "7    False\n",
       "8    False\n",
       "dtype: bool"
      ]
     },
     "execution_count": 7,
     "metadata": {},
     "output_type": "execute_result"
    }
   ],
   "source": [
    "data.duplicated()"
   ]
  },
  {
   "cell_type": "markdown",
   "metadata": {},
   "source": [
    "**Комментарий.** Проанализировав, данные таблицы \"data\". В данной таблице пропусков нет, дубликаты отсутвует и типя столбцов коректны."
   ]
  },
  {
   "cell_type": "code",
   "execution_count": 8,
   "metadata": {},
   "outputs": [
    {
     "data": {
      "text/html": [
       "<div>\n",
       "<style scoped>\n",
       "    .dataframe tbody tr th:only-of-type {\n",
       "        vertical-align: middle;\n",
       "    }\n",
       "\n",
       "    .dataframe tbody tr th {\n",
       "        vertical-align: top;\n",
       "    }\n",
       "\n",
       "    .dataframe thead th {\n",
       "        text-align: right;\n",
       "    }\n",
       "</style>\n",
       "<table border=\"1\" class=\"dataframe\">\n",
       "  <thead>\n",
       "    <tr style=\"text-align: right;\">\n",
       "      <th></th>\n",
       "      <th>transactionId</th>\n",
       "      <th>visitorId</th>\n",
       "      <th>date</th>\n",
       "      <th>revenue</th>\n",
       "      <th>group</th>\n",
       "    </tr>\n",
       "  </thead>\n",
       "  <tbody>\n",
       "    <tr>\n",
       "      <th>0</th>\n",
       "      <td>3667963787</td>\n",
       "      <td>3312258926</td>\n",
       "      <td>2019-08-15</td>\n",
       "      <td>1650</td>\n",
       "      <td>B</td>\n",
       "    </tr>\n",
       "    <tr>\n",
       "      <th>1</th>\n",
       "      <td>2804400009</td>\n",
       "      <td>3642806036</td>\n",
       "      <td>2019-08-15</td>\n",
       "      <td>730</td>\n",
       "      <td>B</td>\n",
       "    </tr>\n",
       "    <tr>\n",
       "      <th>2</th>\n",
       "      <td>2961555356</td>\n",
       "      <td>4069496402</td>\n",
       "      <td>2019-08-15</td>\n",
       "      <td>400</td>\n",
       "      <td>A</td>\n",
       "    </tr>\n",
       "    <tr>\n",
       "      <th>3</th>\n",
       "      <td>3797467345</td>\n",
       "      <td>1196621759</td>\n",
       "      <td>2019-08-15</td>\n",
       "      <td>9759</td>\n",
       "      <td>B</td>\n",
       "    </tr>\n",
       "    <tr>\n",
       "      <th>4</th>\n",
       "      <td>2282983706</td>\n",
       "      <td>2322279887</td>\n",
       "      <td>2019-08-15</td>\n",
       "      <td>2308</td>\n",
       "      <td>B</td>\n",
       "    </tr>\n",
       "  </tbody>\n",
       "</table>\n",
       "</div>"
      ],
      "text/plain": [
       "   transactionId   visitorId        date  revenue group\n",
       "0     3667963787  3312258926  2019-08-15     1650     B\n",
       "1     2804400009  3642806036  2019-08-15      730     B\n",
       "2     2961555356  4069496402  2019-08-15      400     A\n",
       "3     3797467345  1196621759  2019-08-15     9759     B\n",
       "4     2282983706  2322279887  2019-08-15     2308     B"
      ]
     },
     "execution_count": 8,
     "metadata": {},
     "output_type": "execute_result"
    }
   ],
   "source": [
    "orders.head()"
   ]
  },
  {
   "cell_type": "code",
   "execution_count": 9,
   "metadata": {},
   "outputs": [
    {
     "name": "stdout",
     "output_type": "stream",
     "text": [
      "<class 'pandas.core.frame.DataFrame'>\n",
      "RangeIndex: 1197 entries, 0 to 1196\n",
      "Data columns (total 5 columns):\n",
      " #   Column         Non-Null Count  Dtype \n",
      "---  ------         --------------  ----- \n",
      " 0   transactionId  1197 non-null   int64 \n",
      " 1   visitorId      1197 non-null   int64 \n",
      " 2   date           1197 non-null   object\n",
      " 3   revenue        1197 non-null   int64 \n",
      " 4   group          1197 non-null   object\n",
      "dtypes: int64(3), object(2)\n",
      "memory usage: 46.9+ KB\n"
     ]
    }
   ],
   "source": [
    "orders.info()"
   ]
  },
  {
   "cell_type": "code",
   "execution_count": 10,
   "metadata": {},
   "outputs": [],
   "source": [
    "orders['date'] = orders['date'].map(lambda x: dt.datetime.strptime(x, '%Y-%m-%d'))"
   ]
  },
  {
   "cell_type": "code",
   "execution_count": 11,
   "metadata": {},
   "outputs": [
    {
     "name": "stdout",
     "output_type": "stream",
     "text": [
      "<class 'pandas.core.frame.DataFrame'>\n",
      "RangeIndex: 1197 entries, 0 to 1196\n",
      "Data columns (total 5 columns):\n",
      " #   Column         Non-Null Count  Dtype         \n",
      "---  ------         --------------  -----         \n",
      " 0   transactionId  1197 non-null   int64         \n",
      " 1   visitorId      1197 non-null   int64         \n",
      " 2   date           1197 non-null   datetime64[ns]\n",
      " 3   revenue        1197 non-null   int64         \n",
      " 4   group          1197 non-null   object        \n",
      "dtypes: datetime64[ns](1), int64(3), object(1)\n",
      "memory usage: 46.9+ KB\n"
     ]
    }
   ],
   "source": [
    "orders.info()"
   ]
  },
  {
   "cell_type": "code",
   "execution_count": 12,
   "metadata": {},
   "outputs": [
    {
     "data": {
      "text/plain": [
       "transactionId    0\n",
       "visitorId        0\n",
       "date             0\n",
       "revenue          0\n",
       "group            0\n",
       "dtype: int64"
      ]
     },
     "execution_count": 12,
     "metadata": {},
     "output_type": "execute_result"
    }
   ],
   "source": [
    "orders.isnull().sum()"
   ]
  },
  {
   "cell_type": "code",
   "execution_count": 13,
   "metadata": {},
   "outputs": [
    {
     "data": {
      "text/plain": [
       "0"
      ]
     },
     "execution_count": 13,
     "metadata": {},
     "output_type": "execute_result"
    }
   ],
   "source": [
    "orders.duplicated().sum()"
   ]
  },
  {
   "cell_type": "markdown",
   "metadata": {},
   "source": [
    "**Комментарий.** В таблице \"orders\" отсутствуют дубликаьы и пропуски, только изменили тип данных столбцы 'date' на datetime."
   ]
  },
  {
   "cell_type": "code",
   "execution_count": 14,
   "metadata": {},
   "outputs": [
    {
     "data": {
      "text/html": [
       "<div>\n",
       "<style scoped>\n",
       "    .dataframe tbody tr th:only-of-type {\n",
       "        vertical-align: middle;\n",
       "    }\n",
       "\n",
       "    .dataframe tbody tr th {\n",
       "        vertical-align: top;\n",
       "    }\n",
       "\n",
       "    .dataframe thead th {\n",
       "        text-align: right;\n",
       "    }\n",
       "</style>\n",
       "<table border=\"1\" class=\"dataframe\">\n",
       "  <thead>\n",
       "    <tr style=\"text-align: right;\">\n",
       "      <th></th>\n",
       "      <th>date</th>\n",
       "      <th>group</th>\n",
       "      <th>visitors</th>\n",
       "    </tr>\n",
       "  </thead>\n",
       "  <tbody>\n",
       "    <tr>\n",
       "      <th>0</th>\n",
       "      <td>2019-08-01</td>\n",
       "      <td>A</td>\n",
       "      <td>719</td>\n",
       "    </tr>\n",
       "    <tr>\n",
       "      <th>1</th>\n",
       "      <td>2019-08-02</td>\n",
       "      <td>A</td>\n",
       "      <td>619</td>\n",
       "    </tr>\n",
       "    <tr>\n",
       "      <th>2</th>\n",
       "      <td>2019-08-03</td>\n",
       "      <td>A</td>\n",
       "      <td>507</td>\n",
       "    </tr>\n",
       "    <tr>\n",
       "      <th>3</th>\n",
       "      <td>2019-08-04</td>\n",
       "      <td>A</td>\n",
       "      <td>717</td>\n",
       "    </tr>\n",
       "    <tr>\n",
       "      <th>4</th>\n",
       "      <td>2019-08-05</td>\n",
       "      <td>A</td>\n",
       "      <td>756</td>\n",
       "    </tr>\n",
       "  </tbody>\n",
       "</table>\n",
       "</div>"
      ],
      "text/plain": [
       "         date group  visitors\n",
       "0  2019-08-01     A       719\n",
       "1  2019-08-02     A       619\n",
       "2  2019-08-03     A       507\n",
       "3  2019-08-04     A       717\n",
       "4  2019-08-05     A       756"
      ]
     },
     "execution_count": 14,
     "metadata": {},
     "output_type": "execute_result"
    }
   ],
   "source": [
    "visitors.head( )"
   ]
  },
  {
   "cell_type": "code",
   "execution_count": 15,
   "metadata": {},
   "outputs": [
    {
     "data": {
      "text/html": [
       "<div>\n",
       "<style scoped>\n",
       "    .dataframe tbody tr th:only-of-type {\n",
       "        vertical-align: middle;\n",
       "    }\n",
       "\n",
       "    .dataframe tbody tr th {\n",
       "        vertical-align: top;\n",
       "    }\n",
       "\n",
       "    .dataframe thead th {\n",
       "        text-align: right;\n",
       "    }\n",
       "</style>\n",
       "<table border=\"1\" class=\"dataframe\">\n",
       "  <thead>\n",
       "    <tr style=\"text-align: right;\">\n",
       "      <th></th>\n",
       "      <th>date</th>\n",
       "      <th>group</th>\n",
       "      <th>visitors</th>\n",
       "    </tr>\n",
       "  </thead>\n",
       "  <tbody>\n",
       "    <tr>\n",
       "      <th>0</th>\n",
       "      <td>2019-08-01</td>\n",
       "      <td>A</td>\n",
       "      <td>719</td>\n",
       "    </tr>\n",
       "    <tr>\n",
       "      <th>1</th>\n",
       "      <td>2019-08-02</td>\n",
       "      <td>A</td>\n",
       "      <td>619</td>\n",
       "    </tr>\n",
       "    <tr>\n",
       "      <th>2</th>\n",
       "      <td>2019-08-03</td>\n",
       "      <td>A</td>\n",
       "      <td>507</td>\n",
       "    </tr>\n",
       "    <tr>\n",
       "      <th>3</th>\n",
       "      <td>2019-08-04</td>\n",
       "      <td>A</td>\n",
       "      <td>717</td>\n",
       "    </tr>\n",
       "    <tr>\n",
       "      <th>4</th>\n",
       "      <td>2019-08-05</td>\n",
       "      <td>A</td>\n",
       "      <td>756</td>\n",
       "    </tr>\n",
       "  </tbody>\n",
       "</table>\n",
       "</div>"
      ],
      "text/plain": [
       "         date group  visitors\n",
       "0  2019-08-01     A       719\n",
       "1  2019-08-02     A       619\n",
       "2  2019-08-03     A       507\n",
       "3  2019-08-04     A       717\n",
       "4  2019-08-05     A       756"
      ]
     },
     "execution_count": 15,
     "metadata": {},
     "output_type": "execute_result"
    }
   ],
   "source": [
    "visitors.head( )"
   ]
  },
  {
   "cell_type": "code",
   "execution_count": 16,
   "metadata": {},
   "outputs": [
    {
     "name": "stdout",
     "output_type": "stream",
     "text": [
      "<class 'pandas.core.frame.DataFrame'>\n",
      "RangeIndex: 62 entries, 0 to 61\n",
      "Data columns (total 3 columns):\n",
      " #   Column    Non-Null Count  Dtype \n",
      "---  ------    --------------  ----- \n",
      " 0   date      62 non-null     object\n",
      " 1   group     62 non-null     object\n",
      " 2   visitors  62 non-null     int64 \n",
      "dtypes: int64(1), object(2)\n",
      "memory usage: 1.6+ KB\n"
     ]
    }
   ],
   "source": [
    "visitors.info()"
   ]
  },
  {
   "cell_type": "code",
   "execution_count": 17,
   "metadata": {},
   "outputs": [],
   "source": [
    "visitors['date']=visitors['date'].map(lambda x:dt.datetime.strptime(x, '%Y-%m-%d'))"
   ]
  },
  {
   "cell_type": "code",
   "execution_count": 18,
   "metadata": {},
   "outputs": [
    {
     "name": "stdout",
     "output_type": "stream",
     "text": [
      "<class 'pandas.core.frame.DataFrame'>\n",
      "RangeIndex: 62 entries, 0 to 61\n",
      "Data columns (total 3 columns):\n",
      " #   Column    Non-Null Count  Dtype         \n",
      "---  ------    --------------  -----         \n",
      " 0   date      62 non-null     datetime64[ns]\n",
      " 1   group     62 non-null     object        \n",
      " 2   visitors  62 non-null     int64         \n",
      "dtypes: datetime64[ns](1), int64(1), object(1)\n",
      "memory usage: 1.6+ KB\n"
     ]
    }
   ],
   "source": [
    "visitors.info()"
   ]
  },
  {
   "cell_type": "code",
   "execution_count": 19,
   "metadata": {},
   "outputs": [
    {
     "data": {
      "text/plain": [
       "date        0\n",
       "group       0\n",
       "visitors    0\n",
       "dtype: int64"
      ]
     },
     "execution_count": 19,
     "metadata": {},
     "output_type": "execute_result"
    }
   ],
   "source": [
    "visitors.isnull().sum()"
   ]
  },
  {
   "cell_type": "code",
   "execution_count": 20,
   "metadata": {},
   "outputs": [
    {
     "data": {
      "text/plain": [
       "0"
      ]
     },
     "execution_count": 20,
     "metadata": {},
     "output_type": "execute_result"
    }
   ],
   "source": [
    "visitors.duplicated().sum()"
   ]
  },
  {
   "cell_type": "markdown",
   "metadata": {},
   "source": [
    "**Комментарий.** В таблице \"visitors\" отсутствуют дубликаьы и пропуски, только изменили тип данных столбцы 'date' на datetime."
   ]
  },
  {
   "cell_type": "markdown",
   "metadata": {},
   "source": [
    "**Комментарий.** Проанализировав данные трех таблиц можно сказать, что все данные корректны, целостны, дубликатов нет - и готовы к анализу. В процессе предобработки был поменян только тип столбца \"date\" на datetime"
   ]
  },
  {
   "cell_type": "code",
   "execution_count": 21,
   "metadata": {},
   "outputs": [
    {
     "data": {
      "text/plain": [
       "group    58\n",
       "dtype: int64"
      ]
     },
     "execution_count": 21,
     "metadata": {},
     "output_type": "execute_result"
    }
   ],
   "source": [
    "orders.groupby('visitorId').agg({'group' : 'nunique'}).query('group>1').count()\n"
   ]
  },
  {
   "cell_type": "code",
   "execution_count": 22,
   "metadata": {},
   "outputs": [],
   "source": [
    "double_users = orders.groupby('visitorId').agg({'group' : 'nunique'}).reset_index().query('group>1')['visitorId'].unique()\n"
   ]
  },
  {
   "cell_type": "code",
   "execution_count": 23,
   "metadata": {},
   "outputs": [],
   "source": [
    "orders = orders.query('visitorId not in @double_users')"
   ]
  },
  {
   "cell_type": "markdown",
   "metadata": {},
   "source": [
    "### 1.1 Рассмотрим, как изменилась приоритизация гипотез при применении RICE вместо ICE. "
   ]
  },
  {
   "cell_type": "code",
   "execution_count": 24,
   "metadata": {},
   "outputs": [
    {
     "data": {
      "text/html": [
       "<div>\n",
       "<style scoped>\n",
       "    .dataframe tbody tr th:only-of-type {\n",
       "        vertical-align: middle;\n",
       "    }\n",
       "\n",
       "    .dataframe tbody tr th {\n",
       "        vertical-align: top;\n",
       "    }\n",
       "\n",
       "    .dataframe thead th {\n",
       "        text-align: right;\n",
       "    }\n",
       "</style>\n",
       "<table border=\"1\" class=\"dataframe\">\n",
       "  <thead>\n",
       "    <tr style=\"text-align: right;\">\n",
       "      <th></th>\n",
       "      <th>RICE</th>\n",
       "      <th>Hypothesis</th>\n",
       "    </tr>\n",
       "  </thead>\n",
       "  <tbody>\n",
       "    <tr>\n",
       "      <th>7</th>\n",
       "      <td>112.0</td>\n",
       "      <td>Добавить форму подписки на все основные страни...</td>\n",
       "    </tr>\n",
       "    <tr>\n",
       "      <th>2</th>\n",
       "      <td>56.0</td>\n",
       "      <td>Добавить блоки рекомендаций товаров на сайт ин...</td>\n",
       "    </tr>\n",
       "    <tr>\n",
       "      <th>0</th>\n",
       "      <td>40.0</td>\n",
       "      <td>Добавить два новых канала привлечения трафика,...</td>\n",
       "    </tr>\n",
       "    <tr>\n",
       "      <th>6</th>\n",
       "      <td>40.0</td>\n",
       "      <td>Показать на главной странице баннеры с актуаль...</td>\n",
       "    </tr>\n",
       "    <tr>\n",
       "      <th>8</th>\n",
       "      <td>16.2</td>\n",
       "      <td>Запустить акцию, дающую скидку на товар в день...</td>\n",
       "    </tr>\n",
       "    <tr>\n",
       "      <th>3</th>\n",
       "      <td>9.0</td>\n",
       "      <td>Изменить структура категорий, что увеличит кон...</td>\n",
       "    </tr>\n",
       "    <tr>\n",
       "      <th>1</th>\n",
       "      <td>4.0</td>\n",
       "      <td>Запустить собственную службу доставки, что сок...</td>\n",
       "    </tr>\n",
       "    <tr>\n",
       "      <th>5</th>\n",
       "      <td>4.0</td>\n",
       "      <td>Добавить страницу отзывов клиентов о магазине,...</td>\n",
       "    </tr>\n",
       "    <tr>\n",
       "      <th>4</th>\n",
       "      <td>3.0</td>\n",
       "      <td>Изменить цвет фона главной страницы, чтобы уве...</td>\n",
       "    </tr>\n",
       "  </tbody>\n",
       "</table>\n",
       "</div>"
      ],
      "text/plain": [
       "    RICE                                         Hypothesis\n",
       "7  112.0  Добавить форму подписки на все основные страни...\n",
       "2   56.0  Добавить блоки рекомендаций товаров на сайт ин...\n",
       "0   40.0  Добавить два новых канала привлечения трафика,...\n",
       "6   40.0  Показать на главной странице баннеры с актуаль...\n",
       "8   16.2  Запустить акцию, дающую скидку на товар в день...\n",
       "3    9.0  Изменить структура категорий, что увеличит кон...\n",
       "1    4.0  Запустить собственную службу доставки, что сок...\n",
       "5    4.0  Добавить страницу отзывов клиентов о магазине,...\n",
       "4    3.0  Изменить цвет фона главной страницы, чтобы уве..."
      ]
     },
     "metadata": {},
     "output_type": "display_data"
    }
   ],
   "source": [
    "data['RICE']= (data['Reach']*data['Impact']*data['Confidence'])/data['Efforts']\n",
    "display(data[['RICE', 'Hypothesis']].sort_values(by='RICE', ascending=False))"
   ]
  },
  {
   "cell_type": "markdown",
   "metadata": {},
   "source": [
    "**Комментарий.** Исходя из анализа видно различие в обеих таблицах. Главное меняется тройка лидеров : если в ICE это гипотезы с индексами 8, 0, 7 , то в RICE - 7(была на 3 мете), 2(была на 5), 0(на 2); а лидер таблицы ICE - 8 сместился аж на пятыю позицыию, в то время как 2 перешел на второе место с пятого. Такое отличие продиктовано, тем что в фреймворке RICE мы учитываем важный параметр - Reach (скольких пользователей затронет изменение, которое мы хотим внести), и в гипотезах 7 и 2 он очень высок (в 7 он =10 - максимальный! А в 2 он =8,тоже высокий, а в лидере ICE - в 8 он минимальный =1). Поэтому надо предложить для тестирования гипотезу №7 и возможно еще №2."
   ]
  },
  {
   "cell_type": "markdown",
   "metadata": {},
   "source": [
    "\n",
    "\n"
   ]
  },
  {
   "cell_type": "markdown",
   "metadata": {},
   "source": [
    "## 2. Анализ A/B-теста\n"
   ]
  },
  {
   "cell_type": "markdown",
   "metadata": {},
   "source": [
    "###  2.1 Построим график кумулятивной выручки по группам"
   ]
  },
  {
   "cell_type": "code",
   "execution_count": 24,
   "metadata": {},
   "outputs": [],
   "source": [
    "datesGroups = orders[['date','group']].drop_duplicates() "
   ]
  },
  {
   "cell_type": "code",
   "execution_count": 25,
   "metadata": {},
   "outputs": [],
   "source": [
    "ordersAggregated = datesGroups.apply(lambda x: orders[np.logical_and(orders['date'] <= x['date'], orders['group'] == x['group'])]\\\n",
    ".agg({'date' : 'max', 'group' : 'max', 'visitorId' : 'nunique', 'transactionId' : 'nunique', 'revenue' : 'sum'}), axis=1).sort_values(by=['date','group'])\n",
    "visitorsAggregated = datesGroups.apply(lambda x: visitors[np.logical_and(visitors['date'] <= x['date'], visitors['group'] == x['group'])].agg({'date' : 'max', 'group' : 'max', 'visitors' : 'sum'}), axis=1).sort_values(by=['date','group'])                      "
   ]
  },
  {
   "cell_type": "code",
   "execution_count": 26,
   "metadata": {},
   "outputs": [
    {
     "name": "stdout",
     "output_type": "stream",
     "text": [
      "        date group  orders  buyers  revenue  visitors\n",
      "0 2019-08-01     A      19      23   142779       719\n",
      "1 2019-08-01     B      17      17    59758       713\n",
      "2 2019-08-02     A      36      42   234381      1338\n",
      "3 2019-08-02     B      39      40   221801      1294\n",
      "4 2019-08-03     A      60      66   346854      1845\n"
     ]
    }
   ],
   "source": [
    "cumulativeData = ordersAggregated.merge(visitorsAggregated, left_on=['date', 'group'], right_on=['date', 'group'])\n",
    "cumulativeData.columns = ['date', 'group', 'orders', 'buyers', 'revenue', 'visitors']\n",
    "print(cumulativeData.head(5)) "
   ]
  },
  {
   "cell_type": "code",
   "execution_count": 27,
   "metadata": {},
   "outputs": [],
   "source": [
    "cumulativeRevenueA=cumulativeData[cumulativeData['group']=='A'][['date','revenue','orders']]\n",
    "cumulativeRevenueB=cumulativeData[cumulativeData['group']=='B'][['date','revenue','orders']]\n"
   ]
  },
  {
   "cell_type": "code",
   "execution_count": 28,
   "metadata": {
    "scrolled": false
   },
   "outputs": [
    {
     "data": {
      "image/png": "[encoded data removed]",
      "text/plain": [
       "<Figure size 1080x360 with 1 Axes>"
      ]
     },
     "metadata": {
      "needs_background": "light"
     },
     "output_type": "display_data"
    }
   ],
   "source": [
    "plt.figure(figsize=(15,5))\n",
    "plt.plot(cumulativeRevenueA['date'],cumulativeRevenueA['revenue'],label='A')\n",
    "plt.plot(cumulativeRevenueB['date'],cumulativeRevenueB['revenue'], label='B')\n",
    "plt.legend()\n",
    "plt.title('График кумулятивной выручки')\n",
    "plt.show()"
   ]
  },
  {
   "cell_type": "markdown",
   "metadata": {},
   "source": [
    "**Комментарий.** Из графика видно, что первая половина месяца выручка примерно растет планомерно без скачков, также выручка в группе В растет чуть быстрее, чем в группе А. Примерно 13 августа выручка группы А и В одинаковые. Во второй поливине месяца  ситуация меняется, выручка у группы B значительно растет и становиться значительно выше, ем у группы А. Так же стоить отметить что в период с 17 августа по 21 агутса у группы В произошел сильный всплеск в выручки, это может быть обусловлено большим количесвом заказов или крупные заказы. Если не считать данный всплеск , то выручки росли планомерно."
   ]
  },
  {
   "cell_type": "markdown",
   "metadata": {},
   "source": [
    "### 2.2  Построим график кумулятивного среднего чека по группам"
   ]
  },
  {
   "cell_type": "code",
   "execution_count": 29,
   "metadata": {},
   "outputs": [
    {
     "data": {
      "text/plain": [
       "Text(0.5, 1.0, 'График кумулятивного среднего чека')"
      ]
     },
     "execution_count": 29,
     "metadata": {},
     "output_type": "execute_result"
    },
    {
     "data": {
      "image/png": "[encoded data removed]",
      "text/plain": [
       "<Figure size 1080x360 with 1 Axes>"
      ]
     },
     "metadata": {
      "needs_background": "light"
     },
     "output_type": "display_data"
    }
   ],
   "source": [
    "plt.figure(figsize=(15,5))\n",
    "plt.plot(cumulativeRevenueA['date'],cumulativeRevenueA['revenue']/cumulativeRevenueA['orders'], label='A')\n",
    "plt.plot(cumulativeRevenueB['date'],cumulativeRevenueB['revenue']/cumulativeRevenueB['orders'], label='B')\n",
    "plt.legend()\n",
    "plt.title('График кумулятивного среднего чека')"
   ]
  },
  {
   "cell_type": "markdown",
   "metadata": {},
   "source": [
    "**Комментарий.** Данный график имеет схожесть с предыдущим.В превой половине месяца у группы В средний чек выше чем у группы А. Но также есть моменты, где средний чек выше у группы А а именно 1 августа, 12 августа -15 августа. Дальше уже чек группы В значительно больше. Также на грфике тоже отслеживатеся всплеск в группе B, послое дэтого сплеска видно, что выручка в группе B плавно снижается, а вот средний чек в группе А на протяжении всего месяцо плавно растет."
   ]
  },
  {
   "cell_type": "markdown",
   "metadata": {},
   "source": [
    "### 2.3 Построим график относительного изменения кумулятивного среднего чека группы B к группе A. "
   ]
  },
  {
   "cell_type": "code",
   "execution_count": 30,
   "metadata": {},
   "outputs": [
    {
     "data": {
      "text/plain": [
       "Text(0.5, 1.0, 'Гафик относительного изменения кумулятивного среднего чека группы B к группе A')"
      ]
     },
     "execution_count": 30,
     "metadata": {},
     "output_type": "execute_result"
    },
    {
     "data": {
      "image/png": "[encoded data removed]",
      "text/plain": [
       "<Figure size 1080x360 with 1 Axes>"
      ]
     },
     "metadata": {
      "needs_background": "light"
     },
     "output_type": "display_data"
    }
   ],
   "source": [
    "plt.figure(figsize=(15,5))\n",
    "mergecumulativeRevenue=cumulativeRevenueA.merge(cumulativeRevenueB, left_on='date',right_on='date',how='left',suffixes=['A','B'])\n",
    "plt.plot(mergecumulativeRevenue['date'],(mergecumulativeRevenue['revenueB']/mergecumulativeRevenue['ordersB'])/(mergecumulativeRevenue['revenueA']/mergecumulativeRevenue['ordersA'])-1)\n",
    "plt.axhline(y=0, color='black', linestyle='--') \n",
    "plt.title('Гафик относительного изменения кумулятивного среднего чека группы B к группе A')"
   ]
  },
  {
   "cell_type": "markdown",
   "metadata": {},
   "source": [
    "**Комментарий.** Средний чек группы B рос с 1 августа, 2 августа уже превысил \"A\" и рос до 7 августа. 7-8 пошло обратное движение до 13 августа, причем 3 дня 12-14 акгуста средний чек \"A\" был больше \"B\". Но не надолго, с 13 чек \"B\" опять начал расти и уже 15 августа наступил переломный момент и на следующий день чек \"B\" оказался больше и находился больше \"A\" до конца месяца. Опять же здесь хорошо видно, что 19 августа был сильный всплеск (рост) с аномально большим объемом, а в последующие дни средний чек \"B\" также постепенно снижался."
   ]
  },
  {
   "cell_type": "markdown",
   "metadata": {},
   "source": [
    "### 2.4 Построим график кумулятивного среднего количества заказов на посетителя по группам"
   ]
  },
  {
   "cell_type": "code",
   "execution_count": 31,
   "metadata": {},
   "outputs": [
    {
     "data": {
      "text/plain": [
       "Text(0.5, 1.0, 'График кумулятивной конверсии')"
      ]
     },
     "execution_count": 31,
     "metadata": {},
     "output_type": "execute_result"
    },
    {
     "data": {
      "image/png": "[encoded data removed]",
      "text/plain": [
       "<Figure size 1080x360 with 1 Axes>"
      ]
     },
     "metadata": {
      "needs_background": "light"
     },
     "output_type": "display_data"
    }
   ],
   "source": [
    "plt.figure(figsize=(15,5))\n",
    "cumulativeData['conversion']=cumulativeData['orders']/cumulativeData['visitors']\n",
    "cumulativeDataA=cumulativeData[cumulativeData['group']=='A']\n",
    "cumulativeDataB=cumulativeData[cumulativeData['group']=='B']\n",
    "plt.plot(cumulativeDataA['date'],cumulativeDataA['conversion'],label='A')\n",
    "plt.plot(cumulativeDataB['date'],cumulativeDataB['conversion'],label='B')\n",
    "plt.legend()\n",
    "plt.title('График кумулятивной конверсии')\n"
   ]
  },
  {
   "cell_type": "markdown",
   "metadata": {},
   "source": [
    "**Комментарий** Исходя из графика видно, что конверсия группы В значительно выше конверсии группы А.Но также есть периоды, когда конверсия группы А немного выше конверсии группы В примерно с 3 августа по 5 августа."
   ]
  },
  {
   "cell_type": "markdown",
   "metadata": {},
   "source": [
    "### 2.5 Постройте график относительного изменения кумулятивного среднего количества заказов на посетителя группы B к группе A. Сделайте выводы и предположения."
   ]
  },
  {
   "cell_type": "code",
   "execution_count": 32,
   "metadata": {},
   "outputs": [
    {
     "name": "stderr",
     "output_type": "stream",
     "text": [
      "No handles with labels found to put in legend.\n"
     ]
    },
    {
     "data": {
      "image/png": "[encoded data removed]",
      "text/plain": [
       "<Figure size 1080x360 with 1 Axes>"
      ]
     },
     "metadata": {
      "needs_background": "light"
     },
     "output_type": "display_data"
    }
   ],
   "source": [
    "plt.figure(figsize=(15,5))\n",
    "plt.grid()\n",
    "mergecumulativeDataConversion=cumulativeDataA.merge(cumulativeDataB,left_on='date',right_on='date',how='left',suffixes=['A','B'])\n",
    "plt.plot(mergecumulativeDataConversion['date'],mergecumulativeDataConversion['conversionB']/ mergecumulativeDataConversion['conversionA']-1)\n",
    "plt.title('График относительного изменения кумулятивной конверсии')\n",
    "plt.axhline(y=0, color='black', linestyle='--') \n",
    "plt.legend()\n",
    "plt.show()\n",
    "\n",
    " "
   ]
  },
  {
   "cell_type": "markdown",
   "metadata": {},
   "source": [
    "**Комментарий.** Исходя их графика  можно сказать, что примерно с 3 вгуста по 5 августа конверсия группы А превышала конверисю группы В примерно на 3%. Далее начиная с 5 авгутса по 9 августа происходит сильный скачок  в росте конверсиси группы B, она повысилась на 22%. Самый высокий уровень конверсии был 15 и 17 августа 24%, далее конверсия идет на спад. \n",
    " "
   ]
  },
  {
   "cell_type": "markdown",
   "metadata": {},
   "source": [
    "###  2.6 Построим точечный график количества заказов по пользователям. "
   ]
  },
  {
   "cell_type": "code",
   "execution_count": 33,
   "metadata": {},
   "outputs": [
    {
     "data": {
      "text/html": [
       "<div>\n",
       "<style scoped>\n",
       "    .dataframe tbody tr th:only-of-type {\n",
       "        vertical-align: middle;\n",
       "    }\n",
       "\n",
       "    .dataframe tbody tr th {\n",
       "        vertical-align: top;\n",
       "    }\n",
       "\n",
       "    .dataframe thead th {\n",
       "        text-align: right;\n",
       "    }\n",
       "</style>\n",
       "<table border=\"1\" class=\"dataframe\">\n",
       "  <thead>\n",
       "    <tr style=\"text-align: right;\">\n",
       "      <th></th>\n",
       "      <th>user_id</th>\n",
       "      <th>orders</th>\n",
       "    </tr>\n",
       "  </thead>\n",
       "  <tbody>\n",
       "    <tr>\n",
       "      <th>908</th>\n",
       "      <td>3967698036</td>\n",
       "      <td>3</td>\n",
       "    </tr>\n",
       "    <tr>\n",
       "      <th>55</th>\n",
       "      <td>249864742</td>\n",
       "      <td>3</td>\n",
       "    </tr>\n",
       "    <tr>\n",
       "      <th>478</th>\n",
       "      <td>2108163459</td>\n",
       "      <td>3</td>\n",
       "    </tr>\n",
       "    <tr>\n",
       "      <th>687</th>\n",
       "      <td>2988190573</td>\n",
       "      <td>3</td>\n",
       "    </tr>\n",
       "    <tr>\n",
       "      <th>890</th>\n",
       "      <td>3908431265</td>\n",
       "      <td>3</td>\n",
       "    </tr>\n",
       "    <tr>\n",
       "      <th>138</th>\n",
       "      <td>611059232</td>\n",
       "      <td>3</td>\n",
       "    </tr>\n",
       "    <tr>\n",
       "      <th>632</th>\n",
       "      <td>2742574263</td>\n",
       "      <td>3</td>\n",
       "    </tr>\n",
       "    <tr>\n",
       "      <th>157</th>\n",
       "      <td>678354126</td>\n",
       "      <td>2</td>\n",
       "    </tr>\n",
       "    <tr>\n",
       "      <th>323</th>\n",
       "      <td>1404560065</td>\n",
       "      <td>2</td>\n",
       "    </tr>\n",
       "    <tr>\n",
       "      <th>452</th>\n",
       "      <td>1985475298</td>\n",
       "      <td>2</td>\n",
       "    </tr>\n",
       "  </tbody>\n",
       "</table>\n",
       "</div>"
      ],
      "text/plain": [
       "        user_id  orders\n",
       "908  3967698036       3\n",
       "55    249864742       3\n",
       "478  2108163459       3\n",
       "687  2988190573       3\n",
       "890  3908431265       3\n",
       "138   611059232       3\n",
       "632  2742574263       3\n",
       "157   678354126       2\n",
       "323  1404560065       2\n",
       "452  1985475298       2"
      ]
     },
     "execution_count": 33,
     "metadata": {},
     "output_type": "execute_result"
    }
   ],
   "source": [
    "ordersByUsers = orders.drop(['group', 'revenue', 'date'], axis=1).groupby('visitorId', as_index=False). \\\n",
    "                                                                        agg({'transactionId' : pd.Series.nunique})\n",
    "\n",
    "ordersByUsers.columns = ['user_id','orders']\n",
    "\n",
    "ordersByUsers.sort_values(by='orders',ascending=False).head(10)"
   ]
  },
  {
   "cell_type": "code",
   "execution_count": 34,
   "metadata": {},
   "outputs": [
    {
     "data": {
      "text/plain": [
       "<matplotlib.collections.PathCollection at 0x7f2b0291f4f0>"
      ]
     },
     "execution_count": 34,
     "metadata": {},
     "output_type": "execute_result"
    },
    {
     "data": {
      "image/png": "[encoded data removed]",
      "text/plain": [
       "<Figure size 1080x360 with 1 Axes>"
      ]
     },
     "metadata": {
      "needs_background": "light"
     },
     "output_type": "display_data"
    }
   ],
   "source": [
    "x_values = pd.Series(range(0,len(ordersByUsers)))\n",
    "\n",
    "plt.figure(figsize=(15,5))\n",
    "plt.grid()\n",
    "plt.title('График количества заказов по пользователям')\n",
    "plt.scatter(x_values, ordersByUsers['orders']) "
   ]
  },
  {
   "cell_type": "markdown",
   "metadata": {},
   "source": [
    "**Комментарий.** Из графика видно, что больше всего пользователей, которые совершили одну покупку, меньше посетителей, совершившив 2 покупки. Совсем мало посетителей, совершивших 3 покупки, но пока рано судить явялется ли это выбросом, сложно пока сказать(точно будет известно после расчета 99 и 95 процентеля. Все пользователи, совершившие свыше 3 заказов явно является аномалией."
   ]
  },
  {
   "cell_type": "markdown",
   "metadata": {},
   "source": [
    "###  2.7 Посчитайте 95-й и 99-й перцентили количества заказов на пользователя. Выберите границу для определения аномальных пользователей."
   ]
  },
  {
   "cell_type": "code",
   "execution_count": 35,
   "metadata": {},
   "outputs": [
    {
     "name": "stdout",
     "output_type": "stream",
     "text": [
      "95 и 99 процентиль по заказам: [1. 2.]\n"
     ]
    }
   ],
   "source": [
    "print('95 и 99 процентиль по заказам:', np.percentile(ordersByUsers['orders'],[95,99]))"
   ]
  },
  {
   "cell_type": "markdown",
   "metadata": {},
   "source": [
    "**Комментарий.** 99% пользоватлей совершили меньше 2 заказов, установим её в качестве границы для аномалий."
   ]
  },
  {
   "cell_type": "markdown",
   "metadata": {},
   "source": [
    "### 2.8 Построим точечный график стоимостей заказов."
   ]
  },
  {
   "cell_type": "code",
   "execution_count": 36,
   "metadata": {},
   "outputs": [
    {
     "data": {
      "text/plain": [
       "<matplotlib.collections.PathCollection at 0x7f2b028974c0>"
      ]
     },
     "execution_count": 36,
     "metadata": {},
     "output_type": "execute_result"
    },
    {
     "data": {
      "image/png": "[encoded data removed]",
      "text/plain": [
       "<Figure size 1080x360 with 1 Axes>"
      ]
     },
     "metadata": {
      "needs_background": "light"
     },
     "output_type": "display_data"
    }
   ],
   "source": [
    "x_values = pd.Series(range(0,len(orders['revenue'])))\n",
    "\n",
    "plt.figure(figsize=(15,5))\n",
    "plt.grid()\n",
    "plt.title('График стоимости заказа')\n",
    "plt.scatter(x_values, orders['revenue']) "
   ]
  },
  {
   "cell_type": "markdown",
   "metadata": {},
   "source": [
    "**Комментарий.** Изучив график, видно явные выбросы свыше 200000. Поэтому срежем данные по нему и построим новый график более понятный."
   ]
  },
  {
   "cell_type": "code",
   "execution_count": 37,
   "metadata": {},
   "outputs": [
    {
     "data": {
      "text/plain": [
       "<matplotlib.collections.PathCollection at 0x7f2b0287a730>"
      ]
     },
     "execution_count": 37,
     "metadata": {},
     "output_type": "execute_result"
    },
    {
     "data": {
      "image/png": "[encoded data removed]",
      "text/plain": [
       "<Figure size 1080x360 with 1 Axes>"
      ]
     },
     "metadata": {
      "needs_background": "light"
     },
     "output_type": "display_data"
    }
   ],
   "source": [
    "orders_new=orders[orders['revenue']<=200000]['revenue']\n",
    "x_values = pd.Series(range(0,len(orders_new)))\n",
    "\n",
    "plt.figure(figsize=(15,5))\n",
    "plt.grid()\n",
    "plt.title('График стоимости заказа')\n",
    "plt.scatter(x_values, orders_new) "
   ]
  },
  {
   "cell_type": "markdown",
   "metadata": {},
   "source": [
    "**Коментарий.** Исходя из графика видно хорошо аномально большой заказа свыше 1.2 млн, такде примерно большая часть заказов набодится в диапозоне 100000. Но чтобы более точно узнать необходимо расчитать процентили."
   ]
  },
  {
   "cell_type": "markdown",
   "metadata": {},
   "source": [
    "###  2.9 Посчитаем 95-й и 99-й перцентили стоимости заказов"
   ]
  },
  {
   "cell_type": "code",
   "execution_count": 38,
   "metadata": {},
   "outputs": [
    {
     "name": "stdout",
     "output_type": "stream",
     "text": [
      "95 и 99 процентиль по стоимости: [26785. 53904.]\n"
     ]
    }
   ],
   "source": [
    "print('95 и 99 процентиль по стоимости:', np.percentile(orders['revenue'],[95,99]))"
   ]
  },
  {
   "cell_type": "markdown",
   "metadata": {},
   "source": [
    "**Комметарий.** 99% заказов меньше суммы 53904 , установим её в качестве границы для аномалий."
   ]
  },
  {
   "cell_type": "markdown",
   "metadata": {},
   "source": [
    "### 2.10 Посчитаем статистическую значимость различий в среднем количестве заказов на посетителя между группами по «сырым» данным"
   ]
  },
  {
   "cell_type": "markdown",
   "metadata": {},
   "source": [
    "Соберем все данные по заказам и визитам (а также добавим кумулятивные показатели) в одну таблицу. Для этого создадим несколько таблиц и затем объединим их:"
   ]
  },
  {
   "cell_type": "code",
   "execution_count": 39,
   "metadata": {},
   "outputs": [],
   "source": [
    "visitorsADaily = visitors[visitors['group']=='A'][['date', 'visitors']]\n",
    "visitorsADaily.columns = ['date', 'visitorsPerDateA']\n",
    "\n",
    "visitorsACummulative = visitorsADaily.apply(lambda x: visitorsADaily[visitorsADaily['date'] <= x['date']]. \\\n",
    "                                            agg({'date' : 'max', 'visitorsPerDateA' : 'sum'}), axis=1)\n",
    "visitorsACummulative.columns = ['date', 'visitorsCummulativeA']\n",
    "\n",
    "visitorsBDaily = visitors[visitors['group']=='B'][['date', 'visitors']]\n",
    "visitorsBDaily.columns = ['date', 'visitorsPerDateB']\n",
    "\n",
    "visitorsBCummulative = visitorsBDaily.apply(lambda x: visitorsBDaily[visitorsBDaily['date'] <= x['date']]. \\\n",
    "                                            agg({'date' : 'max', 'visitorsPerDateB' : 'sum'}), axis=1)\n",
    "visitorsBCummulative.columns = ['date', 'visitorsCummulativeB']\n",
    "\n",
    "\n",
    "ordersADaily = orders[orders['group']=='A'][['date', 'transactionId', 'visitorId', 'revenue']]\\\n",
    "    .groupby('date', as_index=False)\\\n",
    "    .agg({'transactionId' : pd.Series.nunique, 'revenue' : 'sum'})\n",
    "ordersADaily.columns = ['date', 'ordersPerDateA', 'revenuePerDateA']\n",
    "\n",
    "ordersACummulative = ordersADaily.apply(\n",
    "    lambda x: \\\n",
    "        ordersADaily[ordersADaily['date'] <= x['date']]\\\n",
    "            .agg({\n",
    "                'date' : 'max',\n",
    "                'ordersPerDateA' : 'sum',\n",
    "                'revenuePerDateA' : 'sum'}), axis=1).sort_values(by=['date'])\n",
    "ordersACummulative.columns = ['date', 'ordersCummulativeA', 'revenueCummulativeA']\n",
    "\n",
    "ordersBDaily = orders[orders['group']=='B'][['date', 'transactionId', 'visitorId', 'revenue']]\\\n",
    "    .groupby('date', as_index=False)\\\n",
    "    .agg({'transactionId' : pd.Series.nunique, 'revenue' : 'sum'})\n",
    "ordersBDaily.columns = ['date', 'ordersPerDateB', 'revenuePerDateB']\n",
    "\n",
    "ordersBCummulative = ordersBDaily.apply(\n",
    "    lambda x: \\\n",
    "        ordersBDaily[ordersBDaily['date'] <= x['date']]\\\n",
    "            .agg({\n",
    "                'date' : 'max',\n",
    "                'ordersPerDateB' : 'sum',\n",
    "                'revenuePerDateB' : 'sum'}), axis=1).sort_values(by=['date'])\n",
    "ordersBCummulative.columns = ['date', 'ordersCummulativeB', 'revenueCummulativeB']"
   ]
  },
  {
   "cell_type": "code",
   "execution_count": 40,
   "metadata": {},
   "outputs": [
    {
     "data": {
      "text/html": [
       "<div>\n",
       "<style scoped>\n",
       "    .dataframe tbody tr th:only-of-type {\n",
       "        vertical-align: middle;\n",
       "    }\n",
       "\n",
       "    .dataframe tbody tr th {\n",
       "        vertical-align: top;\n",
       "    }\n",
       "\n",
       "    .dataframe thead th {\n",
       "        text-align: right;\n",
       "    }\n",
       "</style>\n",
       "<table border=\"1\" class=\"dataframe\">\n",
       "  <thead>\n",
       "    <tr style=\"text-align: right;\">\n",
       "      <th></th>\n",
       "      <th>date</th>\n",
       "      <th>ordersPerDateA</th>\n",
       "      <th>revenuePerDateA</th>\n",
       "      <th>ordersPerDateB</th>\n",
       "      <th>revenuePerDateB</th>\n",
       "      <th>ordersCummulativeA</th>\n",
       "      <th>revenueCummulativeA</th>\n",
       "      <th>ordersCummulativeB</th>\n",
       "      <th>revenueCummulativeB</th>\n",
       "      <th>visitorsPerDateA</th>\n",
       "      <th>visitorsPerDateB</th>\n",
       "      <th>visitorsCummulativeA</th>\n",
       "      <th>visitorsCummulativeB</th>\n",
       "    </tr>\n",
       "  </thead>\n",
       "  <tbody>\n",
       "    <tr>\n",
       "      <th>0</th>\n",
       "      <td>2019-08-01</td>\n",
       "      <td>23</td>\n",
       "      <td>142779</td>\n",
       "      <td>17</td>\n",
       "      <td>59758</td>\n",
       "      <td>23</td>\n",
       "      <td>142779</td>\n",
       "      <td>17</td>\n",
       "      <td>59758</td>\n",
       "      <td>719</td>\n",
       "      <td>713</td>\n",
       "      <td>719</td>\n",
       "      <td>713</td>\n",
       "    </tr>\n",
       "    <tr>\n",
       "      <th>1</th>\n",
       "      <td>2019-08-02</td>\n",
       "      <td>19</td>\n",
       "      <td>91602</td>\n",
       "      <td>23</td>\n",
       "      <td>162043</td>\n",
       "      <td>42</td>\n",
       "      <td>234381</td>\n",
       "      <td>40</td>\n",
       "      <td>221801</td>\n",
       "      <td>619</td>\n",
       "      <td>581</td>\n",
       "      <td>1338</td>\n",
       "      <td>1294</td>\n",
       "    </tr>\n",
       "    <tr>\n",
       "      <th>2</th>\n",
       "      <td>2019-08-03</td>\n",
       "      <td>24</td>\n",
       "      <td>112473</td>\n",
       "      <td>14</td>\n",
       "      <td>67049</td>\n",
       "      <td>66</td>\n",
       "      <td>346854</td>\n",
       "      <td>54</td>\n",
       "      <td>288850</td>\n",
       "      <td>507</td>\n",
       "      <td>509</td>\n",
       "      <td>1845</td>\n",
       "      <td>1803</td>\n",
       "    </tr>\n",
       "    <tr>\n",
       "      <th>3</th>\n",
       "      <td>2019-08-04</td>\n",
       "      <td>11</td>\n",
       "      <td>41176</td>\n",
       "      <td>14</td>\n",
       "      <td>96890</td>\n",
       "      <td>77</td>\n",
       "      <td>388030</td>\n",
       "      <td>68</td>\n",
       "      <td>385740</td>\n",
       "      <td>717</td>\n",
       "      <td>770</td>\n",
       "      <td>2562</td>\n",
       "      <td>2573</td>\n",
       "    </tr>\n",
       "    <tr>\n",
       "      <th>4</th>\n",
       "      <td>2019-08-05</td>\n",
       "      <td>22</td>\n",
       "      <td>86383</td>\n",
       "      <td>21</td>\n",
       "      <td>89908</td>\n",
       "      <td>99</td>\n",
       "      <td>474413</td>\n",
       "      <td>89</td>\n",
       "      <td>475648</td>\n",
       "      <td>756</td>\n",
       "      <td>707</td>\n",
       "      <td>3318</td>\n",
       "      <td>3280</td>\n",
       "    </tr>\n",
       "  </tbody>\n",
       "</table>\n",
       "</div>"
      ],
      "text/plain": [
       "        date  ordersPerDateA  revenuePerDateA  ordersPerDateB  \\\n",
       "0 2019-08-01              23           142779              17   \n",
       "1 2019-08-02              19            91602              23   \n",
       "2 2019-08-03              24           112473              14   \n",
       "3 2019-08-04              11            41176              14   \n",
       "4 2019-08-05              22            86383              21   \n",
       "\n",
       "   revenuePerDateB  ordersCummulativeA  revenueCummulativeA  \\\n",
       "0            59758                  23               142779   \n",
       "1           162043                  42               234381   \n",
       "2            67049                  66               346854   \n",
       "3            96890                  77               388030   \n",
       "4            89908                  99               474413   \n",
       "\n",
       "   ordersCummulativeB  revenueCummulativeB  visitorsPerDateA  \\\n",
       "0                  17                59758               719   \n",
       "1                  40               221801               619   \n",
       "2                  54               288850               507   \n",
       "3                  68               385740               717   \n",
       "4                  89               475648               756   \n",
       "\n",
       "   visitorsPerDateB  visitorsCummulativeA  visitorsCummulativeB  \n",
       "0               713                   719                   713  \n",
       "1               581                  1338                  1294  \n",
       "2               509                  1845                  1803  \n",
       "3               770                  2562                  2573  \n",
       "4               707                  3318                  3280  "
      ]
     },
     "execution_count": 40,
     "metadata": {},
     "output_type": "execute_result"
    }
   ],
   "source": [
    "data = ordersADaily.merge(ordersBDaily, left_on='date', right_on='date', how='left')\\\n",
    "    .merge(ordersACummulative, left_on='date', right_on='date', how='left')\\\n",
    "    .merge(ordersBCummulative, left_on='date', right_on='date', how='left')\\\n",
    "    .merge(visitorsADaily, left_on='date', right_on='date', how='left')\\\n",
    "    .merge(visitorsBDaily, left_on='date', right_on='date', how='left')\\\n",
    "    .merge(visitorsACummulative, left_on='date', right_on='date', how='left')\\\n",
    "    .merge(visitorsBCummulative, left_on='date', right_on='date', how='left')\n",
    "data.head()"
   ]
  },
  {
   "cell_type": "code",
   "execution_count": 41,
   "metadata": {},
   "outputs": [],
   "source": [
    "ordersByUsersA = orders[orders['group']=='A'].groupby('visitorId', as_index=False).agg({'transactionId' : pd.Series.nunique})\n",
    "ordersByUsersA.columns = ['userId', 'orders']\n",
    "\n",
    "ordersByUsersB = orders[orders['group']=='B'].groupby('visitorId', as_index=False).agg({'transactionId' : pd.Series.nunique})\n",
    "ordersByUsersB.columns = ['userId', 'orders']\n",
    "\n",
    "sampleA = pd.concat([ordersByUsersA['orders'],pd.Series(0, index=np.arange(data['visitorsPerDateA'].sum() - len(ordersByUsersA['orders'])), name='orders')],axis=0)\n",
    "\n",
    "sampleB = pd.concat([ordersByUsersB['orders'],pd.Series(0, index=np.arange(data['visitorsPerDateB'].sum() - len(ordersByUsersB['orders'])), name='orders')],axis=0)\n",
    "\n"
   ]
  },
  {
   "cell_type": "markdown",
   "metadata": {},
   "source": [
    "**Проверим гипотезы**"
   ]
  },
  {
   "cell_type": "markdown",
   "metadata": {},
   "source": [
    "**H0: Статистически значимых различий между конверсиями нет.**\n",
    "\n",
    "**H1: Статистически значимые различия между конверсиями есть.**"
   ]
  },
  {
   "cell_type": "code",
   "execution_count": 42,
   "metadata": {},
   "outputs": [
    {
     "name": "stdout",
     "output_type": "stream",
     "text": [
      "alpha = 0.05\n",
      "p-value = 0.011\n",
      "Относительный показатель 'B' и 'A' = 0.160\n"
     ]
    }
   ],
   "source": [
    "print(\"alpha =\",0.05)\n",
    "print(\"p-value = {0:.3f}\".format(stats.mannwhitneyu(sampleA, sampleB, alternative = 'two-sided')[1]))\n",
    "print(\"Относительный показатель 'B' и 'A' = {0:.3f}\".format(sampleB.mean()/sampleA.mean()-1))"
   ]
  },
  {
   "cell_type": "markdown",
   "metadata": {},
   "source": [
    "**Комментарий.** Так как p-value меньше alpha, то нулевую гипотезу мы отвергаем. А это значит, что  по «сырым» данным различия в конверсии групп A и B есть. Относительный выигрыш группы \"В\" к \"А\" составляет 13.8%"
   ]
  },
  {
   "cell_type": "markdown",
   "metadata": {},
   "source": [
    "###  2.11 Посчитаем статистическую значимость различий в среднем чеке заказа между группами по «сырым» данным. "
   ]
  },
  {
   "cell_type": "markdown",
   "metadata": {},
   "source": [
    "**H0:Статистически значимых различий между средними чеками групп нет.**\n",
    "\n",
    "**Н1: Статистически значимые различия между средними чеками групп есть.**"
   ]
  },
  {
   "cell_type": "code",
   "execution_count": 43,
   "metadata": {},
   "outputs": [
    {
     "name": "stdout",
     "output_type": "stream",
     "text": [
      "p-value: 0.829\n",
      "Относительный показатель В к А: 0.287\n"
     ]
    }
   ],
   "source": [
    "print('p-value:','{0:.3f}'.format(stats.mannwhitneyu(orders[orders['group']=='A']['revenue'], orders[orders['group']=='B']['revenue'])[1]))\n",
    "print('Относительный показатель В к А:','{0:.3f}'.format(orders[orders['group']=='B']['revenue'].mean()/orders[orders['group']=='A']['revenue'].mean()-1))"
   ]
  },
  {
   "cell_type": "markdown",
   "metadata": {},
   "source": [
    "**Комментарий.** Так как p-value больше alpha, то нулевую гипотезы мы не отвергаем. По сырым данным  средние чеки в группах схожи.Однако в группе B средний чек больше чем в групее А на 26%, но данное различие не является статистически значимым."
   ]
  },
  {
   "cell_type": "markdown",
   "metadata": {},
   "source": [
    "###  2.12 Посчитаем статистическую значимость различий в среднем количестве заказов на посетителя между группами по «очищенным» данным. "
   ]
  },
  {
   "cell_type": "code",
   "execution_count": 44,
   "metadata": {},
   "outputs": [
    {
     "name": "stdout",
     "output_type": "stream",
     "text": [
      "1099    148427295\n",
      "33      249864742\n",
      "58      611059232\n",
      "949     887908475\n",
      "744     888512513\n",
      "dtype: int64\n",
      "Всего аномальных пользователей = 16\n"
     ]
    }
   ],
   "source": [
    "usersWithManyOrders = pd.concat([ordersByUsersA[ordersByUsersA['orders'] > 2]['userId'], ordersByUsersB[ordersByUsersB['orders'] > 2]['userId']], axis = 0)\n",
    "usersWithExpensiveOrders = orders[orders['revenue'] >  53904]['visitorId']\n",
    "abnormalUsers = pd.concat([usersWithManyOrders, usersWithExpensiveOrders], axis = 0).drop_duplicates().sort_values()\n",
    "print(abnormalUsers.head(5))\n",
    "print(\"Всего аномальных пользователей =\" ,abnormalUsers.shape[0]) "
   ]
  },
  {
   "cell_type": "code",
   "execution_count": 45,
   "metadata": {},
   "outputs": [],
   "source": [
    "sampleAFiltered = pd.concat(\n",
    "    [\n",
    "        ordersByUsersA[\n",
    "            np.logical_not(ordersByUsersA['userId'].isin(abnormalUsers))\n",
    "        ]['orders'],\n",
    "        pd.Series(\n",
    "            0,\n",
    "            index=np.arange(\n",
    "                data['visitorsPerDateA'].sum() - len(ordersByUsersA['orders'])\n",
    "            ),\n",
    "            name='orders',\n",
    "        ),\n",
    "    ],\n",
    "    axis=0,\n",
    ")\n",
    "\n",
    "sampleBFiltered = pd.concat(\n",
    "    [\n",
    "        ordersByUsersB[\n",
    "            np.logical_not(ordersByUsersB['userId'].isin(abnormalUsers))\n",
    "        ]['orders'],\n",
    "        pd.Series(\n",
    "            0,\n",
    "            index=np.arange(\n",
    "                data['visitorsPerDateB'].sum() - len(ordersByUsersB['orders'])\n",
    "            ),\n",
    "            name='orders',\n",
    "        ),\n",
    "    ],\n",
    "    axis=0,\n",
    ") "
   ]
  },
  {
   "cell_type": "markdown",
   "metadata": {},
   "source": [
    "**Проверим гипотезы**"
   ]
  },
  {
   "cell_type": "markdown",
   "metadata": {},
   "source": [
    "**H0:Статистичеси значимых различий меду конверсиями групп нет.**\n",
    "\n",
    "**H1:Статистически значиме различия между конверсиями групп есть.**"
   ]
  },
  {
   "cell_type": "code",
   "execution_count": 46,
   "metadata": {},
   "outputs": [
    {
     "name": "stdout",
     "output_type": "stream",
     "text": [
      "p-value= 0.007\n",
      "Относительный показатель 'B' и 'A' = 0.189\n"
     ]
    }
   ],
   "source": [
    "print('p-value=','{0:.3f}'.format(stats.mannwhitneyu(sampleAFiltered, sampleBFiltered)[1]))\n",
    "print(\"Относительный показатель 'B' и 'A' = {0:.3f}\".format(sampleBFiltered.mean()/sampleAFiltered.mean()-1)) "
   ]
  },
  {
   "cell_type": "markdown",
   "metadata": {},
   "source": [
    "**Комментарий.** Так p-value меньше 0.05, то нулевую гипотезу мы отвергаем. Это значит, что по \"очищенным\" данным различия в группе \"В\" и \"А\" есть. А относительный выигрыш группы \"В\" над \"А\" 17.4%(а по сырым данным 13.8%)"
   ]
  },
  {
   "cell_type": "code",
   "execution_count": 47,
   "metadata": {},
   "outputs": [
    {
     "name": "stdout",
     "output_type": "stream",
     "text": [
      "p-value = 0.788\n",
      "Относительный показатель 'B' и 'A' = -0.032\n"
     ]
    }
   ],
   "source": [
    "print(\"p-value = {0:.3f}\".format(stats.mannwhitneyu(\n",
    "    orders[np.logical_and(\n",
    "        orders['group']=='A',\n",
    "        np.logical_not(orders['visitorId'].isin(abnormalUsers)))]['revenue'],\n",
    "    orders[np.logical_and(\n",
    "        orders['group']=='B',\n",
    "        np.logical_not(orders['visitorId'].isin(abnormalUsers)))]['revenue'], alternative = 'two-sided')[1]))\n",
    "\n",
    "print(\"Относительный показатель 'B' и 'A' = {0:.3f}\".format(\n",
    "    orders[np.logical_and(orders['group']=='B',np.logical_not(orders['visitorId'].isin(abnormalUsers)))]['revenue'].mean()/\n",
    "    orders[np.logical_and(\n",
    "        orders['group']=='A',\n",
    "        np.logical_not(orders['visitorId'].isin(abnormalUsers)))]['revenue'].mean() - 1))"
   ]
  },
  {
   "cell_type": "markdown",
   "metadata": {},
   "source": [
    "**Комментари.й**Так p-value>0.05, то нулевую гипотезу не отвергаем. А это значит что средние чеки в группе \"А\" и \n",
    "\"В\" схожи.А вот средний чек группы B оказался незначительно (на 2%) ниже среднего чека группы A, в то время как по \"сырым\" данным, он был больше аж на 26%, - и всё это из-за одного того самого аномального заказа"
   ]
  },
  {
   "cell_type": "markdown",
   "metadata": {},
   "source": [
    "# 3. Вывод "
   ]
  },
  {
   "cell_type": "markdown",
   "metadata": {},
   "source": [
    "В ходе тестирования было выявлено:\n",
    "- Что различия в конверсиях групп А и Б есть как на \"сырых\", так и на \"очищенных\" данных.Относительный выигрыш группы \"B\" над \"A\" равен 17,4% по \"очищенным\" и 13.8% по \"сырым\" данным.\n",
    "- А вот разичий в средних чеках между гуппами А и В не оказалость как в \" сырых\", так и в \"очищенных\" данных. Несмотря на то, что средний чек группы B оказался незначительно (на 2%) ниже среднего чека группы A по \"очищенным\" данным, в то время как по \"сырым\" данным, он был больше а ж на 26%, - и всё это из-за одного того самого аномального заказа.\n",
    "**Результат тестирования:** Остановить тестирования и константировать успех группы В,  так как конверсия у данной группы значительно выше, чем у группы А, несмотря на примерно одиноковые средние чеки.\n"
   ]
  }
 ],
 "metadata": {
  "ExecuteTimeLog": [
   {
    "duration": 444,
    "start_time": "2022-12-19T13:30:45.196Z"
   },
   {
    "duration": 15,
    "start_time": "2022-12-19T13:31:03.641Z"
   },
   {
    "duration": 6,
    "start_time": "2022-12-19T13:33:13.138Z"
   },
   {
    "duration": 17,
    "start_time": "2022-12-19T13:34:23.204Z"
   },
   {
    "duration": 5,
    "start_time": "2022-12-19T13:36:19.102Z"
   },
   {
    "duration": 13,
    "start_time": "2022-12-19T13:37:11.495Z"
   },
   {
    "duration": 102,
    "start_time": "2022-12-19T13:49:15.836Z"
   },
   {
    "duration": 58,
    "start_time": "2022-12-19T13:49:28.367Z"
   },
   {
    "duration": 58,
    "start_time": "2022-12-19T13:49:40.993Z"
   },
   {
    "duration": 54,
    "start_time": "2022-12-19T13:50:26.495Z"
   },
   {
    "duration": 70,
    "start_time": "2022-12-19T13:51:23.961Z"
   },
   {
    "duration": 5,
    "start_time": "2022-12-19T13:53:23.378Z"
   },
   {
    "duration": 75,
    "start_time": "2022-12-19T15:28:55.934Z"
   },
   {
    "duration": 14,
    "start_time": "2022-12-19T15:37:06.932Z"
   },
   {
    "duration": 461,
    "start_time": "2022-12-19T15:37:32.402Z"
   },
   {
    "duration": 14,
    "start_time": "2022-12-19T15:37:32.865Z"
   },
   {
    "duration": 19,
    "start_time": "2022-12-19T15:37:32.880Z"
   },
   {
    "duration": 2,
    "start_time": "2022-12-19T15:37:34.356Z"
   },
   {
    "duration": 55,
    "start_time": "2022-12-19T15:37:34.591Z"
   },
   {
    "duration": 23,
    "start_time": "2022-12-19T15:37:35.334Z"
   },
   {
    "duration": 6,
    "start_time": "2022-12-19T15:37:35.548Z"
   },
   {
    "duration": 168,
    "start_time": "2022-12-19T15:37:36.072Z"
   },
   {
    "duration": 148,
    "start_time": "2022-12-19T15:37:37.822Z"
   },
   {
    "duration": 250,
    "start_time": "2022-12-19T15:38:37.282Z"
   },
   {
    "duration": 7,
    "start_time": "2022-12-19T15:42:22.523Z"
   },
   {
    "duration": 9,
    "start_time": "2022-12-19T15:43:15.974Z"
   },
   {
    "duration": 45,
    "start_time": "2022-12-19T18:48:18.565Z"
   },
   {
    "duration": 898,
    "start_time": "2022-12-19T18:48:22.842Z"
   },
   {
    "duration": 21,
    "start_time": "2022-12-19T18:48:23.742Z"
   },
   {
    "duration": 15,
    "start_time": "2022-12-19T18:48:23.765Z"
   },
   {
    "duration": 3,
    "start_time": "2022-12-19T18:48:23.999Z"
   },
   {
    "duration": 101,
    "start_time": "2022-12-19T18:48:24.222Z"
   },
   {
    "duration": 62,
    "start_time": "2022-12-19T18:48:24.452Z"
   },
   {
    "duration": 6,
    "start_time": "2022-12-19T18:48:24.969Z"
   },
   {
    "duration": 268,
    "start_time": "2022-12-19T18:48:25.431Z"
   },
   {
    "duration": 14,
    "start_time": "2022-12-19T18:48:26.083Z"
   },
   {
    "duration": 38,
    "start_time": "2022-12-19T18:48:26.685Z"
   },
   {
    "duration": 9,
    "start_time": "2022-12-19T18:48:39.967Z"
   },
   {
    "duration": 14,
    "start_time": "2022-12-19T18:48:50.024Z"
   },
   {
    "duration": 10,
    "start_time": "2022-12-19T18:49:08.742Z"
   },
   {
    "duration": 6,
    "start_time": "2022-12-19T18:49:39.774Z"
   },
   {
    "duration": 293,
    "start_time": "2022-12-19T18:51:53.813Z"
   },
   {
    "duration": 254,
    "start_time": "2022-12-19T18:56:12.589Z"
   },
   {
    "duration": 29,
    "start_time": "2022-12-19T19:02:12.610Z"
   },
   {
    "duration": 17,
    "start_time": "2022-12-19T19:02:12.833Z"
   },
   {
    "duration": 13,
    "start_time": "2022-12-19T19:02:13.048Z"
   },
   {
    "duration": 3,
    "start_time": "2022-12-19T19:02:13.697Z"
   },
   {
    "duration": 57,
    "start_time": "2022-12-19T19:02:13.974Z"
   },
   {
    "duration": 25,
    "start_time": "2022-12-19T19:02:14.194Z"
   },
   {
    "duration": 7,
    "start_time": "2022-12-19T19:02:14.378Z"
   },
   {
    "duration": 277,
    "start_time": "2022-12-19T19:02:14.608Z"
   },
   {
    "duration": 12,
    "start_time": "2022-12-19T19:02:14.887Z"
   },
   {
    "duration": 8,
    "start_time": "2022-12-19T19:02:15.104Z"
   },
   {
    "duration": 311,
    "start_time": "2022-12-19T19:02:15.320Z"
   },
   {
    "duration": 101,
    "start_time": "2022-12-19T19:06:46.274Z"
   },
   {
    "duration": 34,
    "start_time": "2022-12-19T19:06:46.805Z"
   },
   {
    "duration": 29,
    "start_time": "2022-12-19T19:06:50.016Z"
   },
   {
    "duration": 13,
    "start_time": "2022-12-19T19:06:50.220Z"
   },
   {
    "duration": 14,
    "start_time": "2022-12-19T19:06:50.440Z"
   },
   {
    "duration": 3,
    "start_time": "2022-12-19T19:06:51.003Z"
   },
   {
    "duration": 83,
    "start_time": "2022-12-19T19:06:51.552Z"
   },
   {
    "duration": 104,
    "start_time": "2022-12-19T19:06:59.313Z"
   },
   {
    "duration": 87,
    "start_time": "2022-12-19T19:07:08.703Z"
   },
   {
    "duration": 27,
    "start_time": "2022-12-19T19:07:56.577Z"
   },
   {
    "duration": 11,
    "start_time": "2022-12-19T19:07:56.852Z"
   },
   {
    "duration": 13,
    "start_time": "2022-12-19T19:07:57.088Z"
   },
   {
    "duration": 2,
    "start_time": "2022-12-19T19:07:59.112Z"
   },
   {
    "duration": 66,
    "start_time": "2022-12-19T19:07:59.654Z"
   },
   {
    "duration": 73,
    "start_time": "2022-12-19T19:08:10.879Z"
   },
   {
    "duration": 37,
    "start_time": "2022-12-19T19:08:14.838Z"
   },
   {
    "duration": 69,
    "start_time": "2022-12-19T19:08:29.199Z"
   },
   {
    "duration": 22,
    "start_time": "2022-12-19T19:08:30.102Z"
   },
   {
    "duration": 6,
    "start_time": "2022-12-19T19:08:30.300Z"
   },
   {
    "duration": 359,
    "start_time": "2022-12-19T19:08:30.499Z"
   },
   {
    "duration": 20,
    "start_time": "2022-12-19T19:08:30.860Z"
   },
   {
    "duration": 59,
    "start_time": "2022-12-19T19:08:30.884Z"
   },
   {
    "duration": 291,
    "start_time": "2022-12-19T19:08:31.071Z"
   },
   {
    "duration": 160,
    "start_time": "2022-12-19T19:08:35.296Z"
   },
   {
    "duration": 219,
    "start_time": "2022-12-19T19:12:01.337Z"
   },
   {
    "duration": 202,
    "start_time": "2022-12-19T19:12:19.526Z"
   },
   {
    "duration": 272,
    "start_time": "2022-12-19T19:12:28.062Z"
   },
   {
    "duration": 8,
    "start_time": "2022-12-19T19:21:25.119Z"
   },
   {
    "duration": 194,
    "start_time": "2022-12-19T19:25:44.573Z"
   },
   {
    "duration": 363,
    "start_time": "2022-12-19T19:26:37.141Z"
   },
   {
    "duration": 5,
    "start_time": "2022-12-19T19:29:08.362Z"
   },
   {
    "duration": 5,
    "start_time": "2022-12-19T19:29:31.244Z"
   },
   {
    "duration": 4,
    "start_time": "2022-12-19T19:30:22.149Z"
   },
   {
    "duration": 5,
    "start_time": "2022-12-19T19:33:53.939Z"
   },
   {
    "duration": 4,
    "start_time": "2022-12-19T19:34:04.625Z"
   },
   {
    "duration": 4,
    "start_time": "2022-12-19T19:34:28.473Z"
   },
   {
    "duration": 5,
    "start_time": "2022-12-19T19:34:43.636Z"
   },
   {
    "duration": 7,
    "start_time": "2022-12-19T19:34:51.947Z"
   },
   {
    "duration": 966,
    "start_time": "2022-12-20T10:34:00.571Z"
   },
   {
    "duration": 25,
    "start_time": "2022-12-20T10:34:01.541Z"
   },
   {
    "duration": 18,
    "start_time": "2022-12-20T10:34:01.569Z"
   },
   {
    "duration": 4,
    "start_time": "2022-12-20T10:34:01.715Z"
   },
   {
    "duration": 121,
    "start_time": "2022-12-20T10:34:01.955Z"
   },
   {
    "duration": 73,
    "start_time": "2022-12-20T10:34:02.203Z"
   },
   {
    "duration": 7,
    "start_time": "2022-12-20T10:34:02.446Z"
   },
   {
    "duration": 288,
    "start_time": "2022-12-20T10:34:02.885Z"
   },
   {
    "duration": 10,
    "start_time": "2022-12-20T10:34:03.175Z"
   },
   {
    "duration": 7,
    "start_time": "2022-12-20T10:34:03.363Z"
   },
   {
    "duration": 349,
    "start_time": "2022-12-20T10:34:03.587Z"
   },
   {
    "duration": 229,
    "start_time": "2022-12-20T10:34:04.051Z"
   },
   {
    "duration": 387,
    "start_time": "2022-12-20T10:34:04.964Z"
   },
   {
    "duration": 6,
    "start_time": "2022-12-20T10:34:06.237Z"
   },
   {
    "duration": 6,
    "start_time": "2022-12-20T10:35:15.026Z"
   },
   {
    "duration": 3,
    "start_time": "2022-12-20T10:35:22.022Z"
   },
   {
    "duration": 8,
    "start_time": "2022-12-20T10:35:42.223Z"
   },
   {
    "duration": 4,
    "start_time": "2022-12-20T10:38:13.984Z"
   },
   {
    "duration": 226,
    "start_time": "2022-12-20T10:41:14.233Z"
   },
   {
    "duration": 190,
    "start_time": "2022-12-20T10:41:55.432Z"
   },
   {
    "duration": 267,
    "start_time": "2022-12-20T10:43:19.482Z"
   },
   {
    "duration": 204,
    "start_time": "2022-12-20T10:44:03.904Z"
   },
   {
    "duration": 240,
    "start_time": "2022-12-20T10:44:12.967Z"
   },
   {
    "duration": 26,
    "start_time": "2022-12-20T10:50:32.647Z"
   },
   {
    "duration": 18,
    "start_time": "2022-12-20T10:50:32.831Z"
   },
   {
    "duration": 25,
    "start_time": "2022-12-20T10:50:33.046Z"
   },
   {
    "duration": 3,
    "start_time": "2022-12-20T10:50:33.666Z"
   },
   {
    "duration": 59,
    "start_time": "2022-12-20T10:50:33.927Z"
   },
   {
    "duration": 23,
    "start_time": "2022-12-20T10:50:34.326Z"
   },
   {
    "duration": 6,
    "start_time": "2022-12-20T10:50:34.699Z"
   },
   {
    "duration": 260,
    "start_time": "2022-12-20T10:50:35.027Z"
   },
   {
    "duration": 9,
    "start_time": "2022-12-20T10:50:35.298Z"
   },
   {
    "duration": 7,
    "start_time": "2022-12-20T10:50:35.556Z"
   },
   {
    "duration": 179,
    "start_time": "2022-12-20T10:50:35.819Z"
   },
   {
    "duration": 277,
    "start_time": "2022-12-20T10:50:37.378Z"
   },
   {
    "duration": 191,
    "start_time": "2022-12-20T10:53:13.786Z"
   },
   {
    "duration": 244,
    "start_time": "2022-12-20T10:54:37.347Z"
   },
   {
    "duration": 218,
    "start_time": "2022-12-20T11:02:11.967Z"
   },
   {
    "duration": 329,
    "start_time": "2022-12-20T11:17:42.891Z"
   },
   {
    "duration": 279,
    "start_time": "2022-12-20T11:19:53.834Z"
   },
   {
    "duration": 276,
    "start_time": "2022-12-20T11:44:54.556Z"
   },
   {
    "duration": 279,
    "start_time": "2022-12-20T11:45:10.649Z"
   },
   {
    "duration": 198,
    "start_time": "2022-12-20T11:46:03.852Z"
   },
   {
    "duration": 7,
    "start_time": "2022-12-20T11:50:15.674Z"
   },
   {
    "duration": 150,
    "start_time": "2022-12-20T11:51:59.650Z"
   },
   {
    "duration": 315,
    "start_time": "2022-12-20T11:54:26.292Z"
   },
   {
    "duration": 261,
    "start_time": "2022-12-20T11:54:53.853Z"
   },
   {
    "duration": 293,
    "start_time": "2022-12-20T11:55:23.425Z"
   },
   {
    "duration": 188,
    "start_time": "2022-12-20T11:58:00.579Z"
   },
   {
    "duration": 176,
    "start_time": "2022-12-20T11:59:26.623Z"
   },
   {
    "duration": 312,
    "start_time": "2022-12-20T11:59:46.805Z"
   },
   {
    "duration": 290,
    "start_time": "2022-12-20T12:00:04.432Z"
   },
   {
    "duration": 4,
    "start_time": "2022-12-20T12:04:31.431Z"
   },
   {
    "duration": 7,
    "start_time": "2022-12-20T12:04:43.193Z"
   },
   {
    "duration": 4,
    "start_time": "2022-12-20T12:05:19.689Z"
   },
   {
    "duration": 4,
    "start_time": "2022-12-20T12:05:34.725Z"
   },
   {
    "duration": 5,
    "start_time": "2022-12-20T12:05:57.248Z"
   },
   {
    "duration": 4,
    "start_time": "2022-12-20T12:06:54.809Z"
   },
   {
    "duration": 1238,
    "start_time": "2022-12-20T12:10:50.451Z"
   },
   {
    "duration": 26,
    "start_time": "2022-12-20T12:11:12.932Z"
   },
   {
    "duration": 11,
    "start_time": "2022-12-20T12:11:13.170Z"
   },
   {
    "duration": 13,
    "start_time": "2022-12-20T12:11:13.380Z"
   },
   {
    "duration": 2,
    "start_time": "2022-12-20T12:11:14.515Z"
   },
   {
    "duration": 211,
    "start_time": "2022-12-20T12:11:31.523Z"
   },
   {
    "duration": 1200,
    "start_time": "2022-12-20T12:12:46.422Z"
   },
   {
    "duration": 1184,
    "start_time": "2022-12-20T12:12:56.995Z"
   },
   {
    "duration": 117,
    "start_time": "2022-12-20T12:13:06.378Z"
   },
   {
    "duration": 123,
    "start_time": "2022-12-20T12:13:43.409Z"
   },
   {
    "duration": 138,
    "start_time": "2022-12-20T12:14:16.516Z"
   },
   {
    "duration": 86,
    "start_time": "2022-12-20T12:46:10.838Z"
   },
   {
    "duration": 80,
    "start_time": "2022-12-20T12:46:23.115Z"
   },
   {
    "duration": 70,
    "start_time": "2022-12-20T12:46:51.989Z"
   },
   {
    "duration": 4,
    "start_time": "2022-12-20T12:47:36.674Z"
   },
   {
    "duration": 4,
    "start_time": "2022-12-20T12:47:47.154Z"
   },
   {
    "duration": 883,
    "start_time": "2022-12-20T17:50:37.604Z"
   },
   {
    "duration": 14,
    "start_time": "2022-12-20T17:50:38.489Z"
   },
   {
    "duration": 27,
    "start_time": "2022-12-20T17:50:38.504Z"
   },
   {
    "duration": 3,
    "start_time": "2022-12-20T17:50:38.646Z"
   },
   {
    "duration": 106,
    "start_time": "2022-12-20T17:50:38.865Z"
   },
   {
    "duration": 67,
    "start_time": "2022-12-20T17:50:39.061Z"
   },
   {
    "duration": 6,
    "start_time": "2022-12-20T17:50:39.297Z"
   },
   {
    "duration": 258,
    "start_time": "2022-12-20T17:50:39.477Z"
   },
   {
    "duration": 10,
    "start_time": "2022-12-20T17:50:39.737Z"
   },
   {
    "duration": 8,
    "start_time": "2022-12-20T17:50:39.929Z"
   },
   {
    "duration": 329,
    "start_time": "2022-12-20T17:50:40.133Z"
   },
   {
    "duration": 191,
    "start_time": "2022-12-20T17:50:40.649Z"
   },
   {
    "duration": 385,
    "start_time": "2022-12-20T17:50:41.077Z"
   },
   {
    "duration": 256,
    "start_time": "2022-12-20T17:50:42.351Z"
   },
   {
    "duration": 313,
    "start_time": "2022-12-20T17:50:43.579Z"
   },
   {
    "duration": 125,
    "start_time": "2022-12-20T17:50:45.278Z"
   },
   {
    "duration": 134,
    "start_time": "2022-12-20T17:50:46.293Z"
   },
   {
    "duration": 1391,
    "start_time": "2022-12-20T17:51:08.215Z"
   },
   {
    "duration": 1180,
    "start_time": "2022-12-20T17:52:22.926Z"
   },
   {
    "duration": 28,
    "start_time": "2022-12-20T17:52:41.572Z"
   },
   {
    "duration": 11,
    "start_time": "2022-12-20T17:52:41.769Z"
   },
   {
    "duration": 11,
    "start_time": "2022-12-20T17:52:41.991Z"
   },
   {
    "duration": 2,
    "start_time": "2022-12-20T17:52:42.664Z"
   },
   {
    "duration": 71,
    "start_time": "2022-12-20T17:52:42.884Z"
   },
   {
    "duration": 33,
    "start_time": "2022-12-20T17:52:43.092Z"
   },
   {
    "duration": 6,
    "start_time": "2022-12-20T17:52:43.325Z"
   },
   {
    "duration": 275,
    "start_time": "2022-12-20T17:52:43.557Z"
   },
   {
    "duration": 10,
    "start_time": "2022-12-20T17:52:43.833Z"
   },
   {
    "duration": 7,
    "start_time": "2022-12-20T17:52:44.026Z"
   },
   {
    "duration": 194,
    "start_time": "2022-12-20T17:52:44.244Z"
   },
   {
    "duration": 205,
    "start_time": "2022-12-20T17:52:44.699Z"
   },
   {
    "duration": 301,
    "start_time": "2022-12-20T17:52:45.226Z"
   },
   {
    "duration": 192,
    "start_time": "2022-12-20T17:52:45.654Z"
   },
   {
    "duration": 333,
    "start_time": "2022-12-20T17:52:46.094Z"
   },
   {
    "duration": 110,
    "start_time": "2022-12-20T17:52:46.577Z"
   },
   {
    "duration": 130,
    "start_time": "2022-12-20T17:52:47.148Z"
   },
   {
    "duration": 5,
    "start_time": "2022-12-20T17:52:51.947Z"
   },
   {
    "duration": 1204,
    "start_time": "2022-12-20T17:52:52.632Z"
   },
   {
    "duration": 142,
    "start_time": "2022-12-20T17:53:36.567Z"
   },
   {
    "duration": 4,
    "start_time": "2022-12-20T18:00:58.969Z"
   },
   {
    "duration": 226,
    "start_time": "2022-12-20T18:01:51.266Z"
   },
   {
    "duration": 140,
    "start_time": "2022-12-20T18:02:52.632Z"
   },
   {
    "duration": 5,
    "start_time": "2022-12-20T18:07:05.331Z"
   },
   {
    "duration": 71,
    "start_time": "2022-12-20T18:08:05.865Z"
   },
   {
    "duration": 135,
    "start_time": "2022-12-20T18:08:13.734Z"
   },
   {
    "duration": 6,
    "start_time": "2022-12-20T18:09:05.411Z"
   },
   {
    "duration": 74,
    "start_time": "2022-12-21T10:17:48.097Z"
   },
   {
    "duration": 42,
    "start_time": "2022-12-21T10:17:55.314Z"
   },
   {
    "duration": 850,
    "start_time": "2022-12-21T10:18:14.946Z"
   },
   {
    "duration": 18,
    "start_time": "2022-12-21T10:18:15.798Z"
   },
   {
    "duration": 14,
    "start_time": "2022-12-21T10:18:15.818Z"
   },
   {
    "duration": 2,
    "start_time": "2022-12-21T10:18:15.887Z"
   },
   {
    "duration": 92,
    "start_time": "2022-12-21T10:18:16.530Z"
   },
   {
    "duration": 64,
    "start_time": "2022-12-21T10:18:16.624Z"
   },
   {
    "duration": 7,
    "start_time": "2022-12-21T10:18:16.689Z"
   },
   {
    "duration": 301,
    "start_time": "2022-12-21T10:18:16.698Z"
   },
   {
    "duration": 13,
    "start_time": "2022-12-21T10:18:17.008Z"
   },
   {
    "duration": 7,
    "start_time": "2022-12-21T10:18:17.149Z"
   },
   {
    "duration": 436,
    "start_time": "2022-12-21T10:18:17.349Z"
   },
   {
    "duration": 222,
    "start_time": "2022-12-21T10:18:17.787Z"
   },
   {
    "duration": 455,
    "start_time": "2022-12-21T10:18:18.235Z"
   },
   {
    "duration": 241,
    "start_time": "2022-12-21T10:18:18.692Z"
   },
   {
    "duration": 364,
    "start_time": "2022-12-21T10:18:19.059Z"
   },
   {
    "duration": 117,
    "start_time": "2022-12-21T10:18:19.528Z"
   },
   {
    "duration": 140,
    "start_time": "2022-12-21T10:18:19.758Z"
   },
   {
    "duration": 4,
    "start_time": "2022-12-21T10:18:20.294Z"
   },
   {
    "duration": 71,
    "start_time": "2022-12-21T10:18:20.456Z"
   },
   {
    "duration": 152,
    "start_time": "2022-12-21T10:18:20.696Z"
   },
   {
    "duration": 148,
    "start_time": "2022-12-21T10:18:21.163Z"
   },
   {
    "duration": 5,
    "start_time": "2022-12-21T10:18:21.656Z"
   },
   {
    "duration": 39,
    "start_time": "2022-12-21T10:18:22.129Z"
   },
   {
    "duration": 71,
    "start_time": "2022-12-21T10:18:42.417Z"
   },
   {
    "duration": 118,
    "start_time": "2022-12-21T10:19:13.069Z"
   },
   {
    "duration": 62,
    "start_time": "2022-12-21T10:20:37.946Z"
   },
   {
    "duration": 70,
    "start_time": "2022-12-21T10:21:10.328Z"
   },
   {
    "duration": 70,
    "start_time": "2022-12-21T10:22:09.036Z"
   },
   {
    "duration": 75,
    "start_time": "2022-12-21T10:22:14.945Z"
   },
   {
    "duration": 160,
    "start_time": "2022-12-21T10:23:25.995Z"
   },
   {
    "duration": 1373,
    "start_time": "2022-12-21T10:25:01.219Z"
   },
   {
    "duration": 29,
    "start_time": "2022-12-21T10:26:01.920Z"
   },
   {
    "duration": 12,
    "start_time": "2022-12-21T10:26:02.155Z"
   },
   {
    "duration": 13,
    "start_time": "2022-12-21T10:26:02.368Z"
   },
   {
    "duration": 2,
    "start_time": "2022-12-21T10:26:03.072Z"
   },
   {
    "duration": 59,
    "start_time": "2022-12-21T10:26:03.306Z"
   },
   {
    "duration": 20,
    "start_time": "2022-12-21T10:26:03.547Z"
   },
   {
    "duration": 6,
    "start_time": "2022-12-21T10:26:03.781Z"
   },
   {
    "duration": 263,
    "start_time": "2022-12-21T10:26:04.012Z"
   },
   {
    "duration": 9,
    "start_time": "2022-12-21T10:26:04.277Z"
   },
   {
    "duration": 7,
    "start_time": "2022-12-21T10:26:04.489Z"
   },
   {
    "duration": 191,
    "start_time": "2022-12-21T10:26:04.713Z"
   },
   {
    "duration": 195,
    "start_time": "2022-12-21T10:26:05.195Z"
   },
   {
    "duration": 287,
    "start_time": "2022-12-21T10:26:05.743Z"
   },
   {
    "duration": 207,
    "start_time": "2022-12-21T10:26:06.402Z"
   },
   {
    "duration": 323,
    "start_time": "2022-12-21T10:26:06.999Z"
   },
   {
    "duration": 167,
    "start_time": "2022-12-21T10:26:07.568Z"
   },
   {
    "duration": 207,
    "start_time": "2022-12-21T10:26:12.865Z"
   },
   {
    "duration": 5,
    "start_time": "2022-12-21T10:26:13.361Z"
   },
   {
    "duration": 77,
    "start_time": "2022-12-21T10:26:18.219Z"
   },
   {
    "duration": 164,
    "start_time": "2022-12-21T10:26:19.195Z"
   },
   {
    "duration": 158,
    "start_time": "2022-12-21T10:26:19.710Z"
   },
   {
    "duration": 5,
    "start_time": "2022-12-21T10:26:20.155Z"
   },
   {
    "duration": 1240,
    "start_time": "2022-12-21T10:26:20.615Z"
   },
   {
    "duration": 1243,
    "start_time": "2022-12-21T10:27:57.792Z"
   },
   {
    "duration": 5,
    "start_time": "2022-12-21T10:49:57.418Z"
   },
   {
    "duration": 49,
    "start_time": "2022-12-21T10:50:25.358Z"
   },
   {
    "duration": 55,
    "start_time": "2022-12-21T10:51:16.642Z"
   },
   {
    "duration": 56,
    "start_time": "2022-12-21T10:51:42.762Z"
   },
   {
    "duration": 188,
    "start_time": "2022-12-21T10:52:24.282Z"
   },
   {
    "duration": 1274,
    "start_time": "2022-12-21T10:52:36.439Z"
   },
   {
    "duration": 207,
    "start_time": "2022-12-21T10:52:42.629Z"
   },
   {
    "duration": 1217,
    "start_time": "2022-12-21T10:52:43.518Z"
   },
   {
    "duration": 25,
    "start_time": "2022-12-21T10:52:51.649Z"
   },
   {
    "duration": 12,
    "start_time": "2022-12-21T10:52:51.849Z"
   },
   {
    "duration": 13,
    "start_time": "2022-12-21T10:52:52.039Z"
   },
   {
    "duration": 2,
    "start_time": "2022-12-21T10:52:52.654Z"
   },
   {
    "duration": 61,
    "start_time": "2022-12-21T10:52:52.856Z"
   },
   {
    "duration": 27,
    "start_time": "2022-12-21T10:52:53.077Z"
   },
   {
    "duration": 6,
    "start_time": "2022-12-21T10:52:53.237Z"
   },
   {
    "duration": 285,
    "start_time": "2022-12-21T10:52:53.499Z"
   },
   {
    "duration": 9,
    "start_time": "2022-12-21T10:52:53.786Z"
   },
   {
    "duration": 7,
    "start_time": "2022-12-21T10:52:53.875Z"
   },
   {
    "duration": 208,
    "start_time": "2022-12-21T10:52:54.105Z"
   },
   {
    "duration": 186,
    "start_time": "2022-12-21T10:52:54.555Z"
   },
   {
    "duration": 327,
    "start_time": "2022-12-21T10:52:54.928Z"
   },
   {
    "duration": 205,
    "start_time": "2022-12-21T10:52:55.433Z"
   },
   {
    "duration": 347,
    "start_time": "2022-12-21T10:52:55.802Z"
   },
   {
    "duration": 139,
    "start_time": "2022-12-21T10:52:56.301Z"
   },
   {
    "duration": 140,
    "start_time": "2022-12-21T10:52:56.857Z"
   },
   {
    "duration": 5,
    "start_time": "2022-12-21T10:52:57.867Z"
   },
   {
    "duration": 71,
    "start_time": "2022-12-21T10:53:00.088Z"
   },
   {
    "duration": 152,
    "start_time": "2022-12-21T10:53:00.384Z"
   },
   {
    "duration": 154,
    "start_time": "2022-12-21T10:53:01.147Z"
   },
   {
    "duration": 5,
    "start_time": "2022-12-21T10:53:01.980Z"
   },
   {
    "duration": 204,
    "start_time": "2022-12-21T10:53:02.800Z"
   },
   {
    "duration": 209,
    "start_time": "2022-12-21T10:53:13.475Z"
   },
   {
    "duration": 1269,
    "start_time": "2022-12-21T10:53:14.022Z"
   },
   {
    "duration": 211,
    "start_time": "2022-12-21T10:53:37.478Z"
   },
   {
    "duration": 1279,
    "start_time": "2022-12-21T10:53:37.921Z"
   },
   {
    "duration": 27,
    "start_time": "2022-12-21T10:54:01.176Z"
   },
   {
    "duration": 12,
    "start_time": "2022-12-21T10:54:01.401Z"
   },
   {
    "duration": 14,
    "start_time": "2022-12-21T10:54:01.611Z"
   },
   {
    "duration": 2,
    "start_time": "2022-12-21T10:54:02.257Z"
   },
   {
    "duration": 130,
    "start_time": "2022-12-21T10:54:02.429Z"
   },
   {
    "duration": 24,
    "start_time": "2022-12-21T10:54:02.655Z"
   },
   {
    "duration": 5,
    "start_time": "2022-12-21T10:54:02.906Z"
   },
   {
    "duration": 330,
    "start_time": "2022-12-21T10:54:03.078Z"
   },
   {
    "duration": 10,
    "start_time": "2022-12-21T10:54:03.410Z"
   },
   {
    "duration": 7,
    "start_time": "2022-12-21T10:54:03.559Z"
   },
   {
    "duration": 202,
    "start_time": "2022-12-21T10:54:03.805Z"
   },
   {
    "duration": 212,
    "start_time": "2022-12-21T10:54:04.196Z"
   },
   {
    "duration": 292,
    "start_time": "2022-12-21T10:54:04.662Z"
   },
   {
    "duration": 257,
    "start_time": "2022-12-21T10:54:05.103Z"
   },
   {
    "duration": 287,
    "start_time": "2022-12-21T10:54:06.964Z"
   },
   {
    "duration": 168,
    "start_time": "2022-12-21T10:54:08.054Z"
   },
   {
    "duration": 144,
    "start_time": "2022-12-21T10:54:08.309Z"
   },
   {
    "duration": 5,
    "start_time": "2022-12-21T10:54:09.364Z"
   },
   {
    "duration": 159,
    "start_time": "2022-12-21T10:54:17.387Z"
   },
   {
    "duration": 149,
    "start_time": "2022-12-21T10:54:18.280Z"
   },
   {
    "duration": 4,
    "start_time": "2022-12-21T10:54:20.294Z"
   },
   {
    "duration": 194,
    "start_time": "2022-12-21T10:54:21.655Z"
   },
   {
    "duration": 195,
    "start_time": "2022-12-21T10:54:39.894Z"
   },
   {
    "duration": 190,
    "start_time": "2022-12-21T10:54:51.383Z"
   },
   {
    "duration": 200,
    "start_time": "2022-12-21T10:54:57.952Z"
   },
   {
    "duration": 28,
    "start_time": "2022-12-21T10:56:18.861Z"
   },
   {
    "duration": 138,
    "start_time": "2022-12-21T10:56:53.321Z"
   },
   {
    "duration": 581,
    "start_time": "2022-12-21T10:57:54.957Z"
   },
   {
    "duration": 12,
    "start_time": "2022-12-21T10:57:55.539Z"
   },
   {
    "duration": 14,
    "start_time": "2022-12-21T10:57:55.552Z"
   },
   {
    "duration": 2,
    "start_time": "2022-12-21T10:57:56.126Z"
   },
   {
    "duration": 53,
    "start_time": "2022-12-21T10:57:56.307Z"
   },
   {
    "duration": 31,
    "start_time": "2022-12-21T10:57:57.364Z"
   },
   {
    "duration": 5,
    "start_time": "2022-12-21T10:57:57.397Z"
   },
   {
    "duration": 325,
    "start_time": "2022-12-21T10:57:57.403Z"
   },
   {
    "duration": 9,
    "start_time": "2022-12-21T10:57:57.730Z"
   },
   {
    "duration": 8,
    "start_time": "2022-12-21T10:57:57.741Z"
   },
   {
    "duration": 211,
    "start_time": "2022-12-21T10:57:57.750Z"
   },
   {
    "duration": 217,
    "start_time": "2022-12-21T10:57:57.987Z"
   },
   {
    "duration": 335,
    "start_time": "2022-12-21T10:57:58.398Z"
   },
   {
    "duration": 212,
    "start_time": "2022-12-21T10:57:58.837Z"
   },
   {
    "duration": 339,
    "start_time": "2022-12-21T10:57:59.292Z"
   },
   {
    "duration": 128,
    "start_time": "2022-12-21T10:57:59.725Z"
   },
   {
    "duration": 148,
    "start_time": "2022-12-21T10:57:59.949Z"
   },
   {
    "duration": 4,
    "start_time": "2022-12-21T10:58:00.407Z"
   },
   {
    "duration": 160,
    "start_time": "2022-12-21T10:58:00.871Z"
   },
   {
    "duration": 159,
    "start_time": "2022-12-21T10:58:01.301Z"
   },
   {
    "duration": 4,
    "start_time": "2022-12-21T10:58:01.738Z"
   },
   {
    "duration": 183,
    "start_time": "2022-12-21T10:58:02.214Z"
   },
   {
    "duration": 33,
    "start_time": "2022-12-21T10:58:02.435Z"
   },
   {
    "duration": 157,
    "start_time": "2022-12-21T10:58:02.686Z"
   },
   {
    "duration": 24,
    "start_time": "2022-12-21T11:00:11.437Z"
   },
   {
    "duration": 177,
    "start_time": "2022-12-21T11:00:35.941Z"
   },
   {
    "duration": 21,
    "start_time": "2022-12-21T11:02:45.706Z"
   },
   {
    "duration": 11,
    "start_time": "2022-12-21T11:08:19.328Z"
   },
   {
    "duration": 13,
    "start_time": "2022-12-21T11:11:48.952Z"
   },
   {
    "duration": 1167,
    "start_time": "2022-12-21T11:18:37.815Z"
   },
   {
    "duration": 28,
    "start_time": "2022-12-21T11:19:42.119Z"
   },
   {
    "duration": 10,
    "start_time": "2022-12-21T11:19:42.357Z"
   },
   {
    "duration": 17,
    "start_time": "2022-12-21T11:19:42.508Z"
   },
   {
    "duration": 2,
    "start_time": "2022-12-21T11:19:43.096Z"
   },
   {
    "duration": 58,
    "start_time": "2022-12-21T11:19:43.285Z"
   },
   {
    "duration": 21,
    "start_time": "2022-12-21T11:19:43.475Z"
   },
   {
    "duration": 7,
    "start_time": "2022-12-21T11:19:43.714Z"
   },
   {
    "duration": 285,
    "start_time": "2022-12-21T11:19:43.877Z"
   },
   {
    "duration": 12,
    "start_time": "2022-12-21T11:19:44.164Z"
   },
   {
    "duration": 7,
    "start_time": "2022-12-21T11:19:44.485Z"
   },
   {
    "duration": 223,
    "start_time": "2022-12-21T11:19:44.706Z"
   },
   {
    "duration": 202,
    "start_time": "2022-12-21T11:19:45.117Z"
   },
   {
    "duration": 318,
    "start_time": "2022-12-21T11:19:45.510Z"
   },
   {
    "duration": 216,
    "start_time": "2022-12-21T11:19:45.896Z"
   },
   {
    "duration": 294,
    "start_time": "2022-12-21T11:19:46.326Z"
   },
   {
    "duration": 131,
    "start_time": "2022-12-21T11:19:46.727Z"
   },
   {
    "duration": 142,
    "start_time": "2022-12-21T11:19:46.934Z"
   },
   {
    "duration": 4,
    "start_time": "2022-12-21T11:19:47.417Z"
   },
   {
    "duration": 148,
    "start_time": "2022-12-21T11:19:47.934Z"
   },
   {
    "duration": 165,
    "start_time": "2022-12-21T11:19:48.424Z"
   },
   {
    "duration": 4,
    "start_time": "2022-12-21T11:19:48.805Z"
   },
   {
    "duration": 194,
    "start_time": "2022-12-21T11:19:49.210Z"
   },
   {
    "duration": 29,
    "start_time": "2022-12-21T11:19:49.426Z"
   },
   {
    "duration": 128,
    "start_time": "2022-12-21T11:19:49.630Z"
   },
   {
    "duration": 26,
    "start_time": "2022-12-21T11:19:50.162Z"
   },
   {
    "duration": 10,
    "start_time": "2022-12-21T11:19:50.838Z"
   },
   {
    "duration": 1159,
    "start_time": "2022-12-21T11:19:51.308Z"
   },
   {
    "duration": 143,
    "start_time": "2022-12-21T11:20:59.557Z"
   },
   {
    "duration": 36,
    "start_time": "2022-12-21T11:21:02.506Z"
   },
   {
    "duration": 11,
    "start_time": "2022-12-21T11:21:05.215Z"
   },
   {
    "duration": 1194,
    "start_time": "2022-12-21T11:21:09.221Z"
   },
   {
    "duration": 1143,
    "start_time": "2022-12-21T11:22:06.702Z"
   },
   {
    "duration": 10,
    "start_time": "2022-12-21T11:22:42.101Z"
   },
   {
    "duration": 10,
    "start_time": "2022-12-21T11:24:02.000Z"
   },
   {
    "duration": 9,
    "start_time": "2022-12-21T11:24:41.754Z"
   },
   {
    "duration": 24,
    "start_time": "2022-12-21T11:25:02.625Z"
   },
   {
    "duration": 72,
    "start_time": "2022-12-21T11:28:33.508Z"
   },
   {
    "duration": 71,
    "start_time": "2022-12-21T11:28:47.110Z"
   },
   {
    "duration": 71,
    "start_time": "2022-12-21T11:29:14.660Z"
   },
   {
    "duration": 27,
    "start_time": "2022-12-21T11:29:46.267Z"
   },
   {
    "duration": 1104,
    "start_time": "2022-12-21T11:36:39.754Z"
   },
   {
    "duration": 13,
    "start_time": "2022-12-21T11:37:08.698Z"
   },
   {
    "duration": 25,
    "start_time": "2022-12-21T12:00:27.178Z"
   },
   {
    "duration": 11,
    "start_time": "2022-12-21T12:00:27.378Z"
   },
   {
    "duration": 19,
    "start_time": "2022-12-21T12:00:27.783Z"
   },
   {
    "duration": 60,
    "start_time": "2022-12-21T12:00:29.027Z"
   },
   {
    "duration": 27,
    "start_time": "2022-12-21T12:00:29.230Z"
   },
   {
    "duration": 6,
    "start_time": "2022-12-21T12:00:29.478Z"
   },
   {
    "duration": 256,
    "start_time": "2022-12-21T12:00:29.682Z"
   },
   {
    "duration": 15,
    "start_time": "2022-12-21T12:00:29.942Z"
   },
   {
    "duration": 11,
    "start_time": "2022-12-21T12:00:30.076Z"
   },
   {
    "duration": 343,
    "start_time": "2022-12-21T12:00:30.279Z"
   },
   {
    "duration": 212,
    "start_time": "2022-12-21T12:00:30.883Z"
   },
   {
    "duration": 355,
    "start_time": "2022-12-21T12:00:31.501Z"
   },
   {
    "duration": 222,
    "start_time": "2022-12-21T12:00:32.171Z"
   },
   {
    "duration": 334,
    "start_time": "2022-12-21T12:00:32.789Z"
   },
   {
    "duration": 163,
    "start_time": "2022-12-21T12:00:33.413Z"
   },
   {
    "duration": 148,
    "start_time": "2022-12-21T12:00:33.666Z"
   },
   {
    "duration": 4,
    "start_time": "2022-12-21T12:00:34.271Z"
   },
   {
    "duration": 168,
    "start_time": "2022-12-21T12:00:34.828Z"
   },
   {
    "duration": 159,
    "start_time": "2022-12-21T12:00:35.282Z"
   },
   {
    "duration": 5,
    "start_time": "2022-12-21T12:01:02.196Z"
   },
   {
    "duration": 211,
    "start_time": "2022-12-21T12:01:02.886Z"
   },
   {
    "duration": 32,
    "start_time": "2022-12-21T12:01:03.111Z"
   },
   {
    "duration": 137,
    "start_time": "2022-12-21T12:01:03.327Z"
   },
   {
    "duration": 26,
    "start_time": "2022-12-21T12:01:03.783Z"
   },
   {
    "duration": 10,
    "start_time": "2022-12-21T12:01:04.881Z"
   },
   {
    "duration": 10,
    "start_time": "2022-12-21T12:01:05.591Z"
   },
   {
    "duration": 9,
    "start_time": "2022-12-21T12:01:05.813Z"
   },
   {
    "duration": 37,
    "start_time": "2022-12-21T12:01:06.506Z"
   },
   {
    "duration": 17,
    "start_time": "2022-12-21T12:01:06.917Z"
   },
   {
    "duration": 27,
    "start_time": "2022-12-21T12:03:18.205Z"
   },
   {
    "duration": 31,
    "start_time": "2022-12-21T12:03:31.203Z"
   },
   {
    "duration": 11,
    "start_time": "2022-12-21T12:03:31.987Z"
   },
   {
    "duration": 14,
    "start_time": "2022-12-21T12:03:32.467Z"
   },
   {
    "duration": 27,
    "start_time": "2022-12-21T12:04:46.098Z"
   },
   {
    "duration": 12,
    "start_time": "2022-12-21T12:04:47.017Z"
   },
   {
    "duration": 13,
    "start_time": "2022-12-21T12:04:50.525Z"
   },
   {
    "duration": 335,
    "start_time": "2022-12-21T12:05:43.009Z"
   },
   {
    "duration": 1323,
    "start_time": "2022-12-21T13:21:06.391Z"
   },
   {
    "duration": 16,
    "start_time": "2022-12-21T13:21:07.717Z"
   },
   {
    "duration": 39,
    "start_time": "2022-12-21T13:21:07.735Z"
   },
   {
    "duration": 139,
    "start_time": "2022-12-21T13:21:07.776Z"
   },
   {
    "duration": 61,
    "start_time": "2022-12-21T13:21:07.918Z"
   },
   {
    "duration": 5,
    "start_time": "2022-12-21T13:21:07.981Z"
   },
   {
    "duration": 291,
    "start_time": "2022-12-21T13:21:07.987Z"
   },
   {
    "duration": 9,
    "start_time": "2022-12-21T13:21:08.279Z"
   },
   {
    "duration": 51,
    "start_time": "2022-12-21T13:21:08.289Z"
   },
   {
    "duration": 285,
    "start_time": "2022-12-21T13:21:08.342Z"
   },
   {
    "duration": 212,
    "start_time": "2022-12-21T13:21:08.629Z"
   },
   {
    "duration": 355,
    "start_time": "2022-12-21T13:21:08.843Z"
   },
   {
    "duration": 199,
    "start_time": "2022-12-21T13:21:09.200Z"
   },
   {
    "duration": 316,
    "start_time": "2022-12-21T13:21:09.402Z"
   },
   {
    "duration": 129,
    "start_time": "2022-12-21T13:21:09.720Z"
   },
   {
    "duration": 145,
    "start_time": "2022-12-21T13:21:09.850Z"
   },
   {
    "duration": 5,
    "start_time": "2022-12-21T13:21:09.996Z"
   },
   {
    "duration": 194,
    "start_time": "2022-12-21T13:21:10.002Z"
   },
   {
    "duration": 147,
    "start_time": "2022-12-21T13:21:10.198Z"
   },
   {
    "duration": 4,
    "start_time": "2022-12-21T13:21:10.346Z"
   },
   {
    "duration": 262,
    "start_time": "2022-12-21T13:21:10.352Z"
   },
   {
    "duration": 32,
    "start_time": "2022-12-21T13:21:10.616Z"
   },
   {
    "duration": 151,
    "start_time": "2022-12-21T13:21:10.650Z"
   },
   {
    "duration": 29,
    "start_time": "2022-12-21T13:21:10.802Z"
   },
   {
    "duration": 29,
    "start_time": "2022-12-21T13:21:10.833Z"
   },
   {
    "duration": 45,
    "start_time": "2022-12-21T13:21:10.864Z"
   },
   {
    "duration": 39,
    "start_time": "2022-12-21T13:21:10.911Z"
   },
   {
    "duration": 49,
    "start_time": "2022-12-21T13:21:10.952Z"
   },
   {
    "duration": 20,
    "start_time": "2022-12-21T13:21:11.002Z"
   },
   {
    "duration": 1673,
    "start_time": "2022-12-23T09:57:46.531Z"
   },
   {
    "duration": 72,
    "start_time": "2022-12-23T09:57:48.207Z"
   },
   {
    "duration": 153,
    "start_time": "2022-12-23T10:00:01.314Z"
   },
   {
    "duration": 15,
    "start_time": "2022-12-23T10:00:31.301Z"
   },
   {
    "duration": 7,
    "start_time": "2022-12-23T10:02:25.046Z"
   },
   {
    "duration": 105,
    "start_time": "2022-12-23T10:02:50.355Z"
   },
   {
    "duration": 7,
    "start_time": "2022-12-23T10:03:25.604Z"
   },
   {
    "duration": 5,
    "start_time": "2022-12-23T10:03:36.750Z"
   },
   {
    "duration": 6,
    "start_time": "2022-12-23T10:03:48.127Z"
   },
   {
    "duration": 9,
    "start_time": "2022-12-23T10:04:15.278Z"
   },
   {
    "duration": 14,
    "start_time": "2022-12-23T10:04:31.249Z"
   },
   {
    "duration": 8,
    "start_time": "2022-12-23T10:07:13.313Z"
   },
   {
    "duration": 12,
    "start_time": "2022-12-23T10:07:39.014Z"
   },
   {
    "duration": 18,
    "start_time": "2022-12-23T10:09:02.661Z"
   },
   {
    "duration": 12,
    "start_time": "2022-12-23T10:09:13.910Z"
   },
   {
    "duration": 6,
    "start_time": "2022-12-23T10:09:56.792Z"
   },
   {
    "duration": 8,
    "start_time": "2022-12-23T10:10:20.445Z"
   },
   {
    "duration": 6,
    "start_time": "2022-12-23T10:10:33.711Z"
   },
   {
    "duration": 8,
    "start_time": "2022-12-23T10:13:00.263Z"
   },
   {
    "duration": 10,
    "start_time": "2022-12-23T10:13:13.882Z"
   },
   {
    "duration": 5,
    "start_time": "2022-12-23T10:14:07.708Z"
   },
   {
    "duration": 11,
    "start_time": "2022-12-23T10:14:17.887Z"
   },
   {
    "duration": 8,
    "start_time": "2022-12-23T10:14:44.469Z"
   },
   {
    "duration": 5,
    "start_time": "2022-12-23T10:15:07.412Z"
   },
   {
    "duration": 7,
    "start_time": "2022-12-23T10:15:37.573Z"
   },
   {
    "duration": 9,
    "start_time": "2022-12-23T10:24:23.803Z"
   },
   {
    "duration": 3,
    "start_time": "2022-12-23T10:24:32.659Z"
   },
   {
    "duration": 75,
    "start_time": "2022-12-23T10:24:32.825Z"
   },
   {
    "duration": 8,
    "start_time": "2022-12-23T10:24:33.024Z"
   },
   {
    "duration": 11,
    "start_time": "2022-12-23T10:24:33.209Z"
   },
   {
    "duration": 6,
    "start_time": "2022-12-23T10:24:33.406Z"
   },
   {
    "duration": 6,
    "start_time": "2022-12-23T10:24:33.583Z"
   },
   {
    "duration": 9,
    "start_time": "2022-12-23T10:24:34.649Z"
   },
   {
    "duration": 12,
    "start_time": "2022-12-23T10:24:35.016Z"
   },
   {
    "duration": 14,
    "start_time": "2022-12-23T10:24:35.369Z"
   },
   {
    "duration": 13,
    "start_time": "2022-12-23T10:24:35.941Z"
   },
   {
    "duration": 7,
    "start_time": "2022-12-23T10:24:36.345Z"
   },
   {
    "duration": 7,
    "start_time": "2022-12-23T10:24:36.554Z"
   },
   {
    "duration": 8,
    "start_time": "2022-12-23T10:24:36.938Z"
   },
   {
    "duration": 9,
    "start_time": "2022-12-23T10:24:37.579Z"
   },
   {
    "duration": 12,
    "start_time": "2022-12-23T10:24:37.697Z"
   },
   {
    "duration": 4,
    "start_time": "2022-12-23T10:24:37.940Z"
   },
   {
    "duration": 10,
    "start_time": "2022-12-23T10:24:38.114Z"
   },
   {
    "duration": 7,
    "start_time": "2022-12-23T10:24:38.315Z"
   },
   {
    "duration": 5,
    "start_time": "2022-12-23T10:24:38.528Z"
   },
   {
    "duration": 10,
    "start_time": "2022-12-23T10:24:44.526Z"
   },
   {
    "duration": 11,
    "start_time": "2022-12-23T10:25:56.540Z"
   },
   {
    "duration": 4,
    "start_time": "2022-12-23T10:26:01.169Z"
   },
   {
    "duration": 5,
    "start_time": "2022-12-23T10:26:08.254Z"
   },
   {
    "duration": 10,
    "start_time": "2022-12-23T10:26:33.849Z"
   },
   {
    "duration": 16,
    "start_time": "2022-12-23T10:26:44.617Z"
   },
   {
    "duration": 15,
    "start_time": "2022-12-23T10:27:25.226Z"
   },
   {
    "duration": 11,
    "start_time": "2022-12-23T10:27:38.665Z"
   },
   {
    "duration": 16,
    "start_time": "2022-12-23T10:59:05.474Z"
   },
   {
    "duration": 15,
    "start_time": "2022-12-23T10:59:34.365Z"
   },
   {
    "duration": 100,
    "start_time": "2022-12-23T11:00:28.769Z"
   },
   {
    "duration": 81,
    "start_time": "2022-12-23T11:00:35.871Z"
   },
   {
    "duration": 73,
    "start_time": "2022-12-23T11:01:03.233Z"
   },
   {
    "duration": 73,
    "start_time": "2022-12-23T11:01:18.706Z"
   },
   {
    "duration": 23,
    "start_time": "2022-12-23T11:11:12.199Z"
   },
   {
    "duration": 3,
    "start_time": "2022-12-23T11:11:35.004Z"
   },
   {
    "duration": 80,
    "start_time": "2022-12-23T11:11:35.207Z"
   },
   {
    "duration": 11,
    "start_time": "2022-12-23T11:11:35.445Z"
   },
   {
    "duration": 13,
    "start_time": "2022-12-23T11:11:35.701Z"
   },
   {
    "duration": 7,
    "start_time": "2022-12-23T11:11:35.926Z"
   },
   {
    "duration": 6,
    "start_time": "2022-12-23T11:11:36.135Z"
   },
   {
    "duration": 8,
    "start_time": "2022-12-23T11:11:36.734Z"
   },
   {
    "duration": 11,
    "start_time": "2022-12-23T11:11:36.940Z"
   },
   {
    "duration": 14,
    "start_time": "2022-12-23T11:11:37.151Z"
   },
   {
    "duration": 12,
    "start_time": "2022-12-23T11:11:37.375Z"
   },
   {
    "duration": 7,
    "start_time": "2022-12-23T11:11:37.556Z"
   },
   {
    "duration": 6,
    "start_time": "2022-12-23T11:11:37.779Z"
   },
   {
    "duration": 9,
    "start_time": "2022-12-23T11:11:38.172Z"
   },
   {
    "duration": 8,
    "start_time": "2022-12-23T11:11:38.420Z"
   },
   {
    "duration": 12,
    "start_time": "2022-12-23T11:11:38.655Z"
   },
   {
    "duration": 6,
    "start_time": "2022-12-23T11:11:38.858Z"
   },
   {
    "duration": 14,
    "start_time": "2022-12-23T11:11:39.074Z"
   },
   {
    "duration": 10,
    "start_time": "2022-12-23T11:11:39.285Z"
   },
   {
    "duration": 6,
    "start_time": "2022-12-23T11:11:39.510Z"
   },
   {
    "duration": 26,
    "start_time": "2022-12-23T11:11:40.150Z"
   },
   {
    "duration": 75,
    "start_time": "2022-12-23T11:11:40.357Z"
   },
   {
    "duration": 16,
    "start_time": "2022-12-23T11:11:40.591Z"
   },
   {
    "duration": 8,
    "start_time": "2022-12-23T11:12:11.831Z"
   },
   {
    "duration": 78,
    "start_time": "2022-12-23T11:12:27.532Z"
   },
   {
    "duration": 71,
    "start_time": "2022-12-23T11:12:39.198Z"
   },
   {
    "duration": 112,
    "start_time": "2022-12-23T11:13:22.856Z"
   },
   {
    "duration": 15,
    "start_time": "2022-12-23T11:13:34.060Z"
   },
   {
    "duration": 15,
    "start_time": "2022-12-23T11:13:47.568Z"
   },
   {
    "duration": 12,
    "start_time": "2022-12-23T11:14:10.369Z"
   },
   {
    "duration": 39,
    "start_time": "2022-12-23T11:14:54.047Z"
   },
   {
    "duration": 5,
    "start_time": "2022-12-23T11:15:03.123Z"
   },
   {
    "duration": 8,
    "start_time": "2022-12-23T11:15:09.230Z"
   },
   {
    "duration": 16,
    "start_time": "2022-12-23T11:15:09.849Z"
   },
   {
    "duration": 7,
    "start_time": "2022-12-23T11:15:11.950Z"
   },
   {
    "duration": 335,
    "start_time": "2022-12-23T11:15:12.326Z"
   },
   {
    "duration": 15,
    "start_time": "2022-12-23T11:15:12.663Z"
   },
   {
    "duration": 7,
    "start_time": "2022-12-23T11:15:13.620Z"
   },
   {
    "duration": 387,
    "start_time": "2022-12-23T11:15:14.094Z"
   },
   {
    "duration": 246,
    "start_time": "2022-12-23T11:15:21.168Z"
   },
   {
    "duration": 384,
    "start_time": "2022-12-23T11:15:31.636Z"
   },
   {
    "duration": 248,
    "start_time": "2022-12-23T11:15:34.630Z"
   },
   {
    "duration": 347,
    "start_time": "2022-12-23T11:15:37.899Z"
   },
   {
    "duration": 382,
    "start_time": "2022-12-23T11:15:52.844Z"
   },
   {
    "duration": 10,
    "start_time": "2022-12-23T11:16:07.627Z"
   },
   {
    "duration": 200,
    "start_time": "2022-12-23T11:16:10.915Z"
   },
   {
    "duration": 191,
    "start_time": "2022-12-23T11:16:12.180Z"
   },
   {
    "duration": 11,
    "start_time": "2022-12-23T11:17:09.030Z"
   },
   {
    "duration": 10,
    "start_time": "2022-12-23T11:17:14.672Z"
   },
   {
    "duration": 6,
    "start_time": "2022-12-23T11:17:16.333Z"
   },
   {
    "duration": 11,
    "start_time": "2022-12-23T11:17:18.821Z"
   },
   {
    "duration": 9,
    "start_time": "2022-12-23T11:17:24.636Z"
   },
   {
    "duration": 6,
    "start_time": "2022-12-23T11:17:25.135Z"
   },
   {
    "duration": 4,
    "start_time": "2022-12-23T11:17:33.975Z"
   },
   {
    "duration": 93,
    "start_time": "2022-12-23T11:17:34.207Z"
   },
   {
    "duration": 9,
    "start_time": "2022-12-23T11:17:34.429Z"
   },
   {
    "duration": 15,
    "start_time": "2022-12-23T11:17:34.673Z"
   },
   {
    "duration": 9,
    "start_time": "2022-12-23T11:17:34.967Z"
   },
   {
    "duration": 8,
    "start_time": "2022-12-23T11:17:35.469Z"
   },
   {
    "duration": 9,
    "start_time": "2022-12-23T11:17:37.071Z"
   },
   {
    "duration": 12,
    "start_time": "2022-12-23T11:17:37.326Z"
   },
   {
    "duration": 12,
    "start_time": "2022-12-23T11:17:37.625Z"
   },
   {
    "duration": 13,
    "start_time": "2022-12-23T11:17:37.755Z"
   },
   {
    "duration": 7,
    "start_time": "2022-12-23T11:17:37.943Z"
   },
   {
    "duration": 9,
    "start_time": "2022-12-23T11:17:38.169Z"
   },
   {
    "duration": 10,
    "start_time": "2022-12-23T11:17:38.729Z"
   },
   {
    "duration": 12,
    "start_time": "2022-12-23T11:17:39.134Z"
   },
   {
    "duration": 12,
    "start_time": "2022-12-23T11:17:40.229Z"
   },
   {
    "duration": 5,
    "start_time": "2022-12-23T11:17:41.206Z"
   },
   {
    "duration": 12,
    "start_time": "2022-12-23T11:17:41.794Z"
   },
   {
    "duration": 7,
    "start_time": "2022-12-23T11:17:42.543Z"
   },
   {
    "duration": 6,
    "start_time": "2022-12-23T11:17:43.094Z"
   },
   {
    "duration": 101,
    "start_time": "2022-12-23T11:17:45.240Z"
   },
   {
    "duration": 11,
    "start_time": "2022-12-23T11:17:48.055Z"
   },
   {
    "duration": 8,
    "start_time": "2022-12-23T11:17:50.702Z"
   },
   {
    "duration": 14,
    "start_time": "2022-12-23T11:17:57.565Z"
   },
   {
    "duration": 7,
    "start_time": "2022-12-23T11:18:59.715Z"
   },
   {
    "duration": 15,
    "start_time": "2022-12-23T11:19:00.127Z"
   },
   {
    "duration": 7,
    "start_time": "2022-12-23T11:19:01.599Z"
   },
   {
    "duration": 341,
    "start_time": "2022-12-23T11:19:01.831Z"
   },
   {
    "duration": 16,
    "start_time": "2022-12-23T11:19:02.174Z"
   },
   {
    "duration": 9,
    "start_time": "2022-12-23T11:19:02.269Z"
   },
   {
    "duration": 257,
    "start_time": "2022-12-23T11:19:02.465Z"
   },
   {
    "duration": 236,
    "start_time": "2022-12-23T11:19:03.288Z"
   },
   {
    "duration": 359,
    "start_time": "2022-12-23T11:19:04.158Z"
   },
   {
    "duration": 259,
    "start_time": "2022-12-23T11:19:05.016Z"
   },
   {
    "duration": 371,
    "start_time": "2022-12-23T11:19:05.874Z"
   },
   {
    "duration": 153,
    "start_time": "2022-12-23T11:19:09.298Z"
   },
   {
    "duration": 182,
    "start_time": "2022-12-23T11:19:12.613Z"
   },
   {
    "duration": 6,
    "start_time": "2022-12-23T11:19:16.005Z"
   },
   {
    "duration": 222,
    "start_time": "2022-12-23T11:22:09.143Z"
   },
   {
    "duration": 229,
    "start_time": "2022-12-23T11:22:09.683Z"
   },
   {
    "duration": 6,
    "start_time": "2022-12-23T11:22:13.327Z"
   },
   {
    "duration": 162,
    "start_time": "2022-12-23T11:24:57.035Z"
   },
   {
    "duration": 158,
    "start_time": "2022-12-23T11:24:58.438Z"
   },
   {
    "duration": 5,
    "start_time": "2022-12-23T11:25:02.913Z"
   },
   {
    "duration": 206,
    "start_time": "2022-12-23T11:25:06.238Z"
   },
   {
    "duration": 33,
    "start_time": "2022-12-23T11:25:07.942Z"
   },
   {
    "duration": 188,
    "start_time": "2022-12-23T11:25:09.778Z"
   },
   {
    "duration": 25,
    "start_time": "2022-12-23T11:25:13.032Z"
   },
   {
    "duration": 12,
    "start_time": "2022-12-23T11:25:17.236Z"
   },
   {
    "duration": 13,
    "start_time": "2022-12-23T11:26:24.868Z"
   },
   {
    "duration": 10,
    "start_time": "2022-12-23T11:26:31.571Z"
   },
   {
    "duration": 36,
    "start_time": "2022-12-23T11:26:36.737Z"
   },
   {
    "duration": 16,
    "start_time": "2022-12-23T11:26:41.199Z"
   },
   {
    "duration": 4,
    "start_time": "2022-12-23T11:27:57.379Z"
   },
   {
    "duration": 77,
    "start_time": "2022-12-23T11:27:57.624Z"
   },
   {
    "duration": 9,
    "start_time": "2022-12-23T11:27:57.944Z"
   },
   {
    "duration": 10,
    "start_time": "2022-12-23T11:27:58.108Z"
   },
   {
    "duration": 7,
    "start_time": "2022-12-23T11:27:58.329Z"
   },
   {
    "duration": 7,
    "start_time": "2022-12-23T11:27:58.552Z"
   },
   {
    "duration": 10,
    "start_time": "2022-12-23T11:28:00.177Z"
   },
   {
    "duration": 12,
    "start_time": "2022-12-23T11:28:00.836Z"
   },
   {
    "duration": 18,
    "start_time": "2022-12-23T11:28:01.071Z"
   },
   {
    "duration": 13,
    "start_time": "2022-12-23T11:28:01.293Z"
   },
   {
    "duration": 7,
    "start_time": "2022-12-23T11:28:01.523Z"
   },
   {
    "duration": 7,
    "start_time": "2022-12-23T11:28:01.770Z"
   },
   {
    "duration": 10,
    "start_time": "2022-12-23T11:28:02.263Z"
   },
   {
    "duration": 7,
    "start_time": "2022-12-23T11:28:02.521Z"
   },
   {
    "duration": 17,
    "start_time": "2022-12-23T11:28:02.761Z"
   },
   {
    "duration": 5,
    "start_time": "2022-12-23T11:28:03.007Z"
   },
   {
    "duration": 11,
    "start_time": "2022-12-23T11:28:03.241Z"
   },
   {
    "duration": 8,
    "start_time": "2022-12-23T11:28:03.472Z"
   },
   {
    "duration": 6,
    "start_time": "2022-12-23T11:28:03.710Z"
   },
   {
    "duration": 11,
    "start_time": "2022-12-23T11:28:04.453Z"
   },
   {
    "duration": 10,
    "start_time": "2022-12-23T11:28:04.704Z"
   },
   {
    "duration": 6,
    "start_time": "2022-12-23T11:28:04.919Z"
   },
   {
    "duration": 11,
    "start_time": "2022-12-23T11:28:05.430Z"
   },
   {
    "duration": 7,
    "start_time": "2022-12-23T11:28:09.933Z"
   },
   {
    "duration": 343,
    "start_time": "2022-12-23T11:28:10.466Z"
   },
   {
    "duration": 11,
    "start_time": "2022-12-23T11:28:11.108Z"
   },
   {
    "duration": 10,
    "start_time": "2022-12-23T11:28:11.673Z"
   },
   {
    "duration": 217,
    "start_time": "2022-12-23T11:28:12.449Z"
   },
   {
    "duration": 220,
    "start_time": "2022-12-23T11:28:27.693Z"
   },
   {
    "duration": 445,
    "start_time": "2022-12-23T11:28:37.976Z"
   },
   {
    "duration": 212,
    "start_time": "2022-12-23T11:28:43.215Z"
   },
   {
    "duration": 344,
    "start_time": "2022-12-23T11:28:51.683Z"
   },
   {
    "duration": 317,
    "start_time": "2022-12-23T11:29:08.579Z"
   },
   {
    "duration": 162,
    "start_time": "2022-12-23T11:29:15.344Z"
   },
   {
    "duration": 192,
    "start_time": "2022-12-23T11:29:26.473Z"
   },
   {
    "duration": 6,
    "start_time": "2022-12-23T11:29:33.776Z"
   },
   {
    "duration": 173,
    "start_time": "2022-12-23T11:29:37.802Z"
   },
   {
    "duration": 176,
    "start_time": "2022-12-23T11:29:39.201Z"
   },
   {
    "duration": 5,
    "start_time": "2022-12-23T11:29:47.400Z"
   },
   {
    "duration": 37,
    "start_time": "2022-12-23T11:30:58.892Z"
   },
   {
    "duration": 162,
    "start_time": "2022-12-23T11:30:59.212Z"
   },
   {
    "duration": 28,
    "start_time": "2022-12-23T11:31:01.904Z"
   },
   {
    "duration": 14,
    "start_time": "2022-12-23T11:31:05.943Z"
   },
   {
    "duration": 13,
    "start_time": "2022-12-23T11:32:25.024Z"
   },
   {
    "duration": 81,
    "start_time": "2022-12-23T11:33:16.163Z"
   },
   {
    "duration": 13,
    "start_time": "2022-12-23T11:33:19.368Z"
   },
   {
    "duration": 72,
    "start_time": "2022-12-23T11:33:20.000Z"
   },
   {
    "duration": 7,
    "start_time": "2022-12-23T11:33:28.253Z"
   },
   {
    "duration": 10,
    "start_time": "2022-12-23T11:34:11.479Z"
   },
   {
    "duration": 43,
    "start_time": "2022-12-23T11:34:13.426Z"
   },
   {
    "duration": 17,
    "start_time": "2022-12-23T11:34:15.776Z"
   },
   {
    "duration": 16,
    "start_time": "2022-12-23T11:34:56.981Z"
   },
   {
    "duration": 1092,
    "start_time": "2022-12-23T13:27:30.703Z"
   },
   {
    "duration": 202,
    "start_time": "2022-12-23T13:27:31.796Z"
   },
   {
    "duration": 11,
    "start_time": "2022-12-23T13:27:32.000Z"
   },
   {
    "duration": 31,
    "start_time": "2022-12-23T13:27:32.013Z"
   },
   {
    "duration": 32,
    "start_time": "2022-12-23T13:27:32.046Z"
   },
   {
    "duration": 9,
    "start_time": "2022-12-23T13:27:32.079Z"
   },
   {
    "duration": 12,
    "start_time": "2022-12-23T13:27:32.089Z"
   },
   {
    "duration": 14,
    "start_time": "2022-12-23T13:27:32.103Z"
   },
   {
    "duration": 14,
    "start_time": "2022-12-23T13:27:32.118Z"
   },
   {
    "duration": 14,
    "start_time": "2022-12-23T13:27:32.133Z"
   },
   {
    "duration": 9,
    "start_time": "2022-12-23T13:27:32.149Z"
   },
   {
    "duration": 8,
    "start_time": "2022-12-23T13:27:32.160Z"
   },
   {
    "duration": 9,
    "start_time": "2022-12-23T13:27:32.169Z"
   },
   {
    "duration": 11,
    "start_time": "2022-12-23T13:27:32.182Z"
   },
   {
    "duration": 17,
    "start_time": "2022-12-23T13:27:32.195Z"
   },
   {
    "duration": 9,
    "start_time": "2022-12-23T13:27:32.214Z"
   },
   {
    "duration": 30,
    "start_time": "2022-12-23T13:27:32.224Z"
   },
   {
    "duration": 16,
    "start_time": "2022-12-23T13:27:32.256Z"
   },
   {
    "duration": 7,
    "start_time": "2022-12-23T13:27:32.274Z"
   },
   {
    "duration": 21,
    "start_time": "2022-12-23T13:27:32.282Z"
   },
   {
    "duration": 8,
    "start_time": "2022-12-23T13:27:32.305Z"
   },
   {
    "duration": 8,
    "start_time": "2022-12-23T13:27:32.314Z"
   },
   {
    "duration": 15,
    "start_time": "2022-12-23T13:27:32.324Z"
   },
   {
    "duration": 15,
    "start_time": "2022-12-23T13:27:32.341Z"
   },
   {
    "duration": 344,
    "start_time": "2022-12-23T13:27:32.358Z"
   },
   {
    "duration": 10,
    "start_time": "2022-12-23T13:27:32.703Z"
   },
   {
    "duration": 7,
    "start_time": "2022-12-23T13:27:32.715Z"
   },
   {
    "duration": 280,
    "start_time": "2022-12-23T13:27:32.723Z"
   },
   {
    "duration": 204,
    "start_time": "2022-12-23T13:27:33.005Z"
   },
   {
    "duration": 318,
    "start_time": "2022-12-23T13:27:33.211Z"
   },
   {
    "duration": 201,
    "start_time": "2022-12-23T13:27:33.530Z"
   },
   {
    "duration": 339,
    "start_time": "2022-12-23T13:27:33.733Z"
   },
   {
    "duration": 143,
    "start_time": "2022-12-23T13:27:34.074Z"
   },
   {
    "duration": 187,
    "start_time": "2022-12-23T13:27:34.219Z"
   },
   {
    "duration": 5,
    "start_time": "2022-12-23T13:27:34.407Z"
   },
   {
    "duration": 168,
    "start_time": "2022-12-23T13:27:34.413Z"
   },
   {
    "duration": 172,
    "start_time": "2022-12-23T13:27:34.582Z"
   },
   {
    "duration": 5,
    "start_time": "2022-12-23T13:27:34.756Z"
   },
   {
    "duration": 293,
    "start_time": "2022-12-23T13:27:34.763Z"
   },
   {
    "duration": 29,
    "start_time": "2022-12-23T13:27:35.057Z"
   },
   {
    "duration": 130,
    "start_time": "2022-12-23T13:27:35.089Z"
   },
   {
    "duration": 33,
    "start_time": "2022-12-23T13:27:35.221Z"
   },
   {
    "duration": 10,
    "start_time": "2022-12-23T13:27:35.255Z"
   },
   {
    "duration": 10,
    "start_time": "2022-12-23T13:27:35.267Z"
   },
   {
    "duration": 8,
    "start_time": "2022-12-23T13:27:35.279Z"
   },
   {
    "duration": 22,
    "start_time": "2022-12-23T13:27:35.289Z"
   },
   {
    "duration": 39,
    "start_time": "2022-12-23T13:27:35.313Z"
   },
   {
    "duration": 50,
    "start_time": "2023-03-19T13:17:50.113Z"
   },
   {
    "duration": 1714,
    "start_time": "2023-03-19T13:28:34.417Z"
   },
   {
    "duration": 254,
    "start_time": "2023-03-19T13:28:36.133Z"
   },
   {
    "duration": 20,
    "start_time": "2023-03-19T13:28:36.389Z"
   },
   {
    "duration": 31,
    "start_time": "2023-03-19T13:28:36.411Z"
   },
   {
    "duration": 20,
    "start_time": "2023-03-19T13:28:36.444Z"
   },
   {
    "duration": 9,
    "start_time": "2023-03-19T13:28:36.466Z"
   },
   {
    "duration": 8,
    "start_time": "2023-03-19T13:28:37.641Z"
   },
   {
    "duration": 10,
    "start_time": "2023-03-19T13:28:37.831Z"
   },
   {
    "duration": 12,
    "start_time": "2023-03-19T13:28:38.043Z"
   },
   {
    "duration": 13,
    "start_time": "2023-03-19T13:28:38.218Z"
   },
   {
    "duration": 6,
    "start_time": "2023-03-19T13:28:38.425Z"
   },
   {
    "duration": 6,
    "start_time": "2023-03-19T13:28:38.637Z"
   },
   {
    "duration": 8,
    "start_time": "2023-03-19T13:28:39.055Z"
   },
   {
    "duration": 8,
    "start_time": "2023-03-19T13:28:39.314Z"
   },
   {
    "duration": 12,
    "start_time": "2023-03-19T13:28:39.522Z"
   },
   {
    "duration": 20,
    "start_time": "2023-03-19T13:28:39.789Z"
   },
   {
    "duration": 10,
    "start_time": "2023-03-19T13:28:40.014Z"
   },
   {
    "duration": 6,
    "start_time": "2023-03-19T13:28:40.214Z"
   },
   {
    "duration": 6,
    "start_time": "2023-03-19T13:28:40.455Z"
   },
   {
    "duration": 11,
    "start_time": "2023-03-19T13:28:41.419Z"
   },
   {
    "duration": 8,
    "start_time": "2023-03-19T13:28:41.661Z"
   },
   {
    "duration": 7,
    "start_time": "2023-03-19T13:28:41.884Z"
   },
   {
    "duration": 11,
    "start_time": "2023-03-19T13:28:42.472Z"
   }
  ],
  "kernelspec": {
   "display_name": "Python 3 (ipykernel)",
   "language": "python",
   "name": "python3"
  },
  "language_info": {
   "codemirror_mode": {
    "name": "ipython",
    "version": 3
   },
   "file_extension": ".py",
   "mimetype": "text/x-python",
   "name": "python",
   "nbconvert_exporter": "python",
   "pygments_lexer": "ipython3",
   "version": "3.9.13"
  },
  "toc": {
   "base_numbering": 1,
   "nav_menu": {},
   "number_sections": true,
   "sideBar": true,
   "skip_h1_title": true,
   "title_cell": "Table of Contents",
   "title_sidebar": "Contents",
   "toc_cell": false,
   "toc_position": {},
   "toc_section_display": true,
   "toc_window_display": true
  }
 },
 "nbformat": 4,
 "nbformat_minor": 2
}
