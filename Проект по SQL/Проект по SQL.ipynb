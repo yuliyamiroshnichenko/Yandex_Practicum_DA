{
 "cells": [
  {
   "cell_type": "markdown",
   "metadata": {},
   "source": [
    "# Проект по SQL"
   ]
  },
  {
   "cell_type": "markdown",
   "metadata": {},
   "source": [
    "# Описание проекта.\n",
    "Коронавирус застал мир врасплох, изменив привычный порядок вещей. В свободное время жители городов больше не выходят на улицу, не посещают кафе и торговые центры. Зато стало больше времени для книг. Это заметили стартаперы — и бросились создавать приложения для тех, кто любит читать.\n",
    "\n",
    "Ваша компания решила быть на волне и купила крупный сервис для чтения книг по подписке. Ваша первая задача как аналитика — проанализировать базу данных.\n",
    "\n",
    "В ней — информация о книгах, издательствах, авторах, а также пользовательские обзоры книг. Эти данные помогут сформулировать ценностное предложение для нового продукта."
   ]
  },
  {
   "cell_type": "markdown",
   "metadata": {},
   "source": [
    "# Задачи проекта:\n",
    "1. Посчитайте, сколько книг вышло после 1 января 2000 года;\n",
    "2. Для каждой книги посчитайте количество обзоров и среднюю оценку;\n",
    "3. Определите издательство, которое выпустило наибольшее число книг толще 50 страниц — так вы исключите из анализа брошюры;\n",
    "4. Определите автора с самой высокой средней оценкой книг — учитывайте только книги с 50 и более оценками;\n",
    "5. Посчитайте среднее количество обзоров от пользователей, которые поставили больше 50 оценок."
   ]
  },
  {
   "cell_type": "markdown",
   "metadata": {},
   "source": [
    "## 1. Выгрузим данные"
   ]
  },
  {
   "cell_type": "code",
   "execution_count": 2,
   "metadata": {},
   "outputs": [],
   "source": [
    "import pandas as pd\n",
    "from sqlalchemy import create_engine "
   ]
  },
  {
   "cell_type": "code",
   "execution_count": 3,
   "metadata": {},
   "outputs": [],
   "source": [
    "# устанавливаем параметры\n",
    "db_config = {'user': 'praktikum_student', # имя пользователя\n",
    "'pwd': 'Sdf4$2;d-d30pp', # пароль\n",
    "'host': 'rc1b-wcoijxj3yxfsf3fs.mdb.yandexcloud.net',\n",
    "'port': 6432, # порт подключения\n",
    "'db': 'data-analyst-final-project-db'} # название базы данных"
   ]
  },
  {
   "cell_type": "code",
   "execution_count": 4,
   "metadata": {},
   "outputs": [],
   "source": [
    "connection_string = 'postgresql://{}:{}@{}:{}/{}'.format(db_config['user'],\n",
    " db_config['pwd'],\n",
    " db_config['host'],\n",
    " db_config['port'],\n",
    " db_config['db'])\n",
    "# сохраняем коннектор\n",
    "engine = create_engine(connection_string, connect_args={'sslmode':'require'}) "
   ]
  },
  {
   "cell_type": "markdown",
   "metadata": {},
   "source": [
    "## 2. Исследуем имеющиеся таблицы."
   ]
  },
  {
   "cell_type": "code",
   "execution_count": 5,
   "metadata": {},
   "outputs": [
    {
     "data": {
      "text/html": [
       "<div>\n",
       "<style scoped>\n",
       "    .dataframe tbody tr th:only-of-type {\n",
       "        vertical-align: middle;\n",
       "    }\n",
       "\n",
       "    .dataframe tbody tr th {\n",
       "        vertical-align: top;\n",
       "    }\n",
       "\n",
       "    .dataframe thead th {\n",
       "        text-align: right;\n",
       "    }\n",
       "</style>\n",
       "<table border=\"1\" class=\"dataframe\">\n",
       "  <thead>\n",
       "    <tr style=\"text-align: right;\">\n",
       "      <th></th>\n",
       "      <th>book_id</th>\n",
       "      <th>author_id</th>\n",
       "      <th>title</th>\n",
       "      <th>num_pages</th>\n",
       "      <th>publication_date</th>\n",
       "      <th>publisher_id</th>\n",
       "    </tr>\n",
       "  </thead>\n",
       "  <tbody>\n",
       "    <tr>\n",
       "      <th>0</th>\n",
       "      <td>1</td>\n",
       "      <td>546</td>\n",
       "      <td>'Salem's Lot</td>\n",
       "      <td>594</td>\n",
       "      <td>2005-11-01</td>\n",
       "      <td>93</td>\n",
       "    </tr>\n",
       "    <tr>\n",
       "      <th>1</th>\n",
       "      <td>2</td>\n",
       "      <td>465</td>\n",
       "      <td>1 000 Places to See Before You Die</td>\n",
       "      <td>992</td>\n",
       "      <td>2003-05-22</td>\n",
       "      <td>336</td>\n",
       "    </tr>\n",
       "    <tr>\n",
       "      <th>2</th>\n",
       "      <td>3</td>\n",
       "      <td>407</td>\n",
       "      <td>13 Little Blue Envelopes (Little Blue Envelope...</td>\n",
       "      <td>322</td>\n",
       "      <td>2010-12-21</td>\n",
       "      <td>135</td>\n",
       "    </tr>\n",
       "    <tr>\n",
       "      <th>3</th>\n",
       "      <td>4</td>\n",
       "      <td>82</td>\n",
       "      <td>1491: New Revelations of the Americas Before C...</td>\n",
       "      <td>541</td>\n",
       "      <td>2006-10-10</td>\n",
       "      <td>309</td>\n",
       "    </tr>\n",
       "    <tr>\n",
       "      <th>4</th>\n",
       "      <td>5</td>\n",
       "      <td>125</td>\n",
       "      <td>1776</td>\n",
       "      <td>386</td>\n",
       "      <td>2006-07-04</td>\n",
       "      <td>268</td>\n",
       "    </tr>\n",
       "    <tr>\n",
       "      <th>5</th>\n",
       "      <td>6</td>\n",
       "      <td>257</td>\n",
       "      <td>1st to Die (Women's Murder Club  #1)</td>\n",
       "      <td>424</td>\n",
       "      <td>2005-05-20</td>\n",
       "      <td>116</td>\n",
       "    </tr>\n",
       "    <tr>\n",
       "      <th>6</th>\n",
       "      <td>7</td>\n",
       "      <td>258</td>\n",
       "      <td>2nd Chance (Women's Murder Club  #2)</td>\n",
       "      <td>400</td>\n",
       "      <td>2005-05-20</td>\n",
       "      <td>116</td>\n",
       "    </tr>\n",
       "    <tr>\n",
       "      <th>7</th>\n",
       "      <td>8</td>\n",
       "      <td>260</td>\n",
       "      <td>4th of July (Women's Murder Club  #4)</td>\n",
       "      <td>448</td>\n",
       "      <td>2006-06-01</td>\n",
       "      <td>318</td>\n",
       "    </tr>\n",
       "    <tr>\n",
       "      <th>8</th>\n",
       "      <td>9</td>\n",
       "      <td>563</td>\n",
       "      <td>A Beautiful Mind</td>\n",
       "      <td>461</td>\n",
       "      <td>2002-02-04</td>\n",
       "      <td>104</td>\n",
       "    </tr>\n",
       "    <tr>\n",
       "      <th>9</th>\n",
       "      <td>10</td>\n",
       "      <td>445</td>\n",
       "      <td>A Bend in the Road</td>\n",
       "      <td>341</td>\n",
       "      <td>2005-04-01</td>\n",
       "      <td>116</td>\n",
       "    </tr>\n",
       "  </tbody>\n",
       "</table>\n",
       "</div>"
      ],
      "text/plain": [
       "   book_id  author_id                                              title  \\\n",
       "0        1        546                                       'Salem's Lot   \n",
       "1        2        465                 1 000 Places to See Before You Die   \n",
       "2        3        407  13 Little Blue Envelopes (Little Blue Envelope...   \n",
       "3        4         82  1491: New Revelations of the Americas Before C...   \n",
       "4        5        125                                               1776   \n",
       "5        6        257               1st to Die (Women's Murder Club  #1)   \n",
       "6        7        258               2nd Chance (Women's Murder Club  #2)   \n",
       "7        8        260              4th of July (Women's Murder Club  #4)   \n",
       "8        9        563                                   A Beautiful Mind   \n",
       "9       10        445                                 A Bend in the Road   \n",
       "\n",
       "   num_pages publication_date  publisher_id  \n",
       "0        594       2005-11-01            93  \n",
       "1        992       2003-05-22           336  \n",
       "2        322       2010-12-21           135  \n",
       "3        541       2006-10-10           309  \n",
       "4        386       2006-07-04           268  \n",
       "5        424       2005-05-20           116  \n",
       "6        400       2005-05-20           116  \n",
       "7        448       2006-06-01           318  \n",
       "8        461       2002-02-04           104  \n",
       "9        341       2005-04-01           116  "
      ]
     },
     "execution_count": 5,
     "metadata": {},
     "output_type": "execute_result"
    }
   ],
   "source": [
    "books='''\n",
    "SELECT *\n",
    "FROM books LIMIT(10);\n",
    "'''\n",
    "\n",
    "pd.io.sql.read_sql(books, con = engine)"
   ]
  },
  {
   "cell_type": "markdown",
   "metadata": {},
   "source": [
    "**Исследуем таблицы.**"
   ]
  },
  {
   "cell_type": "code",
   "execution_count": 6,
   "metadata": {},
   "outputs": [
    {
     "data": {
      "text/html": [
       "<div>\n",
       "<style scoped>\n",
       "    .dataframe tbody tr th:only-of-type {\n",
       "        vertical-align: middle;\n",
       "    }\n",
       "\n",
       "    .dataframe tbody tr th {\n",
       "        vertical-align: top;\n",
       "    }\n",
       "\n",
       "    .dataframe thead th {\n",
       "        text-align: right;\n",
       "    }\n",
       "</style>\n",
       "<table border=\"1\" class=\"dataframe\">\n",
       "  <thead>\n",
       "    <tr style=\"text-align: right;\">\n",
       "      <th></th>\n",
       "      <th>author_id</th>\n",
       "      <th>author</th>\n",
       "    </tr>\n",
       "  </thead>\n",
       "  <tbody>\n",
       "    <tr>\n",
       "      <th>0</th>\n",
       "      <td>1</td>\n",
       "      <td>A.S. Byatt</td>\n",
       "    </tr>\n",
       "    <tr>\n",
       "      <th>1</th>\n",
       "      <td>2</td>\n",
       "      <td>Aesop/Laura Harris/Laura Gibbs</td>\n",
       "    </tr>\n",
       "    <tr>\n",
       "      <th>2</th>\n",
       "      <td>3</td>\n",
       "      <td>Agatha Christie</td>\n",
       "    </tr>\n",
       "    <tr>\n",
       "      <th>3</th>\n",
       "      <td>4</td>\n",
       "      <td>Alan Brennert</td>\n",
       "    </tr>\n",
       "    <tr>\n",
       "      <th>4</th>\n",
       "      <td>5</td>\n",
       "      <td>Alan Moore/David   Lloyd</td>\n",
       "    </tr>\n",
       "    <tr>\n",
       "      <th>5</th>\n",
       "      <td>6</td>\n",
       "      <td>Alan Paton</td>\n",
       "    </tr>\n",
       "    <tr>\n",
       "      <th>6</th>\n",
       "      <td>7</td>\n",
       "      <td>Albert Camus/Justin O'Brien</td>\n",
       "    </tr>\n",
       "    <tr>\n",
       "      <th>7</th>\n",
       "      <td>8</td>\n",
       "      <td>Aldous Huxley</td>\n",
       "    </tr>\n",
       "    <tr>\n",
       "      <th>8</th>\n",
       "      <td>9</td>\n",
       "      <td>Aldous Huxley/Christopher Hitchens</td>\n",
       "    </tr>\n",
       "    <tr>\n",
       "      <th>9</th>\n",
       "      <td>10</td>\n",
       "      <td>Aleksandr Solzhenitsyn/H.T. Willetts</td>\n",
       "    </tr>\n",
       "  </tbody>\n",
       "</table>\n",
       "</div>"
      ],
      "text/plain": [
       "   author_id                                author\n",
       "0          1                            A.S. Byatt\n",
       "1          2        Aesop/Laura Harris/Laura Gibbs\n",
       "2          3                       Agatha Christie\n",
       "3          4                         Alan Brennert\n",
       "4          5              Alan Moore/David   Lloyd\n",
       "5          6                            Alan Paton\n",
       "6          7           Albert Camus/Justin O'Brien\n",
       "7          8                         Aldous Huxley\n",
       "8          9    Aldous Huxley/Christopher Hitchens\n",
       "9         10  Aleksandr Solzhenitsyn/H.T. Willetts"
      ]
     },
     "execution_count": 6,
     "metadata": {},
     "output_type": "execute_result"
    }
   ],
   "source": [
    "authors='''\n",
    "SELECT *\n",
    "FROM authors LIMIT(10);\n",
    "'''\n",
    "pd.io.sql.read_sql(authors, con = engine)"
   ]
  },
  {
   "cell_type": "code",
   "execution_count": 7,
   "metadata": {},
   "outputs": [
    {
     "data": {
      "text/html": [
       "<div>\n",
       "<style scoped>\n",
       "    .dataframe tbody tr th:only-of-type {\n",
       "        vertical-align: middle;\n",
       "    }\n",
       "\n",
       "    .dataframe tbody tr th {\n",
       "        vertical-align: top;\n",
       "    }\n",
       "\n",
       "    .dataframe thead th {\n",
       "        text-align: right;\n",
       "    }\n",
       "</style>\n",
       "<table border=\"1\" class=\"dataframe\">\n",
       "  <thead>\n",
       "    <tr style=\"text-align: right;\">\n",
       "      <th></th>\n",
       "      <th>publisher_id</th>\n",
       "      <th>publisher</th>\n",
       "    </tr>\n",
       "  </thead>\n",
       "  <tbody>\n",
       "    <tr>\n",
       "      <th>0</th>\n",
       "      <td>1</td>\n",
       "      <td>Ace</td>\n",
       "    </tr>\n",
       "    <tr>\n",
       "      <th>1</th>\n",
       "      <td>2</td>\n",
       "      <td>Ace Book</td>\n",
       "    </tr>\n",
       "    <tr>\n",
       "      <th>2</th>\n",
       "      <td>3</td>\n",
       "      <td>Ace Books</td>\n",
       "    </tr>\n",
       "    <tr>\n",
       "      <th>3</th>\n",
       "      <td>4</td>\n",
       "      <td>Ace Hardcover</td>\n",
       "    </tr>\n",
       "    <tr>\n",
       "      <th>4</th>\n",
       "      <td>5</td>\n",
       "      <td>Addison Wesley Publishing Company</td>\n",
       "    </tr>\n",
       "    <tr>\n",
       "      <th>5</th>\n",
       "      <td>6</td>\n",
       "      <td>Aladdin</td>\n",
       "    </tr>\n",
       "    <tr>\n",
       "      <th>6</th>\n",
       "      <td>7</td>\n",
       "      <td>Aladdin Paperbacks</td>\n",
       "    </tr>\n",
       "    <tr>\n",
       "      <th>7</th>\n",
       "      <td>8</td>\n",
       "      <td>Albin Michel</td>\n",
       "    </tr>\n",
       "    <tr>\n",
       "      <th>8</th>\n",
       "      <td>9</td>\n",
       "      <td>Alfred A. Knopf</td>\n",
       "    </tr>\n",
       "    <tr>\n",
       "      <th>9</th>\n",
       "      <td>10</td>\n",
       "      <td>Alfred A. Knopf Books for Young Readers</td>\n",
       "    </tr>\n",
       "  </tbody>\n",
       "</table>\n",
       "</div>"
      ],
      "text/plain": [
       "   publisher_id                                publisher\n",
       "0             1                                      Ace\n",
       "1             2                                 Ace Book\n",
       "2             3                                Ace Books\n",
       "3             4                            Ace Hardcover\n",
       "4             5        Addison Wesley Publishing Company\n",
       "5             6                                  Aladdin\n",
       "6             7                       Aladdin Paperbacks\n",
       "7             8                             Albin Michel\n",
       "8             9                          Alfred A. Knopf\n",
       "9            10  Alfred A. Knopf Books for Young Readers"
      ]
     },
     "execution_count": 7,
     "metadata": {},
     "output_type": "execute_result"
    }
   ],
   "source": [
    "publishers='''\n",
    "SELECT *\n",
    "FROM publishers LIMIT(10);\n",
    "'''\n",
    "pd.io.sql.read_sql(publishers, con = engine)"
   ]
  },
  {
   "cell_type": "code",
   "execution_count": 8,
   "metadata": {},
   "outputs": [
    {
     "data": {
      "text/html": [
       "<div>\n",
       "<style scoped>\n",
       "    .dataframe tbody tr th:only-of-type {\n",
       "        vertical-align: middle;\n",
       "    }\n",
       "\n",
       "    .dataframe tbody tr th {\n",
       "        vertical-align: top;\n",
       "    }\n",
       "\n",
       "    .dataframe thead th {\n",
       "        text-align: right;\n",
       "    }\n",
       "</style>\n",
       "<table border=\"1\" class=\"dataframe\">\n",
       "  <thead>\n",
       "    <tr style=\"text-align: right;\">\n",
       "      <th></th>\n",
       "      <th>rating_id</th>\n",
       "      <th>book_id</th>\n",
       "      <th>username</th>\n",
       "      <th>rating</th>\n",
       "    </tr>\n",
       "  </thead>\n",
       "  <tbody>\n",
       "    <tr>\n",
       "      <th>0</th>\n",
       "      <td>1</td>\n",
       "      <td>1</td>\n",
       "      <td>ryanfranco</td>\n",
       "      <td>4</td>\n",
       "    </tr>\n",
       "    <tr>\n",
       "      <th>1</th>\n",
       "      <td>2</td>\n",
       "      <td>1</td>\n",
       "      <td>grantpatricia</td>\n",
       "      <td>2</td>\n",
       "    </tr>\n",
       "    <tr>\n",
       "      <th>2</th>\n",
       "      <td>3</td>\n",
       "      <td>1</td>\n",
       "      <td>brandtandrea</td>\n",
       "      <td>5</td>\n",
       "    </tr>\n",
       "    <tr>\n",
       "      <th>3</th>\n",
       "      <td>4</td>\n",
       "      <td>2</td>\n",
       "      <td>lorichen</td>\n",
       "      <td>3</td>\n",
       "    </tr>\n",
       "    <tr>\n",
       "      <th>4</th>\n",
       "      <td>5</td>\n",
       "      <td>2</td>\n",
       "      <td>mariokeller</td>\n",
       "      <td>2</td>\n",
       "    </tr>\n",
       "    <tr>\n",
       "      <th>5</th>\n",
       "      <td>6</td>\n",
       "      <td>3</td>\n",
       "      <td>johnsonamanda</td>\n",
       "      <td>4</td>\n",
       "    </tr>\n",
       "    <tr>\n",
       "      <th>6</th>\n",
       "      <td>7</td>\n",
       "      <td>3</td>\n",
       "      <td>scotttamara</td>\n",
       "      <td>5</td>\n",
       "    </tr>\n",
       "    <tr>\n",
       "      <th>7</th>\n",
       "      <td>8</td>\n",
       "      <td>3</td>\n",
       "      <td>lesliegibbs</td>\n",
       "      <td>5</td>\n",
       "    </tr>\n",
       "    <tr>\n",
       "      <th>8</th>\n",
       "      <td>9</td>\n",
       "      <td>4</td>\n",
       "      <td>abbottjames</td>\n",
       "      <td>5</td>\n",
       "    </tr>\n",
       "    <tr>\n",
       "      <th>9</th>\n",
       "      <td>10</td>\n",
       "      <td>4</td>\n",
       "      <td>valenciaanne</td>\n",
       "      <td>4</td>\n",
       "    </tr>\n",
       "  </tbody>\n",
       "</table>\n",
       "</div>"
      ],
      "text/plain": [
       "   rating_id  book_id       username  rating\n",
       "0          1        1     ryanfranco       4\n",
       "1          2        1  grantpatricia       2\n",
       "2          3        1   brandtandrea       5\n",
       "3          4        2       lorichen       3\n",
       "4          5        2    mariokeller       2\n",
       "5          6        3  johnsonamanda       4\n",
       "6          7        3    scotttamara       5\n",
       "7          8        3    lesliegibbs       5\n",
       "8          9        4    abbottjames       5\n",
       "9         10        4   valenciaanne       4"
      ]
     },
     "execution_count": 8,
     "metadata": {},
     "output_type": "execute_result"
    }
   ],
   "source": [
    "ratings='''\n",
    "SELECT *\n",
    "FROM ratings LIMIT(10);\n",
    "'''\n",
    "pd.io.sql.read_sql(ratings, con = engine)"
   ]
  },
  {
   "cell_type": "code",
   "execution_count": 9,
   "metadata": {},
   "outputs": [
    {
     "data": {
      "text/html": [
       "<div>\n",
       "<style scoped>\n",
       "    .dataframe tbody tr th:only-of-type {\n",
       "        vertical-align: middle;\n",
       "    }\n",
       "\n",
       "    .dataframe tbody tr th {\n",
       "        vertical-align: top;\n",
       "    }\n",
       "\n",
       "    .dataframe thead th {\n",
       "        text-align: right;\n",
       "    }\n",
       "</style>\n",
       "<table border=\"1\" class=\"dataframe\">\n",
       "  <thead>\n",
       "    <tr style=\"text-align: right;\">\n",
       "      <th></th>\n",
       "      <th>review_id</th>\n",
       "      <th>book_id</th>\n",
       "      <th>username</th>\n",
       "      <th>text</th>\n",
       "    </tr>\n",
       "  </thead>\n",
       "  <tbody>\n",
       "    <tr>\n",
       "      <th>0</th>\n",
       "      <td>1</td>\n",
       "      <td>1</td>\n",
       "      <td>brandtandrea</td>\n",
       "      <td>Mention society tell send professor analysis. ...</td>\n",
       "    </tr>\n",
       "    <tr>\n",
       "      <th>1</th>\n",
       "      <td>2</td>\n",
       "      <td>1</td>\n",
       "      <td>ryanfranco</td>\n",
       "      <td>Foot glass pretty audience hit themselves. Amo...</td>\n",
       "    </tr>\n",
       "    <tr>\n",
       "      <th>2</th>\n",
       "      <td>3</td>\n",
       "      <td>2</td>\n",
       "      <td>lorichen</td>\n",
       "      <td>Listen treat keep worry. Miss husband tax but ...</td>\n",
       "    </tr>\n",
       "    <tr>\n",
       "      <th>3</th>\n",
       "      <td>4</td>\n",
       "      <td>3</td>\n",
       "      <td>johnsonamanda</td>\n",
       "      <td>Finally month interesting blue could nature cu...</td>\n",
       "    </tr>\n",
       "    <tr>\n",
       "      <th>4</th>\n",
       "      <td>5</td>\n",
       "      <td>3</td>\n",
       "      <td>scotttamara</td>\n",
       "      <td>Nation purpose heavy give wait song will. List...</td>\n",
       "    </tr>\n",
       "    <tr>\n",
       "      <th>5</th>\n",
       "      <td>6</td>\n",
       "      <td>3</td>\n",
       "      <td>lesliegibbs</td>\n",
       "      <td>Analysis no several cause international.</td>\n",
       "    </tr>\n",
       "    <tr>\n",
       "      <th>6</th>\n",
       "      <td>7</td>\n",
       "      <td>4</td>\n",
       "      <td>valenciaanne</td>\n",
       "      <td>One there cost another. Say type save. With pe...</td>\n",
       "    </tr>\n",
       "    <tr>\n",
       "      <th>7</th>\n",
       "      <td>8</td>\n",
       "      <td>4</td>\n",
       "      <td>abbottjames</td>\n",
       "      <td>Within enough mother. There at system full rec...</td>\n",
       "    </tr>\n",
       "    <tr>\n",
       "      <th>8</th>\n",
       "      <td>9</td>\n",
       "      <td>5</td>\n",
       "      <td>npowers</td>\n",
       "      <td>Thank now focus realize economy focus fly. Ite...</td>\n",
       "    </tr>\n",
       "    <tr>\n",
       "      <th>9</th>\n",
       "      <td>10</td>\n",
       "      <td>5</td>\n",
       "      <td>staylor</td>\n",
       "      <td>Game push lot reduce where remember. Including...</td>\n",
       "    </tr>\n",
       "  </tbody>\n",
       "</table>\n",
       "</div>"
      ],
      "text/plain": [
       "   review_id  book_id       username  \\\n",
       "0          1        1   brandtandrea   \n",
       "1          2        1     ryanfranco   \n",
       "2          3        2       lorichen   \n",
       "3          4        3  johnsonamanda   \n",
       "4          5        3    scotttamara   \n",
       "5          6        3    lesliegibbs   \n",
       "6          7        4   valenciaanne   \n",
       "7          8        4    abbottjames   \n",
       "8          9        5        npowers   \n",
       "9         10        5        staylor   \n",
       "\n",
       "                                                text  \n",
       "0  Mention society tell send professor analysis. ...  \n",
       "1  Foot glass pretty audience hit themselves. Amo...  \n",
       "2  Listen treat keep worry. Miss husband tax but ...  \n",
       "3  Finally month interesting blue could nature cu...  \n",
       "4  Nation purpose heavy give wait song will. List...  \n",
       "5           Analysis no several cause international.  \n",
       "6  One there cost another. Say type save. With pe...  \n",
       "7  Within enough mother. There at system full rec...  \n",
       "8  Thank now focus realize economy focus fly. Ite...  \n",
       "9  Game push lot reduce where remember. Including...  "
      ]
     },
     "execution_count": 9,
     "metadata": {},
     "output_type": "execute_result"
    }
   ],
   "source": [
    "reviews='''\n",
    "SELECT *\n",
    "FROM reviews LIMIT(10);\n",
    "'''\n",
    "pd.io.sql.read_sql(reviews, con = engine)"
   ]
  },
  {
   "cell_type": "markdown",
   "metadata": {},
   "source": [
    "## 3. Посчитаем, сколько книг вышло после 1 января 2000 года."
   ]
  },
  {
   "cell_type": "code",
   "execution_count": 10,
   "metadata": {},
   "outputs": [
    {
     "data": {
      "text/html": [
       "<div>\n",
       "<style scoped>\n",
       "    .dataframe tbody tr th:only-of-type {\n",
       "        vertical-align: middle;\n",
       "    }\n",
       "\n",
       "    .dataframe tbody tr th {\n",
       "        vertical-align: top;\n",
       "    }\n",
       "\n",
       "    .dataframe thead th {\n",
       "        text-align: right;\n",
       "    }\n",
       "</style>\n",
       "<table border=\"1\" class=\"dataframe\">\n",
       "  <thead>\n",
       "    <tr style=\"text-align: right;\">\n",
       "      <th></th>\n",
       "      <th>count</th>\n",
       "    </tr>\n",
       "  </thead>\n",
       "  <tbody>\n",
       "    <tr>\n",
       "      <th>0</th>\n",
       "      <td>819</td>\n",
       "    </tr>\n",
       "  </tbody>\n",
       "</table>\n",
       "</div>"
      ],
      "text/plain": [
       "   count\n",
       "0    819"
      ]
     },
     "execution_count": 10,
     "metadata": {},
     "output_type": "execute_result"
    }
   ],
   "source": [
    "count_books='''\n",
    "SELECT COUNT(book_id)\n",
    "FROM books\n",
    "WHERE publication_date >'2000-01-01';\n",
    "'''\n",
    "pd.io.sql.read_sql(count_books, con = engine)"
   ]
  },
  {
   "cell_type": "markdown",
   "metadata": {},
   "source": [
    "**Комментарий.** После 1 января 2000 года выпустилось 819 книг."
   ]
  },
  {
   "cell_type": "markdown",
   "metadata": {},
   "source": [
    "## 4. Для каждой книги посчитаем количество обзоров и среднюю оценку."
   ]
  },
  {
   "cell_type": "code",
   "execution_count": 11,
   "metadata": {},
   "outputs": [
    {
     "data": {
      "text/html": [
       "<div>\n",
       "<style scoped>\n",
       "    .dataframe tbody tr th:only-of-type {\n",
       "        vertical-align: middle;\n",
       "    }\n",
       "\n",
       "    .dataframe tbody tr th {\n",
       "        vertical-align: top;\n",
       "    }\n",
       "\n",
       "    .dataframe thead th {\n",
       "        text-align: right;\n",
       "    }\n",
       "</style>\n",
       "<table border=\"1\" class=\"dataframe\">\n",
       "  <thead>\n",
       "    <tr style=\"text-align: right;\">\n",
       "      <th></th>\n",
       "      <th>title</th>\n",
       "      <th>book_id</th>\n",
       "      <th>text_count</th>\n",
       "      <th>avg_rating</th>\n",
       "    </tr>\n",
       "  </thead>\n",
       "  <tbody>\n",
       "    <tr>\n",
       "      <th>0</th>\n",
       "      <td>Twilight (Twilight  #1)</td>\n",
       "      <td>948</td>\n",
       "      <td>7</td>\n",
       "      <td>3.662500</td>\n",
       "    </tr>\n",
       "    <tr>\n",
       "      <th>1</th>\n",
       "      <td>Water for Elephants</td>\n",
       "      <td>963</td>\n",
       "      <td>6</td>\n",
       "      <td>3.977273</td>\n",
       "    </tr>\n",
       "    <tr>\n",
       "      <th>2</th>\n",
       "      <td>The Glass Castle</td>\n",
       "      <td>734</td>\n",
       "      <td>6</td>\n",
       "      <td>4.206897</td>\n",
       "    </tr>\n",
       "    <tr>\n",
       "      <th>3</th>\n",
       "      <td>Harry Potter and the Prisoner of Azkaban (Harr...</td>\n",
       "      <td>302</td>\n",
       "      <td>6</td>\n",
       "      <td>4.414634</td>\n",
       "    </tr>\n",
       "    <tr>\n",
       "      <th>4</th>\n",
       "      <td>The Curious Incident of the Dog in the Night-Time</td>\n",
       "      <td>695</td>\n",
       "      <td>6</td>\n",
       "      <td>4.081081</td>\n",
       "    </tr>\n",
       "    <tr>\n",
       "      <th>...</th>\n",
       "      <td>...</td>\n",
       "      <td>...</td>\n",
       "      <td>...</td>\n",
       "      <td>...</td>\n",
       "    </tr>\n",
       "    <tr>\n",
       "      <th>995</th>\n",
       "      <td>Anne Rice's The Vampire Lestat: A Graphic Novel</td>\n",
       "      <td>83</td>\n",
       "      <td>0</td>\n",
       "      <td>3.666667</td>\n",
       "    </tr>\n",
       "    <tr>\n",
       "      <th>996</th>\n",
       "      <td>The Natural Way to Draw</td>\n",
       "      <td>808</td>\n",
       "      <td>0</td>\n",
       "      <td>3.000000</td>\n",
       "    </tr>\n",
       "    <tr>\n",
       "      <th>997</th>\n",
       "      <td>The Cat in the Hat and Other Dr. Seuss Favorites</td>\n",
       "      <td>672</td>\n",
       "      <td>0</td>\n",
       "      <td>5.000000</td>\n",
       "    </tr>\n",
       "    <tr>\n",
       "      <th>998</th>\n",
       "      <td>Essential Tales and Poems</td>\n",
       "      <td>221</td>\n",
       "      <td>0</td>\n",
       "      <td>4.000000</td>\n",
       "    </tr>\n",
       "    <tr>\n",
       "      <th>999</th>\n",
       "      <td>Disney's Beauty and the Beast (A Little Golden...</td>\n",
       "      <td>191</td>\n",
       "      <td>0</td>\n",
       "      <td>4.000000</td>\n",
       "    </tr>\n",
       "  </tbody>\n",
       "</table>\n",
       "<p>1000 rows × 4 columns</p>\n",
       "</div>"
      ],
      "text/plain": [
       "                                                 title  book_id  text_count  \\\n",
       "0                              Twilight (Twilight  #1)      948           7   \n",
       "1                                  Water for Elephants      963           6   \n",
       "2                                     The Glass Castle      734           6   \n",
       "3    Harry Potter and the Prisoner of Azkaban (Harr...      302           6   \n",
       "4    The Curious Incident of the Dog in the Night-Time      695           6   \n",
       "..                                                 ...      ...         ...   \n",
       "995    Anne Rice's The Vampire Lestat: A Graphic Novel       83           0   \n",
       "996                            The Natural Way to Draw      808           0   \n",
       "997   The Cat in the Hat and Other Dr. Seuss Favorites      672           0   \n",
       "998                          Essential Tales and Poems      221           0   \n",
       "999  Disney's Beauty and the Beast (A Little Golden...      191           0   \n",
       "\n",
       "     avg_rating  \n",
       "0      3.662500  \n",
       "1      3.977273  \n",
       "2      4.206897  \n",
       "3      4.414634  \n",
       "4      4.081081  \n",
       "..          ...  \n",
       "995    3.666667  \n",
       "996    3.000000  \n",
       "997    5.000000  \n",
       "998    4.000000  \n",
       "999    4.000000  \n",
       "\n",
       "[1000 rows x 4 columns]"
      ]
     },
     "execution_count": 11,
     "metadata": {},
     "output_type": "execute_result"
    }
   ],
   "source": [
    "books_rating= '''\n",
    "SELECT b.title,\n",
    "b.book_id,\n",
    "COUNT(DISTINCT re.text)AS text_count,\n",
    "AVG(r.rating) AS avg_rating\n",
    "FROM books b\n",
    "LEFT JOIN ratings r ON  b.book_id=r.book_id\n",
    "LEFT JOIN reviews re ON re.book_id=b.book_id\n",
    "GROUP BY b.title,\n",
    "b.book_id \n",
    "ORDER BY text_count DESC\n",
    "\n",
    "'''\n",
    "pd.io.sql.read_sql(books_rating, con = engine)"
   ]
  },
  {
   "cell_type": "markdown",
   "metadata": {},
   "source": [
    "**Комментарий**  Самое большое количесво обзоров у книги Twilight (Twilight #1)\t, средняя оценка данной книги составила (3.66), также много книг у которых количнссво обзоров 6. Самая высокая средняя оценка около 5."
   ]
  },
  {
   "cell_type": "markdown",
   "metadata": {},
   "source": [
    "## 5. Определим издательство, которое выпустило наибольшее число книг толще 50 страниц"
   ]
  },
  {
   "cell_type": "code",
   "execution_count": 11,
   "metadata": {},
   "outputs": [
    {
     "data": {
      "text/html": [
       "<div>\n",
       "<style scoped>\n",
       "    .dataframe tbody tr th:only-of-type {\n",
       "        vertical-align: middle;\n",
       "    }\n",
       "\n",
       "    .dataframe tbody tr th {\n",
       "        vertical-align: top;\n",
       "    }\n",
       "\n",
       "    .dataframe thead th {\n",
       "        text-align: right;\n",
       "    }\n",
       "</style>\n",
       "<table border=\"1\" class=\"dataframe\">\n",
       "  <thead>\n",
       "    <tr style=\"text-align: right;\">\n",
       "      <th></th>\n",
       "      <th>publisher</th>\n",
       "      <th>book_count</th>\n",
       "    </tr>\n",
       "  </thead>\n",
       "  <tbody>\n",
       "    <tr>\n",
       "      <th>0</th>\n",
       "      <td>Penguin Books</td>\n",
       "      <td>42</td>\n",
       "    </tr>\n",
       "    <tr>\n",
       "      <th>1</th>\n",
       "      <td>Vintage</td>\n",
       "      <td>31</td>\n",
       "    </tr>\n",
       "    <tr>\n",
       "      <th>2</th>\n",
       "      <td>Grand Central Publishing</td>\n",
       "      <td>25</td>\n",
       "    </tr>\n",
       "    <tr>\n",
       "      <th>3</th>\n",
       "      <td>Penguin Classics</td>\n",
       "      <td>24</td>\n",
       "    </tr>\n",
       "    <tr>\n",
       "      <th>4</th>\n",
       "      <td>Ballantine Books</td>\n",
       "      <td>19</td>\n",
       "    </tr>\n",
       "    <tr>\n",
       "      <th>5</th>\n",
       "      <td>Bantam</td>\n",
       "      <td>19</td>\n",
       "    </tr>\n",
       "    <tr>\n",
       "      <th>6</th>\n",
       "      <td>Berkley</td>\n",
       "      <td>17</td>\n",
       "    </tr>\n",
       "    <tr>\n",
       "      <th>7</th>\n",
       "      <td>St. Martin's Press</td>\n",
       "      <td>14</td>\n",
       "    </tr>\n",
       "    <tr>\n",
       "      <th>8</th>\n",
       "      <td>Berkley Books</td>\n",
       "      <td>14</td>\n",
       "    </tr>\n",
       "    <tr>\n",
       "      <th>9</th>\n",
       "      <td>William Morrow Paperbacks</td>\n",
       "      <td>13</td>\n",
       "    </tr>\n",
       "  </tbody>\n",
       "</table>\n",
       "</div>"
      ],
      "text/plain": [
       "                   publisher  book_count\n",
       "0              Penguin Books          42\n",
       "1                    Vintage          31\n",
       "2   Grand Central Publishing          25\n",
       "3           Penguin Classics          24\n",
       "4           Ballantine Books          19\n",
       "5                     Bantam          19\n",
       "6                    Berkley          17\n",
       "7         St. Martin's Press          14\n",
       "8              Berkley Books          14\n",
       "9  William Morrow Paperbacks          13"
      ]
     },
     "execution_count": 11,
     "metadata": {},
     "output_type": "execute_result"
    }
   ],
   "source": [
    "publisher='''\n",
    "SELECT publisher,\n",
    "COUNT(b.book_id) AS book_count\n",
    "FROM publishers p\n",
    "INNER JOIN books b ON p.publisher_id=b.publisher_id\n",
    "WHERE num_pages> 50\n",
    "GROUP BY p.publisher\n",
    "ORDER BY book_count DESC\n",
    "LIMIT(10);\n",
    "\n",
    "'''\n",
    "pd.io.sql.read_sql(publisher, con = engine)"
   ]
  },
  {
   "cell_type": "markdown",
   "metadata": {},
   "source": [
    "**Комментарий** Издательство Penguin Books выпустило максимальное количесво книг(42), толще 50 страниц."
   ]
  },
  {
   "cell_type": "markdown",
   "metadata": {},
   "source": [
    "## 6. Определим автора с самой высокой средней оценкой книг — учитём только книги с 50 и более оценками."
   ]
  },
  {
   "cell_type": "code",
   "execution_count": 20,
   "metadata": {},
   "outputs": [
    {
     "data": {
      "text/html": [
       "<div>\n",
       "<style scoped>\n",
       "    .dataframe tbody tr th:only-of-type {\n",
       "        vertical-align: middle;\n",
       "    }\n",
       "\n",
       "    .dataframe tbody tr th {\n",
       "        vertical-align: top;\n",
       "    }\n",
       "\n",
       "    .dataframe thead th {\n",
       "        text-align: right;\n",
       "    }\n",
       "</style>\n",
       "<table border=\"1\" class=\"dataframe\">\n",
       "  <thead>\n",
       "    <tr style=\"text-align: right;\">\n",
       "      <th></th>\n",
       "      <th>author</th>\n",
       "      <th>avg_rating</th>\n",
       "    </tr>\n",
       "  </thead>\n",
       "  <tbody>\n",
       "    <tr>\n",
       "      <th>0</th>\n",
       "      <td>J.K. Rowling/Mary GrandPré</td>\n",
       "      <td>4.283844</td>\n",
       "    </tr>\n",
       "    <tr>\n",
       "      <th>1</th>\n",
       "      <td>Markus Zusak/Cao Xuân Việt Khương</td>\n",
       "      <td>4.264151</td>\n",
       "    </tr>\n",
       "    <tr>\n",
       "      <th>2</th>\n",
       "      <td>J.R.R. Tolkien</td>\n",
       "      <td>4.258446</td>\n",
       "    </tr>\n",
       "    <tr>\n",
       "      <th>3</th>\n",
       "      <td>Louisa May Alcott</td>\n",
       "      <td>4.192308</td>\n",
       "    </tr>\n",
       "    <tr>\n",
       "      <th>4</th>\n",
       "      <td>Rick Riordan</td>\n",
       "      <td>4.080645</td>\n",
       "    </tr>\n",
       "    <tr>\n",
       "      <th>5</th>\n",
       "      <td>William Golding</td>\n",
       "      <td>3.901408</td>\n",
       "    </tr>\n",
       "    <tr>\n",
       "      <th>6</th>\n",
       "      <td>J.D. Salinger</td>\n",
       "      <td>3.825581</td>\n",
       "    </tr>\n",
       "    <tr>\n",
       "      <th>7</th>\n",
       "      <td>Paulo Coelho/Alan R. Clarke/Özdemir İnce</td>\n",
       "      <td>3.789474</td>\n",
       "    </tr>\n",
       "    <tr>\n",
       "      <th>8</th>\n",
       "      <td>William Shakespeare/Paul Werstine/Barbara A. M...</td>\n",
       "      <td>3.787879</td>\n",
       "    </tr>\n",
       "    <tr>\n",
       "      <th>9</th>\n",
       "      <td>Dan Brown</td>\n",
       "      <td>3.754540</td>\n",
       "    </tr>\n",
       "    <tr>\n",
       "      <th>10</th>\n",
       "      <td>Lois Lowry</td>\n",
       "      <td>3.750000</td>\n",
       "    </tr>\n",
       "    <tr>\n",
       "      <th>11</th>\n",
       "      <td>George Orwell/Boris Grabnar/Peter Škerl</td>\n",
       "      <td>3.729730</td>\n",
       "    </tr>\n",
       "    <tr>\n",
       "      <th>12</th>\n",
       "      <td>Stephenie Meyer</td>\n",
       "      <td>3.662500</td>\n",
       "    </tr>\n",
       "    <tr>\n",
       "      <th>13</th>\n",
       "      <td>John Steinbeck</td>\n",
       "      <td>3.622951</td>\n",
       "    </tr>\n",
       "  </tbody>\n",
       "</table>\n",
       "</div>"
      ],
      "text/plain": [
       "                                               author  avg_rating\n",
       "0                          J.K. Rowling/Mary GrandPré    4.283844\n",
       "1                   Markus Zusak/Cao Xuân Việt Khương    4.264151\n",
       "2                                      J.R.R. Tolkien    4.258446\n",
       "3                                   Louisa May Alcott    4.192308\n",
       "4                                        Rick Riordan    4.080645\n",
       "5                                     William Golding    3.901408\n",
       "6                                       J.D. Salinger    3.825581\n",
       "7            Paulo Coelho/Alan R. Clarke/Özdemir İnce    3.789474\n",
       "8   William Shakespeare/Paul Werstine/Barbara A. M...    3.787879\n",
       "9                                           Dan Brown    3.754540\n",
       "10                                         Lois Lowry    3.750000\n",
       "11            George Orwell/Boris Grabnar/Peter Škerl    3.729730\n",
       "12                                    Stephenie Meyer    3.662500\n",
       "13                                     John Steinbeck    3.622951"
      ]
     },
     "execution_count": 20,
     "metadata": {},
     "output_type": "execute_result"
    }
   ],
   "source": [
    "autor= '''\n",
    "SELECT\n",
    "      p.author AS author,\n",
    "      AVG(p.avg_rating) AS avg_rating\n",
    "FROM\n",
    "(SELECT\n",
    "     a.author AS author,\n",
    "     b.book_id,\n",
    "     AVG(r.rating) AS avg_rating\n",
    "FROM\n",
    "    authors a\n",
    "INNER JOIN books b ON b.author_id = a.author_id\n",
    "INNER JOIN ratings r ON r.book_id = b.book_id\n",
    "GROUP BY\n",
    "    author,\n",
    "    b.book_id\n",
    "    HAVING\n",
    "    COUNT(r.rating) >= 50) AS p\n",
    "GROUP BY\n",
    "    author\n",
    "ORDER BY\n",
    "    avg_rating DESC\n",
    "'''\n",
    "\n",
    "pd.io.sql.read_sql(autor, con = engine)\n",
    "\n"
   ]
  },
  {
   "cell_type": "markdown",
   "metadata": {},
   "source": [
    "**Комментарий.** Самая высокая средняя оценка у автора J.K. Rowling/Mary GrandPré 4.28."
   ]
  },
  {
   "cell_type": "markdown",
   "metadata": {},
   "source": [
    "## 7. Посчитаем среднее количество обзоров от пользователей, которые поставили больше 50 оценок."
   ]
  },
  {
   "cell_type": "code",
   "execution_count": 13,
   "metadata": {},
   "outputs": [
    {
     "data": {
      "text/html": [
       "<div>\n",
       "<style scoped>\n",
       "    .dataframe tbody tr th:only-of-type {\n",
       "        vertical-align: middle;\n",
       "    }\n",
       "\n",
       "    .dataframe tbody tr th {\n",
       "        vertical-align: top;\n",
       "    }\n",
       "\n",
       "    .dataframe thead th {\n",
       "        text-align: right;\n",
       "    }\n",
       "</style>\n",
       "<table border=\"1\" class=\"dataframe\">\n",
       "  <thead>\n",
       "    <tr style=\"text-align: right;\">\n",
       "      <th></th>\n",
       "      <th>round</th>\n",
       "    </tr>\n",
       "  </thead>\n",
       "  <tbody>\n",
       "    <tr>\n",
       "      <th>0</th>\n",
       "      <td>24.0</td>\n",
       "    </tr>\n",
       "  </tbody>\n",
       "</table>\n",
       "</div>"
      ],
      "text/plain": [
       "   round\n",
       "0   24.0"
      ]
     },
     "execution_count": 13,
     "metadata": {},
     "output_type": "execute_result"
    }
   ],
   "source": [
    "avg_text='''\n",
    "SELECT ROUND(avg(count)) \n",
    "FROM\n",
    "(SELECT\n",
    "    COUNT(text)\n",
    "FROM \n",
    "    reviews\n",
    "FULL OUTER JOIN (SELECT username,\n",
    "                COUNT(rating_id) as count_r\n",
    "FROM \n",
    "    ratings\n",
    "GROUP BY\n",
    "        username) AS count_r\n",
    "ON count_r.username = reviews.username\n",
    "where count_r  > 50\n",
    "GROUP BY reviews.username) as count;\n",
    "'''\n",
    "pd.io.sql.read_sql(avg_text, con = engine)"
   ]
  },
  {
   "cell_type": "markdown",
   "metadata": {},
   "source": [
    "# 8. Bывод:  \n",
    "В таблице count_books лежит информация о количесве книг вышедших после 1 января 2000 года, таких книг выпустилось 819.\n",
    "\n",
    "В таблице books_rating лежит информация о средних оценках и количесве обзорах на книги. Самая высокая средняя оценка около 5, количесво большое число количесво обзоров составило 7.\n",
    "\n",
    "Также нами был найден автор у которго самая высока средняя оценка  J.K. Rowling/Mary GrandPré 4.28 эти данные хранятся в таблице autor.\n",
    "\n",
    "Мы посчитали  среднее количество обзоров от пользователей, которые поставили больше 50 оценок. оно составило 24 эти данные хоанятся в таблице avg_text.\n",
    "\n",
    "Было найдено издательство которое выпустило наибольшее число книг толще 50 страниц-Издательство Penguin Books выпустило максимальное количесво книг(42). Эти данные хранятся в таблице publisher."
   ]
  }
 ],
 "metadata": {
  "ExecuteTimeLog": [
   {
    "duration": 479,
    "start_time": "2023-03-06T10:13:04.807Z"
   },
   {
    "duration": 3,
    "start_time": "2023-03-06T10:13:11.519Z"
   },
   {
    "duration": 3,
    "start_time": "2023-03-06T10:13:20.256Z"
   },
   {
    "duration": 2,
    "start_time": "2023-03-06T10:13:31.930Z"
   },
   {
    "duration": 8513,
    "start_time": "2023-03-06T10:13:57.723Z"
   },
   {
    "duration": 65,
    "start_time": "2023-03-06T10:14:09.919Z"
   },
   {
    "duration": 59,
    "start_time": "2023-03-06T10:46:10.145Z"
   },
   {
    "duration": 13,
    "start_time": "2023-03-06T10:48:31.607Z"
   },
   {
    "duration": 12,
    "start_time": "2023-03-06T10:50:49.076Z"
   },
   {
    "duration": 13,
    "start_time": "2023-03-06T10:51:53.601Z"
   },
   {
    "duration": 14,
    "start_time": "2023-03-06T10:52:49.098Z"
   },
   {
    "duration": 13,
    "start_time": "2023-03-06T10:53:37.302Z"
   },
   {
    "duration": 101,
    "start_time": "2023-03-06T11:02:59.789Z"
   },
   {
    "duration": 98,
    "start_time": "2023-03-06T11:03:31.599Z"
   },
   {
    "duration": 96,
    "start_time": "2023-03-06T11:03:49.707Z"
   },
   {
    "duration": 13,
    "start_time": "2023-03-06T11:04:31.550Z"
   },
   {
    "duration": 91,
    "start_time": "2023-03-06T11:18:19.555Z"
   },
   {
    "duration": 27,
    "start_time": "2023-03-06T11:19:51.795Z"
   },
   {
    "duration": 26,
    "start_time": "2023-03-06T11:21:45.506Z"
   },
   {
    "duration": 14,
    "start_time": "2023-03-06T11:37:46.053Z"
   },
   {
    "duration": 103,
    "start_time": "2023-03-06T11:39:21.199Z"
   },
   {
    "duration": 121,
    "start_time": "2023-03-06T11:40:01.720Z"
   },
   {
    "duration": 14,
    "start_time": "2023-03-06T11:40:11.884Z"
   },
   {
    "duration": 87,
    "start_time": "2023-03-06T11:40:46.906Z"
   },
   {
    "duration": 96,
    "start_time": "2023-03-06T11:40:56.707Z"
   },
   {
    "duration": 3,
    "start_time": "2023-03-06T11:51:26.345Z"
   },
   {
    "duration": 4,
    "start_time": "2023-03-06T11:51:26.843Z"
   },
   {
    "duration": 5,
    "start_time": "2023-03-06T11:51:26.995Z"
   },
   {
    "duration": 53,
    "start_time": "2023-03-06T11:51:27.120Z"
   },
   {
    "duration": 11,
    "start_time": "2023-03-06T11:51:27.495Z"
   },
   {
    "duration": 11,
    "start_time": "2023-03-06T11:51:27.698Z"
   },
   {
    "duration": 12,
    "start_time": "2023-03-06T11:51:27.909Z"
   },
   {
    "duration": 12,
    "start_time": "2023-03-06T11:51:28.108Z"
   },
   {
    "duration": 11,
    "start_time": "2023-03-06T11:51:28.446Z"
   },
   {
    "duration": 30,
    "start_time": "2023-03-06T11:51:28.837Z"
   },
   {
    "duration": 15,
    "start_time": "2023-03-06T11:59:38.683Z"
   },
   {
    "duration": 16,
    "start_time": "2023-03-06T12:10:52.708Z"
   },
   {
    "duration": 15,
    "start_time": "2023-03-06T12:11:23.521Z"
   },
   {
    "duration": 507,
    "start_time": "2023-03-06T17:42:11.796Z"
   },
   {
    "duration": 3,
    "start_time": "2023-03-06T17:42:12.304Z"
   },
   {
    "duration": 8848,
    "start_time": "2023-03-06T17:42:12.780Z"
   },
   {
    "duration": 590,
    "start_time": "2023-03-06T17:42:21.630Z"
   },
   {
    "duration": 119,
    "start_time": "2023-03-06T17:42:22.221Z"
   },
   {
    "duration": 98,
    "start_time": "2023-03-06T17:42:22.345Z"
   },
   {
    "duration": 124,
    "start_time": "2023-03-06T17:42:22.448Z"
   },
   {
    "duration": 115,
    "start_time": "2023-03-06T17:42:22.575Z"
   },
   {
    "duration": 105,
    "start_time": "2023-03-06T17:42:22.691Z"
   },
   {
    "duration": 176,
    "start_time": "2023-03-06T17:42:22.798Z"
   },
   {
    "duration": 113,
    "start_time": "2023-03-06T17:42:22.977Z"
   },
   {
    "duration": 107,
    "start_time": "2023-03-06T17:42:23.092Z"
   },
   {
    "duration": 315,
    "start_time": "2023-03-06T18:13:37.078Z"
   },
   {
    "duration": 98,
    "start_time": "2023-03-06T18:14:39.616Z"
   },
   {
    "duration": 147,
    "start_time": "2023-03-06T18:17:21.601Z"
   },
   {
    "duration": 89,
    "start_time": "2023-03-06T18:17:29.456Z"
   },
   {
    "duration": 118,
    "start_time": "2023-03-06T18:17:32.168Z"
   },
   {
    "duration": 100,
    "start_time": "2023-03-06T18:17:36.702Z"
   },
   {
    "duration": 147,
    "start_time": "2023-03-06T18:21:32.387Z"
   },
   {
    "duration": 246,
    "start_time": "2023-03-06T18:23:37.060Z"
   },
   {
    "duration": 156,
    "start_time": "2023-03-06T18:23:58.864Z"
   },
   {
    "duration": 164,
    "start_time": "2023-03-06T18:25:32.213Z"
   },
   {
    "duration": 128,
    "start_time": "2023-03-06T18:27:24.379Z"
   },
   {
    "duration": 105,
    "start_time": "2023-03-06T18:27:48.903Z"
   },
   {
    "duration": 108,
    "start_time": "2023-03-06T18:28:34.978Z"
   },
   {
    "duration": 102,
    "start_time": "2023-03-06T18:28:45.316Z"
   },
   {
    "duration": 63,
    "start_time": "2023-03-06T18:30:51.819Z"
   },
   {
    "duration": 239,
    "start_time": "2023-03-06T18:32:00.456Z"
   },
   {
    "duration": 120,
    "start_time": "2023-03-06T18:32:12.016Z"
   },
   {
    "duration": 103,
    "start_time": "2023-03-06T18:32:50.798Z"
   },
   {
    "duration": 157,
    "start_time": "2023-03-06T18:33:00.518Z"
   },
   {
    "duration": 114,
    "start_time": "2023-03-06T18:34:41.868Z"
   },
   {
    "duration": 109,
    "start_time": "2023-03-06T18:37:41.975Z"
   },
   {
    "duration": 147,
    "start_time": "2023-03-06T18:37:57.724Z"
   },
   {
    "duration": 116,
    "start_time": "2023-03-06T18:38:06.202Z"
   },
   {
    "duration": 494,
    "start_time": "2023-03-06T20:23:05.955Z"
   },
   {
    "duration": 3,
    "start_time": "2023-03-06T20:23:06.451Z"
   },
   {
    "duration": 5059,
    "start_time": "2023-03-06T20:23:06.455Z"
   },
   {
    "duration": 329,
    "start_time": "2023-03-06T20:23:11.515Z"
   },
   {
    "duration": 92,
    "start_time": "2023-03-06T20:23:11.845Z"
   },
   {
    "duration": 97,
    "start_time": "2023-03-06T20:23:11.939Z"
   },
   {
    "duration": 99,
    "start_time": "2023-03-06T20:23:12.038Z"
   },
   {
    "duration": 96,
    "start_time": "2023-03-06T20:23:12.138Z"
   },
   {
    "duration": 97,
    "start_time": "2023-03-06T20:23:12.236Z"
   },
   {
    "duration": 129,
    "start_time": "2023-03-06T20:23:12.336Z"
   },
   {
    "duration": 80,
    "start_time": "2023-03-06T20:23:12.467Z"
   },
   {
    "duration": 84,
    "start_time": "2023-03-06T20:23:12.548Z"
   },
   {
    "duration": 78,
    "start_time": "2023-03-06T20:23:12.634Z"
   },
   {
    "duration": 528,
    "start_time": "2023-03-07T09:53:58.796Z"
   },
   {
    "duration": 3,
    "start_time": "2023-03-07T09:53:59.326Z"
   },
   {
    "duration": 7181,
    "start_time": "2023-03-07T09:53:59.330Z"
   },
   {
    "duration": 273,
    "start_time": "2023-03-07T09:54:06.513Z"
   },
   {
    "duration": 82,
    "start_time": "2023-03-07T09:54:06.787Z"
   },
   {
    "duration": 75,
    "start_time": "2023-03-07T09:54:06.870Z"
   },
   {
    "duration": 76,
    "start_time": "2023-03-07T09:54:06.946Z"
   },
   {
    "duration": 77,
    "start_time": "2023-03-07T09:54:07.024Z"
   },
   {
    "duration": 98,
    "start_time": "2023-03-07T09:54:07.102Z"
   },
   {
    "duration": 93,
    "start_time": "2023-03-07T09:54:07.201Z"
   },
   {
    "duration": 122,
    "start_time": "2023-03-07T09:54:20.334Z"
   },
   {
    "duration": 216,
    "start_time": "2023-03-07T10:14:18.287Z"
   },
   {
    "duration": 228,
    "start_time": "2023-03-07T10:20:24.388Z"
   },
   {
    "duration": 140,
    "start_time": "2023-03-07T10:20:39.591Z"
   },
   {
    "duration": 138,
    "start_time": "2023-03-07T10:53:57.393Z"
   },
   {
    "duration": 150,
    "start_time": "2023-03-07T10:54:55.488Z"
   },
   {
    "duration": 132,
    "start_time": "2023-03-07T10:56:05.881Z"
   },
   {
    "duration": 130,
    "start_time": "2023-03-07T11:01:14.304Z"
   },
   {
    "duration": 141,
    "start_time": "2023-03-07T11:01:29.589Z"
   },
   {
    "duration": 81,
    "start_time": "2023-03-07T11:01:52.615Z"
   },
   {
    "duration": 522,
    "start_time": "2023-03-07T13:14:22.495Z"
   },
   {
    "duration": 3,
    "start_time": "2023-03-07T13:14:23.219Z"
   },
   {
    "duration": 5896,
    "start_time": "2023-03-07T13:14:23.445Z"
   },
   {
    "duration": 280,
    "start_time": "2023-03-07T13:14:29.343Z"
   },
   {
    "duration": 76,
    "start_time": "2023-03-07T13:14:29.625Z"
   },
   {
    "duration": 75,
    "start_time": "2023-03-07T13:14:29.703Z"
   },
   {
    "duration": 76,
    "start_time": "2023-03-07T13:14:29.780Z"
   },
   {
    "duration": 78,
    "start_time": "2023-03-07T13:14:29.858Z"
   },
   {
    "duration": 75,
    "start_time": "2023-03-07T13:14:29.937Z"
   },
   {
    "duration": 118,
    "start_time": "2023-03-07T13:14:30.014Z"
   },
   {
    "duration": 78,
    "start_time": "2023-03-07T13:14:32.213Z"
   },
   {
    "duration": 47,
    "start_time": "2023-03-08T05:51:43.112Z"
   },
   {
    "duration": 520,
    "start_time": "2023-03-08T05:51:50.892Z"
   },
   {
    "duration": 3,
    "start_time": "2023-03-08T05:51:51.434Z"
   },
   {
    "duration": 4721,
    "start_time": "2023-03-08T05:51:52.000Z"
   },
   {
    "duration": 274,
    "start_time": "2023-03-08T05:51:56.724Z"
   },
   {
    "duration": 76,
    "start_time": "2023-03-08T05:51:57.000Z"
   },
   {
    "duration": 77,
    "start_time": "2023-03-08T05:51:57.079Z"
   },
   {
    "duration": 77,
    "start_time": "2023-03-08T05:51:57.158Z"
   },
   {
    "duration": 77,
    "start_time": "2023-03-08T05:51:57.237Z"
   },
   {
    "duration": 74,
    "start_time": "2023-03-08T05:51:57.316Z"
   },
   {
    "duration": 122,
    "start_time": "2023-03-08T05:51:57.392Z"
   }
  ],
  "kernelspec": {
   "display_name": "Python 3 (ipykernel)",
   "language": "python",
   "name": "python3"
  },
  "language_info": {
   "codemirror_mode": {
    "name": "ipython",
    "version": 3
   },
   "file_extension": ".py",
   "mimetype": "text/x-python",
   "name": "python",
   "nbconvert_exporter": "python",
   "pygments_lexer": "ipython3",
   "version": "3.9.13"
  },
  "toc": {
   "base_numbering": 1,
   "nav_menu": {},
   "number_sections": true,
   "sideBar": true,
   "skip_h1_title": true,
   "title_cell": "Table of Contents",
   "title_sidebar": "Contents",
   "toc_cell": false,
   "toc_position": {},
   "toc_section_display": true,
   "toc_window_display": false
  }
 },
 "nbformat": 4,
 "nbformat_minor": 2
}
